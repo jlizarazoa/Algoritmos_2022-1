{
  "nbformat": 4,
  "nbformat_minor": 0,
  "metadata": {
    "colab": {
      "name": "Copia de lab1.ipynb",
      "provenance": [],
      "collapsed_sections": [],
      "toc_visible": true
    },
    "kernelspec": {
      "display_name": "Python 3",
      "language": "python",
      "name": "python3"
    },
    "language_info": {
      "codemirror_mode": {
        "name": "ipython",
        "version": 3
      },
      "file_extension": ".py",
      "mimetype": "text/x-python",
      "name": "python",
      "nbconvert_exporter": "python",
      "pygments_lexer": "ipython3",
      "version": "3.6.4"
    }
  },
  "cells": [
    {
      "cell_type": "markdown",
      "metadata": {
        "id": "eQzBbvyKQymx"
      },
      "source": [
        "<div align=\"center\">\n",
        "<img style=\"display: block; margin: auto;\" alt=\"photo\" src=\"https://cdn.quantconnect.com/web/i/icon.png\">\n",
        "\n",
        "Quantconnect\n",
        "\n",
        "Introduction to Financial Python\n",
        "</div>\n",
        "\n",
        "# 01 Data Types and Data Structures\n",
        "\n",
        "# Introduction\n",
        "\n",
        "This tutorial provides a basic introduction to the Python programming language. If you are new to Python, you should run the code snippets while reading this tutorial. If you are an advanced Python user, please feel free to skip this chapter.\n",
        "\n",
        "# Basic Variable Types\n",
        "The basic types of variables in Python are: strings, integers, floating point numbers and booleans.\n",
        "\n",
        "Strings in python are identified as a contiguous set of characters represented in either single quotes (' ') or double quotes (\" \").\n"
      ]
    },
    {
      "cell_type": "code",
      "metadata": {
        "colab": {
          "base_uri": "https://localhost:8080/"
        },
        "id": "N5t-UrcfOqid",
        "outputId": "6588ae94-97f4-4566-bec8-16064c7ab680"
      },
      "source": [
        "my_string1 = 'Welcome to'\n",
        "my_string2 = \"QuantConnect\"\n",
        "print(my_string1 + ' ' + my_string2)"
      ],
      "execution_count": null,
      "outputs": [
        {
          "output_type": "stream",
          "name": "stdout",
          "text": [
            "Welcome to QuantConnect\n"
          ]
        }
      ]
    },
    {
      "cell_type": "code",
      "source": [
        "#Example\n",
        "string1 = \"Hello\"\n",
        "string2 = \"world\"\n",
        "#Se concatenan dos strings\n",
        "print(string1 + \" \" + string2 + \" earthling!\")"
      ],
      "metadata": {
        "colab": {
          "base_uri": "https://localhost:8080/"
        },
        "id": "H27xADXXwynp",
        "outputId": "b90d9685-7fa9-4ef3-bf4f-05b0eb054977"
      },
      "execution_count": null,
      "outputs": [
        {
          "output_type": "stream",
          "name": "stdout",
          "text": [
            "Hello world earthling!\n"
          ]
        }
      ]
    },
    {
      "cell_type": "markdown",
      "metadata": {
        "id": "bXHnxZyHSd1M"
      },
      "source": [
        "An integer is a round number with no values after the decimal point."
      ]
    },
    {
      "cell_type": "code",
      "metadata": {
        "colab": {
          "base_uri": "https://localhost:8080/"
        },
        "id": "pNjuz3toOqif",
        "outputId": "d543c41e-0f15-487d-93f2-c0f4beab09bb"
      },
      "source": [
        "my_int = 10\n",
        "print(my_int)\n",
        "print(type(my_int))"
      ],
      "execution_count": null,
      "outputs": [
        {
          "output_type": "stream",
          "name": "stdout",
          "text": [
            "10\n",
            "<class 'int'>\n"
          ]
        }
      ]
    },
    {
      "cell_type": "markdown",
      "metadata": {
        "id": "_1ZanWrYSnzF"
      },
      "source": [
        "The built-in function int() can convert a string into an integer."
      ]
    },
    {
      "cell_type": "code",
      "metadata": {
        "colab": {
          "base_uri": "https://localhost:8080/"
        },
        "id": "zPwGb20FOqif",
        "outputId": "578dce75-668e-4668-c593-f72214175888"
      },
      "source": [
        "my_string = \"100\"\n",
        "print(type(my_string))\n",
        "my_int = int(my_string)\n",
        "print(type(my_int))"
      ],
      "execution_count": null,
      "outputs": [
        {
          "output_type": "stream",
          "name": "stdout",
          "text": [
            "<class 'str'>\n",
            "<class 'int'>\n"
          ]
        }
      ]
    },
    {
      "cell_type": "code",
      "source": [
        "#Example\n",
        "#Error: There's an error if you try to convert something that is not a int\n",
        "not_an_int = \"Hi\"\n",
        "print(type(not_an_int))\n",
        "not_an_int = int(not_an_int)\n",
        "print(type(not_an_int))"
      ],
      "metadata": {
        "colab": {
          "base_uri": "https://localhost:8080/",
          "height": 234
        },
        "id": "TxhTPqfWzXCH",
        "outputId": "626ab94c-c688-4c5a-9a46-41ad5ddc6803"
      },
      "execution_count": null,
      "outputs": [
        {
          "output_type": "stream",
          "name": "stdout",
          "text": [
            "<class 'str'>\n"
          ]
        },
        {
          "output_type": "error",
          "ename": "ValueError",
          "evalue": "ignored",
          "traceback": [
            "\u001b[0;31m---------------------------------------------------------------------------\u001b[0m",
            "\u001b[0;31mValueError\u001b[0m                                Traceback (most recent call last)",
            "\u001b[0;32m<ipython-input-7-d70228f4db60>\u001b[0m in \u001b[0;36m<module>\u001b[0;34m()\u001b[0m\n\u001b[1;32m      1\u001b[0m \u001b[0mnot_an_int\u001b[0m \u001b[0;34m=\u001b[0m \u001b[0;34m\"Hi\"\u001b[0m\u001b[0;34m\u001b[0m\u001b[0;34m\u001b[0m\u001b[0m\n\u001b[1;32m      2\u001b[0m \u001b[0mprint\u001b[0m\u001b[0;34m(\u001b[0m\u001b[0mtype\u001b[0m\u001b[0;34m(\u001b[0m\u001b[0mnot_an_int\u001b[0m\u001b[0;34m)\u001b[0m\u001b[0;34m)\u001b[0m\u001b[0;34m\u001b[0m\u001b[0;34m\u001b[0m\u001b[0m\n\u001b[0;32m----> 3\u001b[0;31m \u001b[0mnot_an_int\u001b[0m \u001b[0;34m=\u001b[0m \u001b[0mint\u001b[0m\u001b[0;34m(\u001b[0m\u001b[0mnot_an_int\u001b[0m\u001b[0;34m)\u001b[0m\u001b[0;34m\u001b[0m\u001b[0;34m\u001b[0m\u001b[0m\n\u001b[0m\u001b[1;32m      4\u001b[0m \u001b[0mprint\u001b[0m\u001b[0;34m(\u001b[0m\u001b[0mtype\u001b[0m\u001b[0;34m(\u001b[0m\u001b[0mnot_an_int\u001b[0m\u001b[0;34m)\u001b[0m\u001b[0;34m)\u001b[0m\u001b[0;34m\u001b[0m\u001b[0;34m\u001b[0m\u001b[0m\n",
            "\u001b[0;31mValueError\u001b[0m: invalid literal for int() with base 10: 'Hi'"
          ]
        }
      ]
    },
    {
      "cell_type": "code",
      "source": [
        "its_an_int = int(\"456789\")\n",
        "print(type(its_an_int))"
      ],
      "metadata": {
        "colab": {
          "base_uri": "https://localhost:8080/"
        },
        "id": "pRe0nN7NzsRs",
        "outputId": "b9d6692f-ad0b-49ee-a130-bbc9a8df21e2"
      },
      "execution_count": null,
      "outputs": [
        {
          "output_type": "stream",
          "name": "stdout",
          "text": [
            "<class 'int'>\n"
          ]
        }
      ]
    },
    {
      "cell_type": "markdown",
      "metadata": {
        "id": "WqMDPDTHSrE9"
      },
      "source": [
        "A floating point number, or a float, is a real number in mathematics. In Python we need to include a value after a decimal point to define it as a float"
      ]
    },
    {
      "cell_type": "markdown",
      "source": [
        "Example:"
      ],
      "metadata": {
        "id": "oPHV3JYx170o"
      }
    },
    {
      "cell_type": "code",
      "source": [
        "a_float = 4.5\n",
        "print(type(a_float))"
      ],
      "metadata": {
        "colab": {
          "base_uri": "https://localhost:8080/"
        },
        "id": "K7yD9TJa1kP-",
        "outputId": "4e7dd59c-9a09-45ca-a2b1-cc0148787de9"
      },
      "execution_count": null,
      "outputs": [
        {
          "output_type": "stream",
          "name": "stdout",
          "text": [
            "<class 'float'>\n"
          ]
        }
      ]
    },
    {
      "cell_type": "code",
      "metadata": {
        "colab": {
          "base_uri": "https://localhost:8080/"
        },
        "id": "otCzKKW9Oqig",
        "outputId": "a86233ed-3b60-44dd-dbbb-a6ba7b212918"
      },
      "source": [
        "my_string = \"100\"\n",
        "my_float = float(my_string)\n",
        "print(type(my_float))"
      ],
      "execution_count": null,
      "outputs": [
        {
          "output_type": "stream",
          "name": "stdout",
          "text": [
            "<class 'float'>\n"
          ]
        }
      ]
    },
    {
      "cell_type": "markdown",
      "metadata": {
        "id": "2iuyv8Q7StTJ"
      },
      "source": [
        "As you can see above, if we don't include a decimal value, the variable would be defined as an integer. The built-in function float() can convert a string or an integer into a float."
      ]
    },
    {
      "cell_type": "markdown",
      "source": [
        "Another example:"
      ],
      "metadata": {
        "id": "JKCiNsr22Dz_"
      }
    },
    {
      "cell_type": "code",
      "source": [
        "its_a_float = \"4.58765\"\n",
        "its_a_float = float(its_a_float)\n",
        "print(type(its_a_float))"
      ],
      "metadata": {
        "colab": {
          "base_uri": "https://localhost:8080/"
        },
        "id": "UY6J2I722DMB",
        "outputId": "bb956721-274a-4568-eea3-152ab24cc1c6"
      },
      "execution_count": null,
      "outputs": [
        {
          "output_type": "stream",
          "name": "stdout",
          "text": [
            "<class 'float'>\n"
          ]
        }
      ]
    },
    {
      "cell_type": "code",
      "metadata": {
        "colab": {
          "base_uri": "https://localhost:8080/"
        },
        "id": "wwLw5VthOqig",
        "outputId": "d9da1137-5370-4cdb-bced-c27acb8ccf68"
      },
      "source": [
        "my_bool = False\n",
        "print(my_bool)\n",
        "print(type(my_bool))"
      ],
      "execution_count": null,
      "outputs": [
        {
          "output_type": "stream",
          "name": "stdout",
          "text": [
            "False\n",
            "<class 'bool'>\n"
          ]
        }
      ]
    },
    {
      "cell_type": "markdown",
      "source": [
        "Another example:"
      ],
      "metadata": {
        "id": "d4t6j41K2uRb"
      }
    },
    {
      "cell_type": "code",
      "source": [
        "its_a_bool = True\n",
        "print(type(its_a_bool))"
      ],
      "metadata": {
        "colab": {
          "base_uri": "https://localhost:8080/"
        },
        "id": "A6C1NGuS2tyb",
        "outputId": "9b7c99b7-a7bb-43dc-c746-ac7925a8e168"
      },
      "execution_count": null,
      "outputs": [
        {
          "output_type": "stream",
          "name": "stdout",
          "text": [
            "<class 'bool'>\n"
          ]
        }
      ]
    },
    {
      "cell_type": "markdown",
      "metadata": {
        "id": "bnGMwH21Szr_"
      },
      "source": [
        "A boolean, or bool, is a binary variable. Its value can only be True or False. It is useful when we do some logic operations, which would be covered in our next chapter."
      ]
    },
    {
      "cell_type": "markdown",
      "metadata": {
        "id": "1Xc9G9_sS2ju"
      },
      "source": [
        "# Basic Math Operations\n",
        "\n",
        "The basic math operators in python are demonstrated below:"
      ]
    },
    {
      "cell_type": "code",
      "metadata": {
        "colab": {
          "base_uri": "https://localhost:8080/"
        },
        "id": "DMa6pDl5Oqig",
        "outputId": "c95fb06b-10d2-4860-ee5c-70c3e768ae75"
      },
      "source": [
        "print(\"Addition \", 1+1)\n",
        "print(\"Subtraction \", 5-2)\n",
        "print(\"Multiplication \", 2*3)\n",
        "print(\"Division \", 10/2)\n",
        "print('exponent', 2**3)"
      ],
      "execution_count": null,
      "outputs": [
        {
          "output_type": "stream",
          "name": "stdout",
          "text": [
            "Addition  2\n",
            "Subtraction  3\n",
            "Multiplication  6\n",
            "Division  5.0\n",
            "exponent 8\n"
          ]
        }
      ]
    },
    {
      "cell_type": "code",
      "source": [
        "#Example\n",
        "#(((4 + 54) * (98 + 23))^3)/4678\n",
        "#Se realizan las operaciones por partes y se unen en el print\n",
        "sum = 4 + 54\n",
        "sub = 98 + 23\n",
        "exp = 3\n",
        "div = 4678\n",
        "print(\"Result of (((4 + 54) * (98 + 23))^3)/4678: \", ((sum * sub)**exp)/div)"
      ],
      "metadata": {
        "colab": {
          "base_uri": "https://localhost:8080/"
        },
        "id": "JHqIsp3j3ZjE",
        "outputId": "cea8c02a-f38e-4464-bed9-d51b6d3a0ea0"
      },
      "execution_count": null,
      "outputs": [
        {
          "output_type": "stream",
          "name": "stdout",
          "text": [
            "Result of (((4 + 54) * (98 + 23))^3)/4678:  73889014.50021377\n"
          ]
        }
      ]
    },
    {
      "cell_type": "markdown",
      "source": [
        "There's also a operation which takes the integer part of the result in a division."
      ],
      "metadata": {
        "id": "zvJM8-t45Dqt"
      }
    },
    {
      "cell_type": "code",
      "source": [
        "#Example\n",
        "print(\"Division entera 13/4: \", 13//4)"
      ],
      "metadata": {
        "colab": {
          "base_uri": "https://localhost:8080/"
        },
        "id": "WWXu8lno5HfC",
        "outputId": "7ad90f5b-87ef-4843-ff71-1a5a3460fcce"
      },
      "execution_count": null,
      "outputs": [
        {
          "output_type": "stream",
          "name": "stdout",
          "text": [
            "Division entera 13/4:  3\n"
          ]
        }
      ]
    },
    {
      "cell_type": "markdown",
      "source": [
        "And another one, called modulo which returns the reminder of a division"
      ],
      "metadata": {
        "id": "xHn0dRUc6gbQ"
      }
    },
    {
      "cell_type": "code",
      "source": [
        "#Example\n",
        "print(\"Modulo 13%4: \", 13%4)"
      ],
      "metadata": {
        "colab": {
          "base_uri": "https://localhost:8080/"
        },
        "id": "aM434xBj68lY",
        "outputId": "f1623464-0e1d-4aec-f71f-647666ca5a8f"
      },
      "execution_count": null,
      "outputs": [
        {
          "output_type": "stream",
          "name": "stdout",
          "text": [
            "Modulo 13%4:  1\n"
          ]
        }
      ]
    },
    {
      "cell_type": "code",
      "metadata": {
        "colab": {
          "base_uri": "https://localhost:8080/"
        },
        "id": "KE9gUryAOqig",
        "outputId": "82343653-3452-4cc1-a0d6-510cbc54d7cb"
      },
      "source": [
        "print(1/3)\n",
        "print(1.0/3)"
      ],
      "execution_count": null,
      "outputs": [
        {
          "output_type": "stream",
          "name": "stdout",
          "text": [
            "0.3333333333333333\n",
            "0.3333333333333333\n"
          ]
        }
      ]
    },
    {
      "cell_type": "code",
      "source": [
        "#Example\n",
        "print(4.567/3.978)"
      ],
      "metadata": {
        "colab": {
          "base_uri": "https://localhost:8080/"
        },
        "id": "h4F2KaP37W9j",
        "outputId": "7b17d12e-a5d9-469b-c314-f0b12d357ab7"
      },
      "execution_count": null,
      "outputs": [
        {
          "output_type": "stream",
          "name": "stdout",
          "text": [
            "1.1480643539467068\n"
          ]
        }
      ]
    },
    {
      "cell_type": "markdown",
      "metadata": {
        "id": "AN5Oa3DoS_Nf"
      },
      "source": [
        "# Data Collections\n",
        "\n",
        "## List\n",
        "A list is an ordered collection of values. A list is mutable, which means you can change a list's value without changing the list itself. Creating a list is simply putting different comma-separated values between square brackets."
      ]
    },
    {
      "cell_type": "code",
      "metadata": {
        "colab": {
          "base_uri": "https://localhost:8080/"
        },
        "id": "-tQdNqCvOqig",
        "outputId": "946aa60d-c7d5-4e4c-860a-1b2fa00c3ceb"
      },
      "source": [
        "my_list = ['Quant', 'Connect']#, 1,2,3]\n",
        "print(my_list)"
      ],
      "execution_count": null,
      "outputs": [
        {
          "output_type": "stream",
          "name": "stdout",
          "text": [
            "['Quant', 'Connect', 1, 2, 3]\n"
          ]
        }
      ]
    },
    {
      "cell_type": "markdown",
      "source": [
        "A list can contain different types of basic variables."
      ],
      "metadata": {
        "id": "Cohkq2kxVel6"
      }
    },
    {
      "cell_type": "code",
      "source": [
        "#Example\n",
        "#Se crea una lista con distintos tipos de datos\n",
        "lists = [\"Hello\", 1, True]\n",
        "print(\"List: \", lists)"
      ],
      "metadata": {
        "colab": {
          "base_uri": "https://localhost:8080/"
        },
        "id": "7IDAb0DmUSi4",
        "outputId": "3cf1ab8a-a987-4dd8-b802-191db48420b2"
      },
      "execution_count": null,
      "outputs": [
        {
          "output_type": "stream",
          "name": "stdout",
          "text": [
            "List:  ['Hello', 1, True]\n"
          ]
        }
      ]
    },
    {
      "cell_type": "markdown",
      "metadata": {
        "id": "1O0TsgZCTHrM"
      },
      "source": [
        "The values in a list are called \"elements\". We can access list elements by indexing. Python index starts from 0. So if you have a list of length n, the index of the first element will be 0, and that of the last element will be n − 1. By the way, the length of a list can be obtained by the built-in function len()."
      ]
    },
    {
      "cell_type": "code",
      "metadata": {
        "colab": {
          "base_uri": "https://localhost:8080/"
        },
        "id": "QhuVhRR5Oqih",
        "outputId": "e8fa26aa-353f-4697-9701-6e8111a46ce4"
      },
      "source": [
        "my_list = ['Quant', 'Connect', 1,2,3]\n",
        "print(len(my_list))\n",
        "print(my_list[0])\n",
        "print(my_list[len(my_list) -1])"
      ],
      "execution_count": null,
      "outputs": [
        {
          "output_type": "stream",
          "name": "stdout",
          "text": [
            "5\n",
            "Quant\n",
            "3\n"
          ]
        }
      ]
    },
    {
      "cell_type": "code",
      "source": [
        "#Example\n",
        "#Se realizan operaciones con la lista\n",
        "lists = [\"Hello\", 1, True]\n",
        "print(\"List lenght: \", len(lists))\n",
        "print(\"First element: \", lists[0])\n",
        "print(\"Last element: \", lists[len(lists)-1])"
      ],
      "metadata": {
        "colab": {
          "base_uri": "https://localhost:8080/"
        },
        "id": "Pj6IgiyBX_Es",
        "outputId": "2a94b1ad-973a-487c-8775-ea5da89aa655"
      },
      "execution_count": null,
      "outputs": [
        {
          "output_type": "stream",
          "name": "stdout",
          "text": [
            "List lenght:  3\n",
            "First element:  Hello\n",
            "Last element:  True\n"
          ]
        }
      ]
    },
    {
      "cell_type": "markdown",
      "metadata": {
        "id": "jgSZy1VGTKSc"
      },
      "source": [
        "You can also change the elements in the list by accessing an index and assigning a new value."
      ]
    },
    {
      "cell_type": "code",
      "metadata": {
        "colab": {
          "base_uri": "https://localhost:8080/"
        },
        "id": "NQBNLjAvOqih",
        "outputId": "476b8e55-d299-41aa-9215-9c0098bbf43c"
      },
      "source": [
        "my_list = ['Quant','Connect',1,2,3]\n",
        "my_list[2] = 'go'\n",
        "print(my_list)"
      ],
      "execution_count": null,
      "outputs": [
        {
          "output_type": "stream",
          "name": "stdout",
          "text": [
            "['Quant', 'Connect', 'go', 2, 3]\n"
          ]
        }
      ]
    },
    {
      "cell_type": "code",
      "source": [
        "#Example\n",
        "#Se cambia el dato del índice 1 por \"World\"\n",
        "lists = [\"Hello\", 1, True]\n",
        "print(lists)\n",
        "print(lists[1])\n",
        "lists[1] = \"World\"\n",
        "print(lists[1])\n",
        "print(lists)"
      ],
      "metadata": {
        "colab": {
          "base_uri": "https://localhost:8080/"
        },
        "id": "8xjC8CieYsBJ",
        "outputId": "92df61c8-575e-4555-f4ca-84ca7625f978"
      },
      "execution_count": null,
      "outputs": [
        {
          "output_type": "stream",
          "name": "stdout",
          "text": [
            "['Hello', 1, True]\n",
            "1\n",
            "World\n",
            "['Hello', 'World', True]\n"
          ]
        }
      ]
    },
    {
      "cell_type": "markdown",
      "metadata": {
        "id": "EQPs5ojoTVrk"
      },
      "source": [
        "A list can also be sliced with a colon:"
      ]
    },
    {
      "cell_type": "code",
      "metadata": {
        "colab": {
          "base_uri": "https://localhost:8080/"
        },
        "id": "keNX2RbtOqii",
        "outputId": "01219718-8be6-4b02-b241-f1747bea9ab5"
      },
      "source": [
        "my_list = ['Quant','Connect',1,2,3]\n",
        "print(my_list[1:3])"
      ],
      "execution_count": null,
      "outputs": [
        {
          "output_type": "stream",
          "name": "stdout",
          "text": [
            "['Connect', 1]\n"
          ]
        }
      ]
    },
    {
      "cell_type": "code",
      "source": [
        "#Example\n",
        "#Se imprime una parte de la lista\n",
        "lists = [\"Hello\", 1, True, \"world\", 98, 4.5]\n",
        "another_list = lists[1:3]\n",
        "print(another_list)"
      ],
      "metadata": {
        "colab": {
          "base_uri": "https://localhost:8080/"
        },
        "id": "rq1rs1IoZpmP",
        "outputId": "d5783c8e-6489-4ffe-b1e5-9c9f5f991d95"
      },
      "execution_count": null,
      "outputs": [
        {
          "output_type": "stream",
          "name": "stdout",
          "text": [
            "[1, True]\n"
          ]
        }
      ]
    },
    {
      "cell_type": "markdown",
      "metadata": {
        "id": "AZqQd0K8TYul"
      },
      "source": [
        "The slice starts from the first element indicated, but excludes the last element indicated. Here we select all elements starting from index 1, which refers to the second element:"
      ]
    },
    {
      "cell_type": "code",
      "metadata": {
        "colab": {
          "base_uri": "https://localhost:8080/"
        },
        "id": "0-76sLfkOqii",
        "outputId": "e0507043-0cd4-491b-bb9f-26100bf5ffd1"
      },
      "source": [
        "print(my_list[1:])"
      ],
      "execution_count": null,
      "outputs": [
        {
          "output_type": "stream",
          "name": "stdout",
          "text": [
            "['Connect', 1, 2, 3]\n"
          ]
        }
      ]
    },
    {
      "cell_type": "code",
      "source": [
        "#Example\n",
        "print(lists[2:])"
      ],
      "metadata": {
        "colab": {
          "base_uri": "https://localhost:8080/"
        },
        "id": "53veRJ1HcckA",
        "outputId": "f6228501-4a92-4329-d739-92ceaf819b1f"
      },
      "execution_count": null,
      "outputs": [
        {
          "output_type": "stream",
          "name": "stdout",
          "text": [
            "[True, 'world', 98, 4.5]\n"
          ]
        }
      ]
    },
    {
      "cell_type": "code",
      "source": [
        "#Example\n",
        "#Error: Be careful to take into account the limits of indexes in the list, if the index chosen is out of the range of the list, the program will return an error.\n",
        "print(lists[6])"
      ],
      "metadata": {
        "colab": {
          "base_uri": "https://localhost:8080/",
          "height": 200
        },
        "id": "SLa6ap_TbgvI",
        "outputId": "83e4b03b-f441-4c85-b929-2e0f8e2458d4"
      },
      "execution_count": null,
      "outputs": [
        {
          "output_type": "error",
          "ename": "IndexError",
          "evalue": "ignored",
          "traceback": [
            "\u001b[0;31m---------------------------------------------------------------------------\u001b[0m",
            "\u001b[0;31mIndexError\u001b[0m                                Traceback (most recent call last)",
            "\u001b[0;32m<ipython-input-28-bdea77eabee0>\u001b[0m in \u001b[0;36m<module>\u001b[0;34m()\u001b[0m\n\u001b[1;32m      1\u001b[0m \u001b[0;31m#Example\u001b[0m\u001b[0;34m\u001b[0m\u001b[0;34m\u001b[0m\u001b[0;34m\u001b[0m\u001b[0m\n\u001b[1;32m      2\u001b[0m \u001b[0;31m#Error\u001b[0m\u001b[0;34m\u001b[0m\u001b[0;34m\u001b[0m\u001b[0;34m\u001b[0m\u001b[0m\n\u001b[0;32m----> 3\u001b[0;31m \u001b[0mprint\u001b[0m\u001b[0;34m(\u001b[0m\u001b[0mlists\u001b[0m\u001b[0;34m[\u001b[0m\u001b[0;36m6\u001b[0m\u001b[0;34m]\u001b[0m\u001b[0;34m)\u001b[0m\u001b[0;34m\u001b[0m\u001b[0;34m\u001b[0m\u001b[0m\n\u001b[0m",
            "\u001b[0;31mIndexError\u001b[0m: list index out of range"
          ]
        }
      ]
    },
    {
      "cell_type": "markdown",
      "metadata": {
        "id": "XBqvhUdZVKWs"
      },
      "source": [
        "And all elements up to but excluding index 3:"
      ]
    },
    {
      "cell_type": "code",
      "metadata": {
        "colab": {
          "base_uri": "https://localhost:8080/"
        },
        "id": "5NWr75L9Oqii",
        "outputId": "4b51d4c2-40d5-495c-cc54-cefab7fbea0e"
      },
      "source": [
        "print(my_list[:3])"
      ],
      "execution_count": null,
      "outputs": [
        {
          "output_type": "stream",
          "name": "stdout",
          "text": [
            "['Quant', 'Connect', 1]\n"
          ]
        }
      ]
    },
    {
      "cell_type": "code",
      "source": [
        "#Example\n",
        "#Se imprimen todos los elementos excepto el índice 4\n",
        "print(lists[:4])"
      ],
      "metadata": {
        "colab": {
          "base_uri": "https://localhost:8080/"
        },
        "id": "GNrrfkQRc3J7",
        "outputId": "9293f04f-8580-4bc8-ad9e-f45c27524078"
      },
      "execution_count": null,
      "outputs": [
        {
          "output_type": "stream",
          "name": "stdout",
          "text": [
            "['Hello', 1, True, 'world']\n"
          ]
        }
      ]
    },
    {
      "cell_type": "markdown",
      "metadata": {
        "id": "eAFmM6bkTZz9"
      },
      "source": [
        "If you wish to add or remove an element from a list, you can use the append() and remove() methods for lists as follows:"
      ]
    },
    {
      "cell_type": "code",
      "metadata": {
        "colab": {
          "base_uri": "https://localhost:8080/"
        },
        "id": "pHmgTPElTo19",
        "outputId": "ec107852-3c63-4766-a60e-5ac8afc66008"
      },
      "source": [
        "my_list = ['Hello', 'Quant']\n",
        "my_list.append('Hello')\n",
        "print(my_list)"
      ],
      "execution_count": null,
      "outputs": [
        {
          "output_type": "stream",
          "name": "stdout",
          "text": [
            "['Hello', 'Quant', 'Hello']\n"
          ]
        }
      ]
    },
    {
      "cell_type": "code",
      "metadata": {
        "colab": {
          "base_uri": "https://localhost:8080/"
        },
        "id": "4C4U1Yf0Tr8l",
        "outputId": "e53d3f80-9f08-4bc7-8659-655418704265"
      },
      "source": [
        "my_list.remove('Hello')\n",
        "print(my_list)"
      ],
      "execution_count": null,
      "outputs": [
        {
          "output_type": "stream",
          "name": "stdout",
          "text": [
            "['Quant', 'Hello']\n"
          ]
        }
      ]
    },
    {
      "cell_type": "code",
      "source": [
        "#Example\n",
        "lists = [\"Hello\", 1, True, \"world\", 98, 4.5]\n",
        "print(lists)\n",
        "#Se añade un elemento\n",
        "lists.append(\"Happy\")\n",
        "print(lists)\n",
        "#Se quita un elemento\n",
        "lists.remove(1)\n",
        "print(lists)\n",
        "\n",
        "#Error because the element is not in list\n",
        "lists.remove('1')\n",
        "print(lists)"
      ],
      "metadata": {
        "colab": {
          "base_uri": "https://localhost:8080/",
          "height": 270
        },
        "id": "sdpgJAbtdEZd",
        "outputId": "3dbd6ae3-9a5e-4412-9002-0661603ec680"
      },
      "execution_count": null,
      "outputs": [
        {
          "output_type": "stream",
          "name": "stdout",
          "text": [
            "['Hello', 1, True, 'world', 98, 4.5]\n",
            "['Hello', 1, True, 'world', 98, 4.5, 'Happy']\n",
            "['Hello', True, 'world', 98, 4.5, 'Happy']\n"
          ]
        },
        {
          "output_type": "error",
          "ename": "ValueError",
          "evalue": "ignored",
          "traceback": [
            "\u001b[0;31m---------------------------------------------------------------------------\u001b[0m",
            "\u001b[0;31mValueError\u001b[0m                                Traceback (most recent call last)",
            "\u001b[0;32m<ipython-input-41-e65da5cb650a>\u001b[0m in \u001b[0;36m<module>\u001b[0;34m()\u001b[0m\n\u001b[1;32m      8\u001b[0m \u001b[0;34m\u001b[0m\u001b[0m\n\u001b[1;32m      9\u001b[0m \u001b[0;31m#Error because the element is not in list\u001b[0m\u001b[0;34m\u001b[0m\u001b[0;34m\u001b[0m\u001b[0;34m\u001b[0m\u001b[0m\n\u001b[0;32m---> 10\u001b[0;31m \u001b[0mlists\u001b[0m\u001b[0;34m.\u001b[0m\u001b[0mremove\u001b[0m\u001b[0;34m(\u001b[0m\u001b[0;34m'1'\u001b[0m\u001b[0;34m)\u001b[0m\u001b[0;34m\u001b[0m\u001b[0;34m\u001b[0m\u001b[0m\n\u001b[0m\u001b[1;32m     11\u001b[0m \u001b[0mprint\u001b[0m\u001b[0;34m(\u001b[0m\u001b[0mlists\u001b[0m\u001b[0;34m)\u001b[0m\u001b[0;34m\u001b[0m\u001b[0;34m\u001b[0m\u001b[0m\n",
            "\u001b[0;31mValueError\u001b[0m: list.remove(x): x not in list"
          ]
        }
      ]
    },
    {
      "cell_type": "markdown",
      "metadata": {
        "id": "11W1gG-cVmOU"
      },
      "source": [
        "When there are repeated instances of \"Hello\", the first one is removed.\n",
        "\n",
        "## Tuple\n",
        "A tuple is a data structure type similar to a list. The difference is that a tuple is immutable, which means you can't change the elements in it once it's defined. We create a tuple by putting comma-separated values between parentheses."
      ]
    },
    {
      "cell_type": "code",
      "metadata": {
        "collapsed": true,
        "id": "vPmn6BAaOqii"
      },
      "source": [
        "my_tuple = ('Welcome','to','QuantConnect')"
      ],
      "execution_count": null,
      "outputs": []
    },
    {
      "cell_type": "markdown",
      "metadata": {
        "id": "zMIme4dDV0Wz"
      },
      "source": [
        "Just like a list, a tuple can be sliced by using index."
      ]
    },
    {
      "cell_type": "code",
      "metadata": {
        "colab": {
          "base_uri": "https://localhost:8080/"
        },
        "id": "8P-ddO0sOqii",
        "outputId": "59410ade-8f39-420d-e0cc-cae6c015e1cf"
      },
      "source": [
        "my_tuple = ('Welcome','to','QuantConnect')\n",
        "print(my_tuple[1:])"
      ],
      "execution_count": null,
      "outputs": [
        {
          "output_type": "stream",
          "name": "stdout",
          "text": [
            "('to', 'QuantConnect')\n"
          ]
        }
      ]
    },
    {
      "cell_type": "code",
      "source": [
        "#Example\n",
        "#Se crea una tupla de diferente tipos de datos\n",
        "the_Tuples = (\"I'm\", \"immutable\", \":)\", 1, True)\n",
        "print(the_Tuples)\n",
        "#Se imprime una parte de la tupla\n",
        "print(the_Tuples[2:]) "
      ],
      "metadata": {
        "colab": {
          "base_uri": "https://localhost:8080/"
        },
        "id": "iSElnmb1fZ7K",
        "outputId": "0aa997c9-dcb8-4005-850a-797e07609028"
      },
      "execution_count": null,
      "outputs": [
        {
          "output_type": "stream",
          "name": "stdout",
          "text": [
            "(\"I'm\", 'immutable', ':)', 1, True)\n",
            "(':)', 1, True)\n"
          ]
        }
      ]
    },
    {
      "cell_type": "code",
      "source": [
        "#Error: Se confirma que no se puede camiar la tupla\n",
        "the_Tuples[0] = \"Hi\"\n",
        "print(the_Tuples)"
      ],
      "metadata": {
        "colab": {
          "base_uri": "https://localhost:8080/",
          "height": 200
        },
        "id": "ofz3LVpOgl5m",
        "outputId": "2cd692fd-86e8-49fb-bbc6-f4d7111b5c32"
      },
      "execution_count": null,
      "outputs": [
        {
          "output_type": "error",
          "ename": "TypeError",
          "evalue": "ignored",
          "traceback": [
            "\u001b[0;31m---------------------------------------------------------------------------\u001b[0m",
            "\u001b[0;31mTypeError\u001b[0m                                 Traceback (most recent call last)",
            "\u001b[0;32m<ipython-input-44-770cc704b33e>\u001b[0m in \u001b[0;36m<module>\u001b[0;34m()\u001b[0m\n\u001b[1;32m      1\u001b[0m \u001b[0;31m#Error\u001b[0m\u001b[0;34m\u001b[0m\u001b[0;34m\u001b[0m\u001b[0;34m\u001b[0m\u001b[0m\n\u001b[0;32m----> 2\u001b[0;31m \u001b[0mthe_Tuples\u001b[0m\u001b[0;34m[\u001b[0m\u001b[0;36m0\u001b[0m\u001b[0;34m]\u001b[0m \u001b[0;34m=\u001b[0m \u001b[0;34m\"Hi\"\u001b[0m\u001b[0;34m\u001b[0m\u001b[0;34m\u001b[0m\u001b[0m\n\u001b[0m\u001b[1;32m      3\u001b[0m \u001b[0mprint\u001b[0m\u001b[0;34m(\u001b[0m\u001b[0mthe_Tuples\u001b[0m\u001b[0;34m)\u001b[0m\u001b[0;34m\u001b[0m\u001b[0;34m\u001b[0m\u001b[0m\n",
            "\u001b[0;31mTypeError\u001b[0m: 'tuple' object does not support item assignment"
          ]
        }
      ]
    },
    {
      "cell_type": "markdown",
      "metadata": {
        "id": "l2JqbusAV1Y2"
      },
      "source": [
        "## Set\n",
        "A set is an **unordered**  collection with **no duplicate** elements. The built-in function **set()** can be used to create sets."
      ]
    },
    {
      "cell_type": "code",
      "metadata": {
        "colab": {
          "base_uri": "https://localhost:8080/"
        },
        "id": "Plau8r-UOqij",
        "outputId": "38956220-c75c-4046-ebfa-810880ea19f4"
      },
      "source": [
        "stock_list = ['AAPL','GOOG','IBM','AAPL','IBM','FB','F','GOOG']\n",
        "stock_set = set(stock_list)\n",
        "print(stock_set)"
      ],
      "execution_count": null,
      "outputs": [
        {
          "output_type": "stream",
          "name": "stdout",
          "text": [
            "{'FB', 'IBM', 'AAPL', 'GOOG', 'F'}\n"
          ]
        }
      ]
    },
    {
      "cell_type": "code",
      "source": [
        "#Example\n",
        "#Se quitan los valores repetidos\n",
        "repeat_list = [1, 2, 3, True, True, 'Hi!', 'Hi', 'Hi!', 2, 56]\n",
        "set_list = set(repeat_list)\n",
        "print(set_list)"
      ],
      "metadata": {
        "colab": {
          "base_uri": "https://localhost:8080/"
        },
        "id": "K-d79eeMgwER",
        "outputId": "d20700b9-492c-4e20-96b9-70c7f7a6746c"
      },
      "execution_count": null,
      "outputs": [
        {
          "output_type": "stream",
          "name": "stdout",
          "text": [
            "{'Hi', 1, 2, 3, 'Hi!', 56}\n"
          ]
        }
      ]
    },
    {
      "cell_type": "markdown",
      "metadata": {
        "id": "Jyb4GGIoWIHk"
      },
      "source": [
        "Set is an easy way to remove duplicate elements from a list.\n",
        "\n",
        "##Dictionary\n",
        "A dictionary is one of the most important data structures in Python. Unlike sequences which are indexed by integers, dictionaries are indexed by keys which can be either strings or floats.\n",
        "\n",
        "A dictionary is an **unordered** collection of key : value pairs, with the requirement that the keys are unique. We create a dictionary by placing a comma-separated list of key : value pairs within the braces."
      ]
    },
    {
      "cell_type": "code",
      "metadata": {
        "collapsed": true,
        "id": "36mTe5BaOqij"
      },
      "source": [
        "my_dic = {'AAPL':'AAPLE', 'FB':'FaceBook', 'GOOG':'Alphabet'}"
      ],
      "execution_count": null,
      "outputs": []
    },
    {
      "cell_type": "code",
      "metadata": {
        "colab": {
          "base_uri": "https://localhost:8080/"
        },
        "id": "KUfdVf43Oqij",
        "outputId": "4295a710-1edd-4b8c-b1fd-2610cfbf9146"
      },
      "source": [
        "print(my_dic['GOOG'])"
      ],
      "execution_count": null,
      "outputs": [
        {
          "output_type": "stream",
          "name": "stdout",
          "text": [
            "Alphabet\n"
          ]
        }
      ]
    },
    {
      "cell_type": "markdown",
      "metadata": {
        "id": "gSicoNqDWP4c"
      },
      "source": [
        "After defining a dictionary, we can access any value by indicating its key in brackets."
      ]
    },
    {
      "cell_type": "code",
      "metadata": {
        "colab": {
          "base_uri": "https://localhost:8080/"
        },
        "id": "IrTZdq9FOqij",
        "outputId": "d5ccdda2-e268-4fe7-b79a-05487f00cf0e"
      },
      "source": [
        "my_dic['GOOG'] = 'Alphabet Company'\n",
        "print(my_dic['GOOG'])"
      ],
      "execution_count": null,
      "outputs": [
        {
          "output_type": "stream",
          "name": "stdout",
          "text": [
            "Alphabet Company\n"
          ]
        }
      ]
    },
    {
      "cell_type": "markdown",
      "metadata": {
        "id": "M9sDsTEMWQvc"
      },
      "source": [
        "We can also change the value associated with a specified key:"
      ]
    },
    {
      "cell_type": "code",
      "metadata": {
        "colab": {
          "base_uri": "https://localhost:8080/"
        },
        "id": "lupRHf1_Oqij",
        "outputId": "315ce30c-459c-4a59-fef1-8844e30253bb"
      },
      "source": [
        "print(my_dic.keys())"
      ],
      "execution_count": null,
      "outputs": [
        {
          "output_type": "stream",
          "name": "stdout",
          "text": [
            "dict_keys(['AAPL', 'FB', 'GOOG'])\n"
          ]
        }
      ]
    },
    {
      "cell_type": "markdown",
      "metadata": {
        "id": "VPuDinlwWS9D"
      },
      "source": [
        "The built-in method of the dictionary object dict.keys() returns a list of all the keys used in the dictionary."
      ]
    },
    {
      "cell_type": "code",
      "source": [
        "#Example\n",
        "#Se crea un diccionario\n",
        "dic_example = {'Nombre':'Juan', 'Edad': 21, 'Profesión': ''}\n",
        "print(dic_example)\n",
        "\n",
        "#Se añaden datos (llave y valor) al diccionario\n",
        "dic_example['Profesión'] = 'Ingeniero'\n",
        "print(dic_example)"
      ],
      "metadata": {
        "colab": {
          "base_uri": "https://localhost:8080/"
        },
        "id": "4L2-km-ciHEG",
        "outputId": "39363031-7b76-446c-ce77-55d2cecb2edf"
      },
      "execution_count": null,
      "outputs": [
        {
          "output_type": "stream",
          "name": "stdout",
          "text": [
            "{'Nombre': 'Juan', 'Edad': 21, 'Profesión': ''}\n",
            "{'Nombre': 'Juan', 'Edad': 21, 'Profesión': 'Ingeniero'}\n"
          ]
        }
      ]
    },
    {
      "cell_type": "markdown",
      "source": [
        "There's other operation with dictionaries"
      ],
      "metadata": {
        "id": "QxP-mQbujc4b"
      }
    },
    {
      "cell_type": "code",
      "source": [
        "#Dictionary's values\n",
        "print(dic_example.values())\n",
        "\n",
        "#Dictionary's tuples\n",
        "print(dic_example.items())\n",
        "\n",
        "#Look for a value according to its key\n",
        "print(dic_example.get('Edad'))"
      ],
      "metadata": {
        "colab": {
          "base_uri": "https://localhost:8080/"
        },
        "id": "5u8mMDDKjh5x",
        "outputId": "14ecb4ff-1b4a-4a0d-e06a-a6acde1ce444"
      },
      "execution_count": null,
      "outputs": [
        {
          "output_type": "stream",
          "name": "stdout",
          "text": [
            "dict_values(['Juan', 21, 'Ingeniero'])\n",
            "dict_items([('Nombre', 'Juan'), ('Edad', 21), ('Profesión', 'Ingeniero')])\n",
            "21\n"
          ]
        }
      ]
    },
    {
      "cell_type": "markdown",
      "metadata": {
        "id": "kSGzgNb2Womz"
      },
      "source": [
        "# Common String Operations\n",
        "A string is an immutable sequence of characters. It can be sliced by index just like a tuple:"
      ]
    },
    {
      "cell_type": "code",
      "metadata": {
        "colab": {
          "base_uri": "https://localhost:8080/"
        },
        "id": "xPojDnm9Oqik",
        "outputId": "6566c80c-e15d-4a63-e34a-6e3c9393d71e"
      },
      "source": [
        "my_str = 'Welcome to QuantConnect'\n",
        "print(my_str[8:])"
      ],
      "execution_count": null,
      "outputs": [
        {
          "output_type": "stream",
          "name": "stdout",
          "text": [
            "to QuantConnect\n"
          ]
        }
      ]
    },
    {
      "cell_type": "code",
      "source": [
        "#Example\n",
        "other_string = \"Universidad Nacional de Colombia\"\n",
        "#Se imprime una parte del string\n",
        "print(other_string[5:14])"
      ],
      "metadata": {
        "colab": {
          "base_uri": "https://localhost:8080/"
        },
        "id": "9ZSUlZm50rhq",
        "outputId": "d1ac8972-de1d-4410-ac7d-069807fb5c9c"
      },
      "execution_count": null,
      "outputs": [
        {
          "output_type": "stream",
          "name": "stdout",
          "text": [
            "rsidad Na\n"
          ]
        }
      ]
    },
    {
      "cell_type": "markdown",
      "metadata": {
        "id": "wuJYy7tvWtM7"
      },
      "source": [
        "There are many methods associated with strings. We can use string.count() to count the occurrences of a character in a string, use string.find() to return the index of a specific character, and use string.replace() to replace characters"
      ]
    },
    {
      "cell_type": "code",
      "metadata": {
        "colab": {
          "base_uri": "https://localhost:8080/"
        },
        "id": "u9deZq1SOqik",
        "outputId": "76dd7ace-0e6c-4768-f67d-4eaeac8d5bd8"
      },
      "source": [
        "print('Counting the number of e appears in this sentence'.count('e'))\n",
        "print('The first time e appears in this sentence'.find('e'))\n",
        "print('all the a in this sentence now becomes e'.replace('a','e'))"
      ],
      "execution_count": null,
      "outputs": [
        {
          "output_type": "stream",
          "name": "stdout",
          "text": [
            "7\n",
            "2\n",
            "ell the e in this sentence now becomes e\n"
          ]
        }
      ]
    },
    {
      "cell_type": "code",
      "source": [
        "#Example\n",
        "#Se realizan operaciones con strings: contar el número de letras, encontrar un valor y reemplazar un valor por otro respectivamente \n",
        "print(\"Make a sentence with a lot of letters and words to count\".count(\"nt\"))\n",
        "print(\"These functions are useful to analyze texts\".find(\"y\"))\n",
        "print(\"There's a lot of other functions to work with strings\".replace('functions', 'ways'))"
      ],
      "metadata": {
        "colab": {
          "base_uri": "https://localhost:8080/"
        },
        "id": "vKsYnoLz1DDx",
        "outputId": "072a8ed7-1260-488d-d2a5-661e3c735b90"
      },
      "execution_count": null,
      "outputs": [
        {
          "output_type": "stream",
          "name": "stdout",
          "text": [
            "2\n",
            "34\n",
            "There's a lot of other ways to work with strings\n"
          ]
        }
      ]
    },
    {
      "cell_type": "markdown",
      "metadata": {
        "id": "sJPn3rkvWwHN"
      },
      "source": [
        "The most commonly used method for strings is string.split(). This method will split the string by the indicated character and return a list:"
      ]
    },
    {
      "cell_type": "code",
      "metadata": {
        "colab": {
          "base_uri": "https://localhost:8080/"
        },
        "id": "hbIaFLFHOqik",
        "outputId": "e135eb46-22eb-4a87-8042-eed2ad79c828"
      },
      "source": [
        "Time = '2016-04-01 09:43:00'\n",
        "splited_list = Time.split(' ')\n",
        "date = splited_list[0]\n",
        "time = splited_list[1]\n",
        "print(date, time)\n",
        "hour = time.split(':')[0]\n",
        "print(hour)"
      ],
      "execution_count": null,
      "outputs": [
        {
          "output_type": "stream",
          "name": "stdout",
          "text": [
            "2016-04-01 09:43:00\n",
            "09\n"
          ]
        }
      ]
    },
    {
      "cell_type": "code",
      "source": [
        "#Example\n",
        "text = 'Juan.Pedro.Laura.María.Tijuano.Pancarcho'\n",
        "#Se separa el string por cada punto que encuentre\n",
        "names = text.split('.')\n",
        "#Se consulta un valor de la lista obtenida previamente\n",
        "third_name = names[2]\n",
        "print(\"The third name is:\", third_name)"
      ],
      "metadata": {
        "colab": {
          "base_uri": "https://localhost:8080/"
        },
        "id": "4kOleGrF-NX7",
        "outputId": "3790a799-5d6b-4cbe-f7f6-aa310477f8b3"
      },
      "execution_count": null,
      "outputs": [
        {
          "output_type": "stream",
          "name": "stdout",
          "text": [
            "The third name is: Laura\n"
          ]
        }
      ]
    },
    {
      "cell_type": "markdown",
      "metadata": {
        "id": "9cJQGk96WyVc"
      },
      "source": [
        "We can replace parts of a string by our variable. This is called string formatting."
      ]
    },
    {
      "cell_type": "code",
      "metadata": {
        "colab": {
          "base_uri": "https://localhost:8080/"
        },
        "id": "-E_rIvv6Oqik",
        "outputId": "bec9b731-c4d5-4905-9154-ef979efd6dd0"
      },
      "source": [
        "my_time = 'Hour: {}, Minute:{}'.format('09','43')\n",
        "print(my_time)"
      ],
      "execution_count": null,
      "outputs": [
        {
          "output_type": "stream",
          "name": "stdout",
          "text": [
            "Hour: 09, Minute:43\n"
          ]
        }
      ]
    },
    {
      "cell_type": "code",
      "source": [
        "#Example\n",
        "#Se realiza una forma de formato a las salidas del programa\n",
        "print(\"I want to talk with {}. Atte: {}\".format(names[0], names[3]))"
      ],
      "metadata": {
        "colab": {
          "base_uri": "https://localhost:8080/"
        },
        "id": "HUqnhvg8APyG",
        "outputId": "f7774ead-f386-4fd9-f51b-c606931427ed"
      },
      "execution_count": null,
      "outputs": [
        {
          "output_type": "stream",
          "name": "stdout",
          "text": [
            "I want to talk with Juan. Atte: María\n"
          ]
        }
      ]
    },
    {
      "cell_type": "markdown",
      "metadata": {
        "id": "1_NbVldpWzAs"
      },
      "source": [
        "Another way to format a string is to use the % symbol."
      ]
    },
    {
      "cell_type": "code",
      "metadata": {
        "colab": {
          "base_uri": "https://localhost:8080/"
        },
        "id": "4rZ4rkD2Oqik",
        "outputId": "cd5d93b8-56d7-4406-9c43-d84144bded85"
      },
      "source": [
        "print('the pi number is %f'%3.14)\n",
        "print('%s to %s'%('Welcome','Quantconnect'))"
      ],
      "execution_count": null,
      "outputs": [
        {
          "output_type": "stream",
          "name": "stdout",
          "text": [
            "the pi number is 3.140000\n",
            "Welcome to Quantconnect\n"
          ]
        }
      ]
    },
    {
      "cell_type": "code",
      "source": [
        "#Example\n",
        "#Otro método de formato\n",
        "print('%d. Other %s to %s a string'%(1,'ways','format'))"
      ],
      "metadata": {
        "colab": {
          "base_uri": "https://localhost:8080/"
        },
        "id": "uNAAhG5nAfKI",
        "outputId": "99db94c2-623a-4030-c4e4-7aacaf2e7f90"
      },
      "execution_count": null,
      "outputs": [
        {
          "output_type": "stream",
          "name": "stdout",
          "text": [
            "1. Other ways to format a string\n"
          ]
        }
      ]
    },
    {
      "cell_type": "markdown",
      "metadata": {
        "id": "v_5cocrDW3MN"
      },
      "source": [
        "# Summary\n",
        "\n",
        "Weave seen the basic data types and data structures in Python. It's important to keep practicing to become familiar with these data structures. In the next tutorial, we will cover for and while loops and logical operations in Python."
      ]
    },
    {
      "cell_type": "markdown",
      "metadata": {
        "id": "QL6dNxwCXNEt"
      },
      "source": [
        "<div align=\"center\">\n",
        "<img style=\"display: block; margin: auto;\" alt=\"photo\" src=\"https://cdn.quantconnect.com/web/i/icon.png\">\n",
        "\n",
        "Quantconnect\n",
        "\n",
        "Introduction to Financial Python\n",
        "</div>\n",
        "\n",
        "# 02 Logical Operations and Loops\n",
        "\n",
        "# Introduction\n",
        "We discussed the basic data types and data structures in Python in the last tutorial. This chapter covers logical operations and loops in Python, which are very common in programming.\n",
        "\n",
        "# Logical Operations\n",
        "Like most programming languages, Python has comparison operators:"
      ]
    },
    {
      "cell_type": "code",
      "metadata": {
        "colab": {
          "base_uri": "https://localhost:8080/"
        },
        "id": "70Guys_rOv7a",
        "outputId": "220ac34e-d9dd-4a30-9400-0fd74d9a0158"
      },
      "source": [
        "print(1 == 0)\n",
        "print(1 == 1)\n",
        "print(1 != 0)\n",
        "print(5 >= 5)\n",
        "print(5 >= 6)"
      ],
      "execution_count": null,
      "outputs": [
        {
          "output_type": "stream",
          "name": "stdout",
          "text": [
            "False\n",
            "True\n",
            "True\n",
            "True\n",
            "False\n"
          ]
        }
      ]
    },
    {
      "cell_type": "code",
      "source": [
        "#Example\n",
        "#Is equal 'p' and 'p'?\n",
        "print('p' == 'p') #true\n",
        "#Is equal 'P' and 'p'?\n",
        "print('P' == 'p') #false\n",
        "#Is different 1 and 'q'?\n",
        "print(1 != 'q') #true\n",
        "#Is 6 is greater or equal than 2?\n",
        "print(6 >= 2) #true\n",
        "#Is 6 is greater than 6?\n",
        "print(6 > 6) #false"
      ],
      "metadata": {
        "colab": {
          "base_uri": "https://localhost:8080/"
        },
        "id": "MMXxZqgmBehs",
        "outputId": "399048d4-1a27-47d5-c925-af5d25291332"
      },
      "execution_count": null,
      "outputs": [
        {
          "output_type": "stream",
          "name": "stdout",
          "text": [
            "True\n",
            "False\n",
            "True\n",
            "True\n",
            "False\n"
          ]
        }
      ]
    },
    {
      "cell_type": "markdown",
      "metadata": {
        "id": "8aFHYDj-YTXt"
      },
      "source": [
        "Each statement above has a boolean value, which must be either True or False, but not both.\n",
        "\n",
        "We can combine simple statements P and Q to form complex statements using logical operators:\n",
        "\n",
        "- The statement \"P and Q\" is true if both P and Q are true, otherwise it is false.\n",
        "- The statement \"P or Q\" is false if both P and Q are false, otherwise it is true.\n",
        "- The statement \"not P\" is true if P is false, and vice versa."
      ]
    },
    {
      "cell_type": "code",
      "metadata": {
        "colab": {
          "base_uri": "https://localhost:8080/"
        },
        "id": "O5YEEcUbOv7d",
        "outputId": "b0b66a4b-5e0b-493a-912d-ea3970a5026c"
      },
      "source": [
        "print(2 > 1 and 3 > 2)\n",
        "print(2 > 1 and 3 < 2) \n",
        "print(2 > 1 or 3 < 2)\n",
        "print(2 < 1 and 3 < 2)"
      ],
      "execution_count": null,
      "outputs": [
        {
          "output_type": "stream",
          "name": "stdout",
          "text": [
            "True\n",
            "False\n",
            "True\n",
            "False\n"
          ]
        }
      ]
    },
    {
      "cell_type": "code",
      "source": [
        "#Example\n",
        "#¿Es igual 'p' a 'p' Y es 6 mayor a 4?\n",
        "print('p' == 'p' and 6 > 4)\n",
        "#¿Es igual 'P' a 'p' Y es 6 mayor a 4?\n",
        "print('P' == 'p' and 6 > 4)\n",
        "#¿Es igual 1 diferente a 'q' O es 6 menor a 4?\n",
        "print(1 != 'q' or 6 < 4)"
      ],
      "metadata": {
        "colab": {
          "base_uri": "https://localhost:8080/"
        },
        "id": "A2VgVXFPCka7",
        "outputId": "d99bcec2-7675-478d-a96b-5efa6dc2201f"
      },
      "execution_count": null,
      "outputs": [
        {
          "output_type": "stream",
          "name": "stdout",
          "text": [
            "True\n",
            "False\n",
            "True\n"
          ]
        }
      ]
    },
    {
      "cell_type": "markdown",
      "metadata": {
        "id": "Dy7yzoSXYXmL"
      },
      "source": [
        "When dealing with a very complex logical statement that involves in several statements, we can use brackets to separate and combine them."
      ]
    },
    {
      "cell_type": "code",
      "metadata": {
        "colab": {
          "base_uri": "https://localhost:8080/"
        },
        "id": "QZ-W2xJZOv7d",
        "outputId": "25b7e3d0-7d41-4af4-ade3-bb35f2d469b9"
      },
      "source": [
        "print((3 > 2 or 1 < 3) and (1!=3 and 4>3) and not ( 3 < 2 or 1 < 3 and (1!=3 and 4>3)))\n",
        "print(3 > 2 or 1 < 3 and (1!=3 and 4>3) and not ( 3 < 2 or 1 < 3 and (1!=3 and 4>3)))"
      ],
      "execution_count": null,
      "outputs": [
        {
          "output_type": "stream",
          "name": "stdout",
          "text": [
            "False\n",
            "True\n"
          ]
        }
      ]
    },
    {
      "cell_type": "code",
      "source": [
        "#Example\n",
        "m = 3\n",
        "n = 4\n",
        "p = 6\n",
        "#¿Es m menor a n-1 y p*m menor o igual a m*n or 1+m*p igual a p/m-1?\n",
        "print(((m > n-1) and (p*m <= m*n)) or (1+m*p == p/m-1))"
      ],
      "metadata": {
        "colab": {
          "base_uri": "https://localhost:8080/"
        },
        "id": "bknfs1CMDknN",
        "outputId": "55834ded-a002-48ab-a37f-7d09c414367d"
      },
      "execution_count": null,
      "outputs": [
        {
          "output_type": "stream",
          "name": "stdout",
          "text": [
            "False\n"
          ]
        }
      ]
    },
    {
      "cell_type": "markdown",
      "metadata": {
        "id": "s95xoRYMYaPD"
      },
      "source": [
        "Comparing the above two statements, we can see that it's wise to use brackets when we make a complex logical statement.\n",
        "\n",
        "# If Statement\n",
        "An if statement executes a segment of code only if its condition is true. A standard if statement consists of 3 segments: if, elif and else."
      ]
    },
    {
      "cell_type": "markdown",
      "metadata": {
        "id": "aRzMMitAaBOL"
      },
      "source": [
        "```python\n",
        "if statement1:\n",
        "    # if the statement1 is true, execute the code here.\n",
        "    # code.....\n",
        "    # code.....\n",
        "elif statement2:\n",
        "    # if the statement 1 is false, skip the codes above to this part.\n",
        "    # code......\n",
        "    # code......\n",
        "else:\n",
        "    # if none of the above statements is True, skip to this part\n",
        "    # code......\n",
        "```"
      ]
    },
    {
      "cell_type": "markdown",
      "metadata": {
        "id": "l59R2AS8aH2K"
      },
      "source": [
        "An if statement doesn't necessarily has elif and else part. If it's not specified, the indented block of code will be executed when the condition is true, otherwise the whole if statement will be skipped."
      ]
    },
    {
      "cell_type": "code",
      "metadata": {
        "colab": {
          "base_uri": "https://localhost:8080/"
        },
        "id": "FZ5GoTXfOv7e",
        "outputId": "3e491f24-5e60-4ae8-8708-6af02357a24f"
      },
      "source": [
        "i = 0\n",
        "if i == 0:\n",
        "    print('i==0 is True')"
      ],
      "execution_count": null,
      "outputs": [
        {
          "output_type": "stream",
          "name": "stdout",
          "text": [
            "i==0 is True\n"
          ]
        }
      ]
    },
    {
      "cell_type": "markdown",
      "metadata": {
        "id": "nPNW-l5eaJn8"
      },
      "source": [
        "As we mentioned above, we can write some complex statements here:"
      ]
    },
    {
      "cell_type": "code",
      "metadata": {
        "colab": {
          "base_uri": "https://localhost:8080/"
        },
        "id": "gh-U6nMzOv7e",
        "outputId": "278c09cc-10be-4372-f22e-29c1a5ee5f8b"
      },
      "source": [
        "p = 1 > 0\n",
        "q = 2 > 3\n",
        "if p and q:\n",
        "    print('p and q is true')\n",
        "elif p and not q:\n",
        "    print('q is false')\n",
        "elif q and not p:\n",
        "    print('p is false')\n",
        "else:\n",
        "    print('None of p and q is true')"
      ],
      "execution_count": null,
      "outputs": [
        {
          "output_type": "stream",
          "name": "stdout",
          "text": [
            "q is false\n"
          ]
        }
      ]
    },
    {
      "cell_type": "code",
      "source": [
        "#Example\n",
        "num_of_items = 4\n",
        "money = 65\n",
        "price = 45\n",
        "#Si el número de elementos por el precio es menor o igual al dinero\n",
        "if (num_of_items*price) <= money:\n",
        "      print(\"Alcanza el dinero\")\n",
        "#Si el número de elementos por el precio es menor o igual al dinero + 10 pesos\n",
        "elif (num_of_items*price) <= money+10:\n",
        "      print(\"Te pueden prestar lo que falta\")\n",
        "else:\n",
        "      print(\"No alcanza el dinero\")"
      ],
      "metadata": {
        "colab": {
          "base_uri": "https://localhost:8080/"
        },
        "id": "rvNcPMM-FpTi",
        "outputId": "5eacadb0-bcdd-49d9-d141-b9edbadff0d3"
      },
      "execution_count": null,
      "outputs": [
        {
          "output_type": "stream",
          "name": "stdout",
          "text": [
            "No alcanza el dinero\n"
          ]
        }
      ]
    },
    {
      "cell_type": "markdown",
      "metadata": {
        "id": "tgRDwiAsaMOL"
      },
      "source": [
        "# Loop Structure\n",
        "Loops are an essential part of programming. The \"for\" and \"while\" loops run a block of code repeatedly.\n",
        "\n",
        "## While Loop\n",
        "A \"while\" loop will run repeatedly until a certain condition has been met."
      ]
    },
    {
      "cell_type": "code",
      "metadata": {
        "colab": {
          "base_uri": "https://localhost:8080/"
        },
        "id": "uQLau8d5Ov7f",
        "outputId": "aa7e27c1-cbf5-4347-89fb-a2b9558c5e78"
      },
      "source": [
        "i = 0\n",
        "while i < 5:\n",
        "    print(i)\n",
        "    i += 1 "
      ],
      "execution_count": null,
      "outputs": [
        {
          "output_type": "stream",
          "name": "stdout",
          "text": [
            "0\n",
            "1\n",
            "2\n",
            "3\n",
            "4\n"
          ]
        }
      ]
    },
    {
      "cell_type": "code",
      "source": [
        "#Example\n",
        "count = 0\n",
        "#Se cuenta hasta 10 de dos en dos unidades\n",
        "while count <= 10:\n",
        "  print(count)\n",
        "  count += 2"
      ],
      "metadata": {
        "colab": {
          "base_uri": "https://localhost:8080/"
        },
        "id": "aD3YGML1HVwe",
        "outputId": "6eca30f9-c6a2-49bf-c10f-eebdf0ad5d82"
      },
      "execution_count": null,
      "outputs": [
        {
          "output_type": "stream",
          "name": "stdout",
          "text": [
            "0\n",
            "2\n",
            "4\n",
            "6\n",
            "8\n",
            "10\n"
          ]
        }
      ]
    },
    {
      "cell_type": "markdown",
      "metadata": {
        "id": "ydLddFAPaTOE"
      },
      "source": [
        "When making a while loop, we need to ensure that something changes from iteration to iteration so that the while loop will terminate, otherwise, it will run forever. Here we used i += 1 (short for i = i + 1) to make i larger after each iteration. This is the most commonly used method to control a while loop.\n",
        "\n",
        "## For Loop\n",
        "A \"for\" loop will iterate over a sequence of value and terminate when the sequence has ended."
      ]
    },
    {
      "cell_type": "code",
      "metadata": {
        "colab": {
          "base_uri": "https://localhost:8080/"
        },
        "id": "kt8Ie8u1Ov7f",
        "outputId": "3e598608-0d6f-4e1c-b3fc-34d06ff14eb8"
      },
      "source": [
        "for i in [1,2,3,4,5]:\n",
        "    print(i)"
      ],
      "execution_count": null,
      "outputs": [
        {
          "output_type": "stream",
          "name": "stdout",
          "text": [
            "1\n",
            "2\n",
            "3\n",
            "4\n",
            "5\n"
          ]
        }
      ]
    },
    {
      "cell_type": "code",
      "source": [
        "#Example\n",
        "#se itera desde 0 hasta 4\n",
        "for i in range(4):\n",
        "    print(\"{}. Hello\".format(i))"
      ],
      "metadata": {
        "colab": {
          "base_uri": "https://localhost:8080/"
        },
        "id": "n9sk8PpEI-0e",
        "outputId": "ef0756ce-b24a-49ce-925e-62c8bd3f31c2"
      },
      "execution_count": null,
      "outputs": [
        {
          "output_type": "stream",
          "name": "stdout",
          "text": [
            "0. Hello\n",
            "1. Hello\n",
            "2. Hello\n",
            "3. Hello\n"
          ]
        }
      ]
    },
    {
      "cell_type": "markdown",
      "metadata": {
        "id": "yWStqpreaX-T"
      },
      "source": [
        "We can also add if statements in a for loop. Here is a real example from our pairs trading algorithm:"
      ]
    },
    {
      "cell_type": "code",
      "metadata": {
        "colab": {
          "base_uri": "https://localhost:8080/"
        },
        "id": "kElmffvFOv7f",
        "outputId": "6161e9da-cf62-44a5-fa80-ad45276473f7"
      },
      "source": [
        "stocks = ['AAPL','GOOG','IBM','FB','F','V', 'G', 'GE']\n",
        "selected = ['AAPL','IBM']\n",
        "new_list = []\n",
        "for i in stocks:\n",
        "    if i not in selected:\n",
        "        new_list.append(i)\n",
        "print(stocks)"
      ],
      "execution_count": null,
      "outputs": [
        {
          "output_type": "stream",
          "name": "stdout",
          "text": [
            "['AAPL', 'GOOG', 'IBM', 'FB', 'F', 'V', 'G', 'GE']\n"
          ]
        }
      ]
    },
    {
      "cell_type": "code",
      "source": [
        "#Example\n",
        "#Se separan los nombres por cada punto\n",
        "text = 'Juan.Pedro.Laura.María.Tijuano.Pancarcho'\n",
        "names = text.split('.')\n",
        "accepted = ['Juan','Lina','Pedro','Laura']\n",
        "#Se recorre la primera lista, si el nombre está en la segunda lista, se imprime\n",
        "for j in names:\n",
        "    if j in accepted:\n",
        "        print('¡You were selected %s!'%(j))"
      ],
      "metadata": {
        "colab": {
          "base_uri": "https://localhost:8080/"
        },
        "id": "Ceh1sxAwJhiD",
        "outputId": "d848df71-773b-414e-add5-29f76b9be39f"
      },
      "execution_count": null,
      "outputs": [
        {
          "output_type": "stream",
          "name": "stdout",
          "text": [
            "¡You were selected Juan!\n",
            "¡You were selected Pedro!\n",
            "¡You were selected Laura!\n"
          ]
        }
      ]
    },
    {
      "cell_type": "markdown",
      "metadata": {
        "id": "wb2hry9dahE0"
      },
      "source": [
        "Here we iterated all the elements in the list 'stocks'. Later in this chapter, we will introduce a smarter way to do this, which is just a one-line code.\n",
        "\n",
        "## Break and continue\n",
        "These are two commonly used commands in a for loop. If \"break\" is triggered while a loop is executing, the loop will terminate immediately:"
      ]
    },
    {
      "cell_type": "code",
      "metadata": {
        "colab": {
          "base_uri": "https://localhost:8080/"
        },
        "id": "yF5wMVItOv7g",
        "outputId": "2eb40fb9-fe33-4936-b6dd-84614f6dcba9"
      },
      "source": [
        "stocks = ['AAPL','GOOG','IBM','FB','F','V', 'G', 'GE']\n",
        "for i in stocks:\n",
        "    print(i)\n",
        "    if i == 'FB':\n",
        "        break"
      ],
      "execution_count": null,
      "outputs": [
        {
          "output_type": "stream",
          "name": "stdout",
          "text": [
            "AAPL\n",
            "GOOG\n",
            "IBM\n",
            "FB\n"
          ]
        }
      ]
    },
    {
      "cell_type": "markdown",
      "metadata": {
        "id": "R0toxyp3ao0T"
      },
      "source": [
        "The \"continue\" command tells the loop to end this iteration and skip to the next iteration:"
      ]
    },
    {
      "cell_type": "code",
      "metadata": {
        "colab": {
          "base_uri": "https://localhost:8080/"
        },
        "id": "Stg-CH6IOv7g",
        "outputId": "7bff9c13-2d53-4ccc-e070-f4de7234d8cf"
      },
      "source": [
        "stocks = ['AAPL','GOOG','IBM','FB','F','V', 'G', 'GE']\n",
        "for i in stocks:\n",
        "    if i == 'FB':\n",
        "        continue\n",
        "    print(i)"
      ],
      "execution_count": null,
      "outputs": [
        {
          "output_type": "stream",
          "name": "stdout",
          "text": [
            "AAPL\n",
            "GOOG\n",
            "IBM\n",
            "F\n",
            "V\n",
            "G\n",
            "GE\n"
          ]
        }
      ]
    },
    {
      "cell_type": "code",
      "source": [
        "#Example\n",
        "p = 4\n",
        "m = 2\n",
        "numbers = [1, 2, 8, 76, 4, 3, 2, 9, 7, 56, 78]\n",
        "#Se recorre la lista numbers\n",
        "for i in numbers:\n",
        "  #Si i es igual a p se rompe el ciclo\n",
        "    if i == p:\n",
        "      print(\"¡Lo encontramos ({})!\".format(i))\n",
        "      break\n",
        "  #Si i es igual a m se salta la iteración  y no imprime la última línea\n",
        "    elif i == m:\n",
        "      print(\"Encontramos otra cosa que sirve: {}\".format(i))\n",
        "      continue\n",
        "    print(\"{} no sirve :(\".format(i))"
      ],
      "metadata": {
        "colab": {
          "base_uri": "https://localhost:8080/"
        },
        "id": "AidNbvtpC6wu",
        "outputId": "4bfa8e89-8240-4f3f-a698-0731325da446"
      },
      "execution_count": null,
      "outputs": [
        {
          "output_type": "stream",
          "name": "stdout",
          "text": [
            "1 no sirve :(\n",
            "Encontramos otra cosa que sirve: 2\n",
            "8 no sirve :(\n",
            "76 no sirve :(\n",
            "¡Lo encontramos (4)!\n"
          ]
        }
      ]
    },
    {
      "cell_type": "markdown",
      "metadata": {
        "id": "4NusvdhBaxpZ"
      },
      "source": [
        "# List Comprehension\n",
        "List comprehension is a Pythonic way to create lists. Common applications are to make new lists where each element is the result of some operations applied to each member of another sequence. For example, if we want to create a list of squares using for loop:"
      ]
    },
    {
      "cell_type": "code",
      "metadata": {
        "colab": {
          "base_uri": "https://localhost:8080/"
        },
        "id": "bdxxeOABOv7h",
        "outputId": "4c976f98-d139-4d13-afbf-4b2f45a6698e"
      },
      "source": [
        "squares = []\n",
        "for i in [1,2,3,4,5]:\n",
        "    squares.append(i**2)\n",
        "print(squares)"
      ],
      "execution_count": null,
      "outputs": [
        {
          "output_type": "stream",
          "name": "stdout",
          "text": [
            "[1, 4, 9, 16, 25]\n"
          ]
        }
      ]
    },
    {
      "cell_type": "markdown",
      "metadata": {
        "id": "--KliJBOa1CC"
      },
      "source": [
        "Using list comprehension:"
      ]
    },
    {
      "cell_type": "code",
      "metadata": {
        "colab": {
          "base_uri": "https://localhost:8080/"
        },
        "id": "440-yjG8Ov7h",
        "outputId": "69947293-8145-425e-da94-197658f07e4b"
      },
      "source": [
        "list = [1,2,3,4,5]\n",
        "squares = [x**2 for x in list]\n",
        "print(squares)"
      ],
      "execution_count": null,
      "outputs": [
        {
          "output_type": "stream",
          "name": "stdout",
          "text": [
            "[1, 4, 9, 16, 25]\n"
          ]
        }
      ]
    },
    {
      "cell_type": "code",
      "source": [
        "#Example\n",
        "#Se forman strings de manera comprimida\n",
        "names = ['Laura', 'Pedro', 'Tina', 'Mateo', 'Sergio']\n",
        "hello = [\"Hello \" + i + \"!\" for i in names]\n",
        "print(hello)"
      ],
      "metadata": {
        "colab": {
          "base_uri": "https://localhost:8080/"
        },
        "id": "U992-D-gEzCP",
        "outputId": "478cefdd-8c95-4d59-e3d3-013c2b14da24"
      },
      "execution_count": null,
      "outputs": [
        {
          "output_type": "stream",
          "name": "stdout",
          "text": [
            "['Hello Laura!', 'Hello Pedro!', 'Hello Tina!', 'Hello Mateo!', 'Hello Sergio!']\n"
          ]
        }
      ]
    },
    {
      "cell_type": "markdown",
      "metadata": {
        "id": "uMuCfR3ya3zT"
      },
      "source": [
        "Recall the example above where we used a for loop to select stocks. Here we use list comprehension:"
      ]
    },
    {
      "cell_type": "code",
      "metadata": {
        "colab": {
          "base_uri": "https://localhost:8080/"
        },
        "id": "ZGtCtog2Ov7h",
        "outputId": "97ebb092-5c56-4e1b-ab4c-6486642252bb"
      },
      "source": [
        "stocks = ['AAPL','GOOG','IBM','FB','F','V', 'G', 'GE']\n",
        "selected = ['AAPL','IBM']\n",
        "new_list = [x for x in stocks if x in selected]\n",
        "print(new_list)"
      ],
      "execution_count": null,
      "outputs": [
        {
          "output_type": "stream",
          "name": "stdout",
          "text": [
            "['AAPL', 'IBM']\n"
          ]
        }
      ]
    },
    {
      "cell_type": "code",
      "source": [
        "#Example\n",
        "ages = [18, 45, 3, 2, 98, 54, 23, 25, 28]\n",
        "suitable = [i for i in ages if 18 <= i < 50]\n",
        "print(suitable)"
      ],
      "metadata": {
        "colab": {
          "base_uri": "https://localhost:8080/"
        },
        "id": "73tA4mbbJj-d",
        "outputId": "7c8431bd-4ed4-4e14-fa6e-9bb11de5d8e6"
      },
      "execution_count": null,
      "outputs": [
        {
          "output_type": "stream",
          "name": "stdout",
          "text": [
            "[18, 45, 23, 25, 28]\n"
          ]
        }
      ]
    },
    {
      "cell_type": "markdown",
      "metadata": {
        "id": "EPeUv6Lia5oD"
      },
      "source": [
        "A list comprehension consists of square brackets containing an expression followed by a \"for\" clause, and possibly \"for\" or \"if\" clauses. For example:"
      ]
    },
    {
      "cell_type": "code",
      "metadata": {
        "colab": {
          "base_uri": "https://localhost:8080/"
        },
        "id": "O1AMB5d7Ov7i",
        "outputId": "3585c3be-f0d4-4340-fcb1-dcd256dc8504"
      },
      "source": [
        "print([(x, y) for x in [1,2,3] for y in [3,1,4] if x != y])\n",
        "print([str(x)+' vs '+str(y) for x in ['AAPL','GOOG','IBM','FB'] for y in ['F','V','G','GE'] if x!=y])"
      ],
      "execution_count": null,
      "outputs": [
        {
          "output_type": "stream",
          "name": "stdout",
          "text": [
            "[(1, 3), (1, 4), (2, 3), (2, 1), (2, 4), (3, 1), (3, 4)]\n",
            "['AAPL vs F', 'AAPL vs V', 'AAPL vs G', 'AAPL vs GE', 'GOOG vs F', 'GOOG vs V', 'GOOG vs G', 'GOOG vs GE', 'IBM vs F', 'IBM vs V', 'IBM vs G', 'IBM vs GE', 'FB vs F', 'FB vs V', 'FB vs G', 'FB vs GE']\n"
          ]
        }
      ]
    },
    {
      "cell_type": "code",
      "source": [
        "#Example\n",
        "#Diccionario de contactos\n",
        "contacts = {'Pedro': [765432, 'School'], 'Martina': ['Work', 876549], 'Cristina': [1234567, 'Home'], 'Mario': [7656425, 'Home']} \n",
        "#Se toma la información del contacto\n",
        "data = [contacts.get(x) for x in contacts]\n",
        "#Se imprimen solo los datos que sean enteros\n",
        "print([i for j in data for i in j if isinstance(i , int)])"
      ],
      "metadata": {
        "colab": {
          "base_uri": "https://localhost:8080/"
        },
        "id": "85CaAID2MGs6",
        "outputId": "4a9a8ce1-d3d3-406d-8687-93be2edcc91c"
      },
      "execution_count": null,
      "outputs": [
        {
          "output_type": "stream",
          "name": "stdout",
          "text": [
            "[765432, 876549, 1234567, 7656425]\n"
          ]
        }
      ]
    },
    {
      "cell_type": "markdown",
      "metadata": {
        "id": "jJpvq-o4a8P7"
      },
      "source": [
        "List comprehension is an elegant way to organize one or more for loops when creating a list.\n",
        "\n",
        "# Summary\n",
        "This chapter has introduced logical operations, loops, and list comprehension. In the next chapter, we will introduce functions and object-oriented programming, which will enable us to make our codes clean and versatile."
      ]
    },
    {
      "cell_type": "markdown",
      "metadata": {
        "id": "Tef_X2wJbdhn"
      },
      "source": [
        "<div align=\"center\">\n",
        "<img style=\"display: block; margin: auto;\" alt=\"photo\" src=\"https://cdn.quantconnect.com/web/i/icon.png\">\n",
        "\n",
        "Quantconnect\n",
        "\n",
        "Introduction to Financial Python\n",
        "</div>\n",
        "\n",
        "# 03 Functions and Objective-Oriented Programming\n",
        "\n",
        "# Introduction\n",
        "\n",
        "In the last tutorial we introduced logical operations, loops and list comprehension. We will introduce functions and object-oriented programming in this chapter, which will enable us to build complex algorithms in more flexible ways.\n",
        "\n",
        "# Functions\n",
        "A function is a reusable block of code. We can use a function to output a value, or do anything else we want. We can easily define our own function by using the keyword \"def\"."
      ]
    },
    {
      "cell_type": "code",
      "metadata": {
        "colab": {
          "base_uri": "https://localhost:8080/"
        },
        "id": "eE_NkTiSO2PO",
        "outputId": "d2492acb-e355-4f23-88eb-9a8a410aec5e"
      },
      "source": [
        "def product(x,y):\n",
        "    return x*y\n",
        "print(product(2,3))\n",
        "print(product(5,10))"
      ],
      "execution_count": null,
      "outputs": [
        {
          "output_type": "stream",
          "name": "stdout",
          "text": [
            "6\n",
            "50\n"
          ]
        }
      ]
    },
    {
      "cell_type": "code",
      "source": [
        "#Example\n",
        "def division_parts(x,y):\n",
        "  return \"División: \"+str(x/y), \"División entera: \"+str(x//y), \"Residuo: \"+str(x%y)\n",
        "\n",
        "print(division_parts(6,4))"
      ],
      "metadata": {
        "colab": {
          "base_uri": "https://localhost:8080/"
        },
        "id": "g_cDPrRrXuvq",
        "outputId": "5ad2b505-57f7-4920-cce3-836a6bdaa8ee"
      },
      "execution_count": null,
      "outputs": [
        {
          "output_type": "stream",
          "name": "stdout",
          "text": [
            "('División: 1.5', 'División entera: 1', 'Residuo: 2')\n"
          ]
        }
      ]
    },
    {
      "cell_type": "markdown",
      "metadata": {
        "id": "4oRU_dVJbsdD"
      },
      "source": [
        "The keyword \"def\" is followed by the function name and the parenthesized list of formal parameters. The statements that form the body of the function start at the next line, and must be indented. The product() function above has \"x\" and \"y\" as its parameters. A function doesn't necessarily have parameters:"
      ]
    },
    {
      "cell_type": "code",
      "metadata": {
        "colab": {
          "base_uri": "https://localhost:8080/"
        },
        "id": "JhdWVLbUO2PQ",
        "outputId": "0c544747-1d2c-444f-cc68-81d53a29aa66"
      },
      "source": [
        "def say_hi():\n",
        "    print('Welcome to QuantConnect')\n",
        "say_hi()"
      ],
      "execution_count": null,
      "outputs": [
        {
          "output_type": "stream",
          "name": "stdout",
          "text": [
            "Welcome to QuantConnect\n"
          ]
        }
      ]
    },
    {
      "cell_type": "code",
      "source": [
        "#Example\n",
        "def return_a_number():\n",
        "    print(\"Your number is 5\")\n",
        "return_a_number()"
      ],
      "metadata": {
        "colab": {
          "base_uri": "https://localhost:8080/"
        },
        "id": "Ctu8rQ93XwAE",
        "outputId": "c4c9a261-3a15-4499-c6a2-ef011a7ed0a5"
      },
      "execution_count": null,
      "outputs": [
        {
          "output_type": "stream",
          "name": "stdout",
          "text": [
            "Your number is 5\n"
          ]
        }
      ]
    },
    {
      "cell_type": "markdown",
      "metadata": {
        "id": "lHwqVpWVb1Jr"
      },
      "source": [
        "# Built-in Function\n",
        "**range()** is a function that creates a list containing an arithmetic sequence. It's often used in for loops. The arguments must be integers. If the \"step\" argument is omitted, it defaults to 1."
      ]
    },
    {
      "cell_type": "code",
      "metadata": {
        "colab": {
          "base_uri": "https://localhost:8080/"
        },
        "id": "VVOTELcIO2PQ",
        "outputId": "aa49027e-a8d9-4e49-af6b-e9524ba564b5"
      },
      "source": [
        "print(range(10))\n",
        "print(range(1,11))\n",
        "print(range(1,11,2))"
      ],
      "execution_count": null,
      "outputs": [
        {
          "output_type": "stream",
          "name": "stdout",
          "text": [
            "range(0, 10)\n",
            "range(1, 11)\n",
            "range(1, 11, 2)\n"
          ]
        }
      ]
    },
    {
      "cell_type": "code",
      "source": [
        "#Example\n",
        "#Se imprimen números del 0 al 10 en dos unidades\n",
        "numbers_range = range(0,10,2)\n",
        "for i in numbers_range:\n",
        "  print(i)\n",
        "print(numbers_range)"
      ],
      "metadata": {
        "colab": {
          "base_uri": "https://localhost:8080/"
        },
        "id": "IXMXsNMSaSwL",
        "outputId": "c1b2db59-e62d-42d9-ed4a-933cc2670454"
      },
      "execution_count": null,
      "outputs": [
        {
          "output_type": "stream",
          "name": "stdout",
          "text": [
            "0\n",
            "2\n",
            "4\n",
            "6\n",
            "8\n",
            "range(0, 10, 2)\n"
          ]
        }
      ]
    },
    {
      "cell_type": "markdown",
      "metadata": {
        "id": "PD0cSgiwcQ4L"
      },
      "source": [
        "**len()** is another function used together with range() to create a for loop. This function returns the length of an object. The argument must be a sequence or a collection."
      ]
    },
    {
      "cell_type": "markdown",
      "metadata": {
        "id": "OIQSuub1cWgi"
      },
      "source": [
        "Note: If you want to print only the tickers without those numbers, then simply write \"for ticker in tickers: print ticker\"\n",
        "\n",
        "**map(**) is a function that applies a specific function to every item of a sequence or collection, and returns a list of the results."
      ]
    },
    {
      "cell_type": "code",
      "metadata": {
        "colab": {
          "base_uri": "https://localhost:8080/"
        },
        "id": "Hg18c7v-O2PR",
        "outputId": "c96a69f4-c7d1-41bb-e266-c8cacb3913b3"
      },
      "source": [
        "tickers = ['AAPL','GOOG','IBM','FB','F','V', 'G', 'GE']\n",
        "print('The length of tickers is {}'.format(len(tickers)))\n",
        "for i in range(len(tickers)):\n",
        "    print(tickers[i])"
      ],
      "execution_count": null,
      "outputs": [
        {
          "output_type": "stream",
          "name": "stdout",
          "text": [
            "The length of tickers is 8\n",
            "AAPL\n",
            "GOOG\n",
            "IBM\n",
            "FB\n",
            "F\n",
            "V\n",
            "G\n",
            "GE\n"
          ]
        }
      ]
    },
    {
      "cell_type": "code",
      "source": [
        "#Example\n",
        "texts = \"Hi welcome to Google Colab\"\n",
        "#Se itera por la longitud del string texts\n",
        "for i in range(len(texts)):\n",
        "    if texts[i] == 'e':\n",
        "      print(\"Found an 'e'!\")"
      ],
      "metadata": {
        "colab": {
          "base_uri": "https://localhost:8080/"
        },
        "id": "XAcJJfmPaouC",
        "outputId": "4b9ac180-2b49-466c-8bb1-1a85ed275258"
      },
      "execution_count": null,
      "outputs": [
        {
          "output_type": "stream",
          "name": "stdout",
          "text": [
            "Found an 'e'!\n",
            "Found an 'e'!\n",
            "Found an 'e'!\n"
          ]
        }
      ]
    },
    {
      "cell_type": "markdown",
      "metadata": {
        "id": "pqPuspeG5HAi"
      },
      "source": [
        "Because list at the moment is [1,2,3,4,5] and overwriting list() from builtins we del list"
      ]
    },
    {
      "cell_type": "code",
      "metadata": {
        "colab": {
          "base_uri": "https://localhost:8080/"
        },
        "id": "caV9c-qk4_eZ",
        "outputId": "2d9cb757-2fd5-44e0-f801-e0f6c001e6ee"
      },
      "source": [
        "#Se imprime el contenido de la lista\n",
        "print(list)\n",
        "#Se borra el contenido establecido previamente en list\n",
        "del list\n",
        "#Se imprime list para verificar que lo anterior se ejecutó correctamente\n",
        "list"
      ],
      "execution_count": null,
      "outputs": [
        {
          "output_type": "stream",
          "name": "stdout",
          "text": [
            "[1, 2, 3, 4, 5]\n"
          ]
        },
        {
          "output_type": "execute_result",
          "data": {
            "text/plain": [
              "list"
            ]
          },
          "metadata": {},
          "execution_count": 46
        }
      ]
    },
    {
      "cell_type": "code",
      "metadata": {
        "colab": {
          "base_uri": "https://localhost:8080/"
        },
        "id": "lJBs5ECT4mSq",
        "outputId": "d6fde10d-09a7-434e-b516-8431b48918fe"
      },
      "source": [
        "tickers = ['AAPL','GOOG','IBM','FB','F','V', 'G', 'GE']\n",
        "#Se obtiene el número de caracteres de los elementos del arreglo\n",
        "list(map(len,tickers))"
      ],
      "execution_count": null,
      "outputs": [
        {
          "output_type": "execute_result",
          "data": {
            "text/plain": [
              "[4, 4, 3, 2, 1, 1, 1, 2]"
            ]
          },
          "metadata": {},
          "execution_count": 47
        }
      ]
    },
    {
      "cell_type": "code",
      "metadata": {
        "colab": {
          "base_uri": "https://localhost:8080/"
        },
        "id": "78DyKVOyO2PR",
        "outputId": "218987fd-310f-46fd-efe4-6a9715939475"
      },
      "source": [
        "tickers = ['AAPL','GOOG','IBM','FB','F','V', 'G', 'GE']\n",
        "#Se imprime el número de caracteres de los elementos del arreglo\n",
        "print(list(map(len,tickers)))"
      ],
      "execution_count": null,
      "outputs": [
        {
          "output_type": "stream",
          "name": "stdout",
          "text": [
            "[4, 4, 3, 2, 1, 1, 1, 2]\n"
          ]
        }
      ]
    },
    {
      "cell_type": "code",
      "source": [
        "#Example\n",
        "#Se crea la lista de datos \n",
        "data = ['Hola', 'Mundo', 'b', 'nn', 'como', 'estas', 'a']\n",
        "#Se obtiene el número de caracteres de los elementos del arreglo\n",
        "list(map(len,data))"
      ],
      "metadata": {
        "colab": {
          "base_uri": "https://localhost:8080/"
        },
        "id": "g6ad1Rf1r04I",
        "outputId": "333b6182-ee72-4154-acc6-4682f48228e4"
      },
      "execution_count": 6,
      "outputs": [
        {
          "output_type": "execute_result",
          "data": {
            "text/plain": [
              "[4, 5, 1, 2, 4, 5, 1]"
            ]
          },
          "metadata": {},
          "execution_count": 6
        }
      ]
    },
    {
      "cell_type": "markdown",
      "metadata": {
        "id": "mvr06UM7ca7b"
      },
      "source": [
        "The **lambda operator** is a way to create small anonymous functions. These functions are just needed where they have been created. For example:"
      ]
    },
    {
      "cell_type": "code",
      "metadata": {
        "colab": {
          "base_uri": "https://localhost:8080/"
        },
        "id": "pAEHADYXO2PR",
        "outputId": "945610e9-76a7-4671-f760-4013ac4aa143"
      },
      "source": [
        "#En una serie de números de 0 a 9, se utiliza la función lambda para elevar cada elemento al cuadrado \n",
        "list(map(lambda x: x**2, range(10)))"
      ],
      "execution_count": null,
      "outputs": [
        {
          "output_type": "execute_result",
          "data": {
            "text/plain": [
              "[0, 1, 4, 9, 16, 25, 36, 49, 64, 81]"
            ]
          },
          "metadata": {},
          "execution_count": 49
        }
      ]
    },
    {
      "cell_type": "code",
      "source": [
        "#Example\n",
        "#Se crea una lista de números\n",
        "nums = [1, 2, 76, 332, 32, 54, 87, 21, 4]\n",
        "#De la lista anterior, se divide cada elemento entre 5\n",
        "list(map(lambda i: i/5, nums))"
      ],
      "metadata": {
        "colab": {
          "base_uri": "https://localhost:8080/"
        },
        "id": "SFU_JrCZuYVU",
        "outputId": "418be843-2071-4a55-d927-d94749070b11"
      },
      "execution_count": 8,
      "outputs": [
        {
          "output_type": "execute_result",
          "data": {
            "text/plain": [
              "[0.2, 0.4, 15.2, 66.4, 6.4, 10.8, 17.4, 4.2, 0.8, 1.8]"
            ]
          },
          "metadata": {},
          "execution_count": 8
        }
      ]
    },
    {
      "cell_type": "markdown",
      "metadata": {
        "id": "Mgixpxomcj3T"
      },
      "source": [
        "map() can be applied to more than one list. The lists have to have the same length."
      ]
    },
    {
      "cell_type": "code",
      "metadata": {
        "colab": {
          "base_uri": "https://localhost:8080/"
        },
        "id": "HtckhAaJO2PS",
        "outputId": "8b24472e-2eef-4a71-c36c-b872f8e128db"
      },
      "source": [
        "#Se suman los correspondientes elementos de ambas listas usando la función lambda\n",
        "list(map(lambda x, y: x+y, [1,2,3,4,5],[5,4,3,2,1]))"
      ],
      "execution_count": null,
      "outputs": [
        {
          "output_type": "execute_result",
          "data": {
            "text/plain": [
              "[6, 6, 6, 6, 6]"
            ]
          },
          "metadata": {},
          "execution_count": 50
        }
      ]
    },
    {
      "cell_type": "code",
      "source": [
        "#Example\n",
        "#Se crean 2 arreglos de enteros\n",
        "nums1 = [1, 2, 76, 332, 32, 54, 87, 21, 4]\n",
        "nums2 = [18, 45, 3, 2, 98, 54, 23, 25, 28]\n",
        "#Se realiza la división entera de los correspondientes elementos de ambas listas usando la función lambda\n",
        "list(map(lambda j, i: j//i, nums1, nums2))"
      ],
      "metadata": {
        "colab": {
          "base_uri": "https://localhost:8080/"
        },
        "id": "FTbzrUicve_A",
        "outputId": "ac51ea6a-0970-4e52-a2f3-f971bad9e12d"
      },
      "execution_count": 11,
      "outputs": [
        {
          "output_type": "execute_result",
          "data": {
            "text/plain": [
              "[0, 0, 25, 166, 0, 1, 3, 0, 0]"
            ]
          },
          "metadata": {},
          "execution_count": 11
        }
      ]
    },
    {
      "cell_type": "markdown",
      "metadata": {
        "id": "ZDnMTH-KcklT"
      },
      "source": [
        "**sorted()** takes a list or set and returns a new sorted list"
      ]
    },
    {
      "cell_type": "code",
      "metadata": {
        "colab": {
          "base_uri": "https://localhost:8080/"
        },
        "id": "P0sHUMFWO2PS",
        "outputId": "ff293907-8b01-47e8-b872-f362d3a63832"
      },
      "source": [
        "#Se ordena la lista de enteros\n",
        "sorted([5,2,3,4,1])"
      ],
      "execution_count": null,
      "outputs": [
        {
          "output_type": "execute_result",
          "data": {
            "text/plain": [
              "[1, 2, 3, 4, 5]"
            ]
          },
          "metadata": {},
          "execution_count": 51
        }
      ]
    },
    {
      "cell_type": "code",
      "source": [
        "#Example\n",
        "#Se pueden ordenar también letras\n",
        "sorted(['a', 'f,', 'w', 'b', 'r', 'c', 'z'])"
      ],
      "metadata": {
        "colab": {
          "base_uri": "https://localhost:8080/"
        },
        "id": "6GQIUILwxEQT",
        "outputId": "bf61a94a-5cff-461a-e9d6-915f4a4412b6"
      },
      "execution_count": 12,
      "outputs": [
        {
          "output_type": "execute_result",
          "data": {
            "text/plain": [
              "['a', 'b', 'c', 'f,', 'r', 'w', 'z']"
            ]
          },
          "metadata": {},
          "execution_count": 12
        }
      ]
    },
    {
      "cell_type": "markdown",
      "metadata": {
        "id": "-N5_EDOFcnsc"
      },
      "source": [
        "We can add a \"key\" parameter to specify a function to be called on each list element prior to making comparisons. For example:"
      ]
    },
    {
      "cell_type": "code",
      "metadata": {
        "colab": {
          "base_uri": "https://localhost:8080/"
        },
        "id": "0i3peZ0bO2PS",
        "outputId": "abb2ae1e-0b2d-4623-8d4f-c66d62985249"
      },
      "source": [
        "#Se crea una lista de tuplas\n",
        "price_list = [('AAPL',144.09),('GOOG',911.71),('MSFT',69),('FB',150),('WMT',75.32)]\n",
        "#Se establece a cada tupla una llave con el segundo elemento de la tupla y se ordenan por llave\n",
        "sorted(price_list, key = lambda x: x[1])"
      ],
      "execution_count": null,
      "outputs": [
        {
          "output_type": "execute_result",
          "data": {
            "text/plain": [
              "[('MSFT', 69), ('WMT', 75.32), ('AAPL', 144.09), ('FB', 150), ('GOOG', 911.71)]"
            ]
          },
          "metadata": {},
          "execution_count": 52
        }
      ]
    },
    {
      "cell_type": "code",
      "source": [
        "#Example\n",
        "#Se crea una lista de tuplas con números de teléfono y sus correspondientes nombres\n",
        "contactos = [('Pedro', 65433212),('Andrés',87664554),('Zamir', 6775657),('Ramiro', 746534)]\n",
        "#Se establece a cada tupla una llave con el nombre del contacto y se ordenan con este criterio\n",
        "sorted(contactos, key = lambda x: x[0])"
      ],
      "metadata": {
        "colab": {
          "base_uri": "https://localhost:8080/"
        },
        "id": "JdZdJliNx7Ua",
        "outputId": "7898b024-ffcc-4d8a-fd0f-50ed80afc6e4"
      },
      "execution_count": 15,
      "outputs": [
        {
          "output_type": "execute_result",
          "data": {
            "text/plain": [
              "[('Andrés', 87664554),\n",
              " ('Pedro', 65433212),\n",
              " ('Ramiro', 746534),\n",
              " ('Zamir', 6775657)]"
            ]
          },
          "metadata": {},
          "execution_count": 15
        }
      ]
    },
    {
      "cell_type": "markdown",
      "metadata": {
        "id": "yun2zptKcxe_"
      },
      "source": [
        "By default the values are sorted by ascending order. We can change it to descending by adding an optional parameter \"reverse'."
      ]
    },
    {
      "cell_type": "code",
      "metadata": {
        "colab": {
          "base_uri": "https://localhost:8080/"
        },
        "id": "dEZqdl94O2PT",
        "outputId": "7a707211-8b7e-49ea-cf7e-8d7c87e53778"
      },
      "source": [
        "#Se crean las tuplas\n",
        "price_list = [('AAPL',144.09),('GOOG',911.71),('MSFT',69),('FB',150),('WMT',75.32)]\n",
        "#Se ordenan teniendo en cuenta el ejemplo anterior pero de manera descendente\n",
        "sorted(price_list, key = lambda x: x[1],reverse = True)"
      ],
      "execution_count": null,
      "outputs": [
        {
          "output_type": "execute_result",
          "data": {
            "text/plain": [
              "[('GOOG', 911.71), ('FB', 150), ('AAPL', 144.09), ('WMT', 75.32), ('MSFT', 69)]"
            ]
          },
          "metadata": {},
          "execution_count": 53
        }
      ]
    },
    {
      "cell_type": "code",
      "source": [
        "#Example\n",
        "#Se crea una lista de tuplas con números de teléfono y sus correspondientes nombres\n",
        "contactos = [('Pedro', 65433212),('Andrés',87664554),('Zamir', 6775657),('Ramiro', 746534)]\n",
        "#Se ordenan teniendo en cuenta el ejemplo anterior pero de manera descendente \n",
        "sorted(contactos, key = lambda x: x[0], reverse = True)"
      ],
      "metadata": {
        "colab": {
          "base_uri": "https://localhost:8080/"
        },
        "id": "RI6MrhOxy49V",
        "outputId": "605dd5b4-9c78-446f-82ea-a660e3797267"
      },
      "execution_count": 16,
      "outputs": [
        {
          "output_type": "execute_result",
          "data": {
            "text/plain": [
              "[('Zamir', 6775657),\n",
              " ('Ramiro', 746534),\n",
              " ('Pedro', 65433212),\n",
              " ('Andrés', 87664554)]"
            ]
          },
          "metadata": {},
          "execution_count": 16
        }
      ]
    },
    {
      "cell_type": "markdown",
      "metadata": {
        "id": "OA2wYAa0c6Dn"
      },
      "source": [
        "Lists also have a function list.sort(). This function takes the same \"key\" and \"reverse\" arguments as sorted(), but it doesn't return a new list."
      ]
    },
    {
      "cell_type": "code",
      "metadata": {
        "colab": {
          "base_uri": "https://localhost:8080/"
        },
        "id": "pG9VQCLnO2PT",
        "outputId": "bf1b0694-5364-4e2f-f032-21ed620aab77"
      },
      "source": [
        "#Se crea la lista de tuplas\n",
        "price_list = [('AAPL',144.09),('GOOG',911.71),('MSFT',69),('FB',150),('WMT',75.32)]\n",
        "#A diferencia de los ejemplos anteriores la función reordena la lista directamente\n",
        "price_list.sort(key = lambda x: x[1])\n",
        "#Se imprime la nueva lista\n",
        "print(price_list)"
      ],
      "execution_count": null,
      "outputs": [
        {
          "output_type": "stream",
          "name": "stdout",
          "text": [
            "[('MSFT', 69), ('WMT', 75.32), ('AAPL', 144.09), ('FB', 150), ('GOOG', 911.71)]\n"
          ]
        }
      ]
    },
    {
      "cell_type": "code",
      "source": [
        "#Example\n",
        "#Se crea una lista de tuplas\n",
        "contactos = [('Pedro', 65433212),('Andrés',87664554),('Zamir', 6775657),('Ramiro', 746534)]\n",
        "#Se reordena la lista 'contactos'\n",
        "contactos.sort(key = lambda x: x[0])\n",
        "#Se imprime la nueva lista\n",
        "print(contactos)"
      ],
      "metadata": {
        "colab": {
          "base_uri": "https://localhost:8080/"
        },
        "id": "xGwPYbLezvoY",
        "outputId": "256aa7fa-1b49-46b0-d96d-4ae3543fe5cd"
      },
      "execution_count": 18,
      "outputs": [
        {
          "output_type": "stream",
          "name": "stdout",
          "text": [
            "[('Andrés', 87664554), ('Pedro', 65433212), ('Ramiro', 746534), ('Zamir', 6775657)]\n"
          ]
        }
      ]
    },
    {
      "cell_type": "markdown",
      "metadata": {
        "id": "mxljL1W1c_c5"
      },
      "source": [
        "# Object-Oriented Programming\n",
        "Python is an object-oriented programming language. It's important to understand the concept of \"objects\" because almost every kind of data from QuantConnect API is an object.\n",
        "\n",
        "## Class\n",
        "A class is a type of data, just like a string, float, or list. When we create an object of that data type, we call it an instance of a class.\n",
        "\n",
        "In Python, everything is an object - everything is an instance of some class. The data stored inside an object are called attributes, and the functions which are associated with the object are called methods.\n",
        "\n",
        "For example, as mentioned above, a list is an object of the \"list\" class, and it has a method list.sort().\n",
        "\n",
        "We can create our own objects by defining a class. We would do this when it's helpful to group certain functions together. For example, we define a class named \"Stock\" here:"
      ]
    },
    {
      "cell_type": "code",
      "metadata": {
        "id": "zC4Y4PgDO2PT"
      },
      "source": [
        "#Se establece la clase stock\n",
        "class stock:\n",
        "  #Se establecen los argumentos requeridos para crear el objeto y se establecen sus atributos\n",
        "    def __init__(self, ticker, open, close, volume):\n",
        "      #Se establecen los valores iniciales de los atributos del objeto\n",
        "        self.ticker = ticker\n",
        "        self.open = open\n",
        "        self.close = close\n",
        "        self.volume = volume\n",
        "        self.rate_return = float(close)/open - 1\n",
        "  #Función para actualizar 3 de los 5 atributos del objeto\n",
        "    def update(self, open, close):\n",
        "        self.open = open\n",
        "        self.close = close\n",
        "        self.rate_return = float(self.close)/self.open - 1\n",
        " #Función para obtener la información del objeto\n",
        "    def print_return(self):\n",
        "        print(self.rate_return)"
      ],
      "execution_count": null,
      "outputs": []
    },
    {
      "cell_type": "code",
      "source": [
        "#Example\n",
        "#Se establece la clase stock\n",
        "class carro:\n",
        "  #Se establecen los argumentos requeridos para crear el objeto y se establecen sus atributos\n",
        "    def __init__(self, marca, color, placa, puertas, combustible):\n",
        "      #Se establecen los valores iniciales de los atributos del objeto carro\n",
        "        self.marca = marca\n",
        "        self.color = color\n",
        "        self.placa = placa\n",
        "        self.puertas = puertas\n",
        "        self.combustible = combustible\n",
        "        self.encendido = False\n",
        "      \n",
        "  #Función para encender el carro y conducirlo gastando combustible\n",
        "    def conducir(self):\n",
        "        self.encendido = True\n",
        "        self.combustible = self.combustible - 10\n",
        "        #Si el nivel de combustible es muy bajo se apaga el carro \n",
        "        if self.combustible <= 10:\n",
        "          print(\"No se puede conducir, poco combustible\")\n",
        "          self.encendido = False\n",
        "          return\n",
        "        else:\n",
        "          print(\"Carro encendido\")\n",
        "          print(\"Conduciendo carro\")\n",
        " #Función para llena el tanque de combustible\n",
        "    def llenar_combustible(self):\n",
        "        self.combustible = 100\n",
        "        print(\"Tanque de combustible lleno\")\n",
        "\n",
        "    def apagar(self):\n",
        "        self.encendido = False\n",
        "        print(\"Carro apagado\")\n"
      ],
      "metadata": {
        "id": "_b_oA6JU0gX6"
      },
      "execution_count": 30,
      "outputs": []
    },
    {
      "cell_type": "markdown",
      "metadata": {
        "id": "rV06INT5dETi"
      },
      "source": [
        "The \"Stock\" class has attributes \"ticker\", \"open\", \"close\", \"volume\" and \"rate_return\". Inside the class body, the first method is called __init__, which is a special method. When we create a new instance of the class, the __init__ method is immediately executed with all the parameters that we pass to the \"Stock\" object. The purpose of this method is to set up a new \"Stock\" object using data we have provided.\n",
        "\n",
        "Here we create two Stock objects named \"apple\" and \"google\"."
      ]
    },
    {
      "cell_type": "code",
      "metadata": {
        "id": "8tIpNk93O2PU"
      },
      "source": [
        "#Se crean dos objetos de tipo stock y se establecen sus atributos\n",
        "apple = stock('AAPL', 143.69, 144.09, 20109375)\n",
        "google = stock('GOOG', 898.7, 911.7, 1561616)"
      ],
      "execution_count": null,
      "outputs": []
    },
    {
      "cell_type": "markdown",
      "metadata": {
        "id": "VxmELNiHdPKS"
      },
      "source": [
        "Stock objects also have two other methods: update() and print_return(). We can access the attribues of a Stock object and call its methods:"
      ]
    },
    {
      "cell_type": "code",
      "metadata": {
        "colab": {
          "base_uri": "https://localhost:8080/"
        },
        "id": "SsiIkmekO2PU",
        "outputId": "c525fccb-c3b3-4a9f-8fe8-38c620cca9a1"
      },
      "source": [
        "#Se llaman los dos métodos para cada uno de los dos objetos creados anteriormente\n",
        "apple.ticker\n",
        "google.print_return()\n",
        "google.update(912.8,913.4)\n",
        "google.print_return()"
      ],
      "execution_count": null,
      "outputs": [
        {
          "output_type": "stream",
          "name": "stdout",
          "text": [
            "0.014465338822744034\n",
            "0.0006573181419806673\n"
          ]
        }
      ]
    },
    {
      "cell_type": "code",
      "source": [
        "#Example\n",
        "#Se crean dos objetos de tipo carro\n",
        "mi_carro = carro('Mazda', 'Rojo', 'HJF854', 4, 100)\n",
        "tu_carro = carro('Chevrolet', 'negro', 'KJN233', 2, 50)\n",
        "\n",
        "#Se llaman los métodos correspondientes al objeto carro\n",
        "\n",
        "mi_carro.conducir()\n",
        "#Se verifica el nivel de combustible del carro 'tu_carro' antes y después de llamar el método\n",
        "print(tu_carro.combustible)\n",
        "tu_carro.llenar_combustible()\n",
        "print(tu_carro.combustible)\n",
        "mi_carro.apagar()"
      ],
      "metadata": {
        "colab": {
          "base_uri": "https://localhost:8080/"
        },
        "id": "p399tZOiIXLZ",
        "outputId": "0792622e-0a29-4688-ce87-7439c0f93a53"
      },
      "execution_count": 31,
      "outputs": [
        {
          "output_type": "stream",
          "name": "stdout",
          "text": [
            "Carro encendido\n",
            "Conduciendo carro\n",
            "50\n",
            "Tanque de combustible lleno\n",
            "100\n",
            "Carro apagado\n"
          ]
        }
      ]
    },
    {
      "cell_type": "markdown",
      "metadata": {
        "id": "Q8fl7keNdVKF"
      },
      "source": [
        "By calling the update() function, we updated the open and close prices of a stock. Please note that when we use the attributes or call the methods **inside a class**, we need to specify them as self.attribute or self.method(), otherwise Python will deem them as global variables and thus raise an error.\n",
        "\n",
        "We can add an attribute to an object anywhere:"
      ]
    },
    {
      "cell_type": "code",
      "metadata": {
        "colab": {
          "base_uri": "https://localhost:8080/",
          "height": 35
        },
        "id": "rO4OLnqOO2PU",
        "outputId": "37a33902-755c-4c5f-be78-c8c136ece3aa"
      },
      "source": [
        "#Se añade un nuevo atributo al objeto\n",
        "apple.ceo = 'Tim Cook'\n",
        "apple.ceo"
      ],
      "execution_count": null,
      "outputs": [
        {
          "output_type": "execute_result",
          "data": {
            "application/vnd.google.colaboratory.intrinsic+json": {
              "type": "string"
            },
            "text/plain": [
              "'Tim Cook'"
            ]
          },
          "metadata": {},
          "execution_count": 58
        }
      ]
    },
    {
      "cell_type": "code",
      "source": [
        "#Example\n",
        "#Se añade un nuevo atributo al objeto carro de la antiguedad del carro en años\n",
        "mi_carro.antiguedad = 8\n",
        "mi_carro.antiguedad\n",
        "\n",
        "tu_carro.antiguedad = 45\n",
        "tu_carro.antiguedad"
      ],
      "metadata": {
        "colab": {
          "base_uri": "https://localhost:8080/"
        },
        "id": "P7C8Gtn4K1Id",
        "outputId": "b33750bf-bd81-4461-c23c-af7413404f8c"
      },
      "execution_count": 33,
      "outputs": [
        {
          "output_type": "execute_result",
          "data": {
            "text/plain": [
              "45"
            ]
          },
          "metadata": {},
          "execution_count": 33
        }
      ]
    },
    {
      "cell_type": "markdown",
      "metadata": {
        "id": "WyfnFgVidh4J"
      },
      "source": [
        "We can check what names (i.e. attributes and methods) are defined on an object using the dir() function:"
      ]
    },
    {
      "cell_type": "code",
      "metadata": {
        "colab": {
          "base_uri": "https://localhost:8080/"
        },
        "id": "pPoz0LA8O2PU",
        "outputId": "4dcea2e2-771b-4d71-c743-5cb63c81f277"
      },
      "source": [
        "#Se utiliza la función dir para la exploración del objeto\n",
        "dir(apple)"
      ],
      "execution_count": null,
      "outputs": [
        {
          "output_type": "execute_result",
          "data": {
            "text/plain": [
              "['__class__',\n",
              " '__delattr__',\n",
              " '__dict__',\n",
              " '__dir__',\n",
              " '__doc__',\n",
              " '__eq__',\n",
              " '__format__',\n",
              " '__ge__',\n",
              " '__getattribute__',\n",
              " '__gt__',\n",
              " '__hash__',\n",
              " '__init__',\n",
              " '__init_subclass__',\n",
              " '__le__',\n",
              " '__lt__',\n",
              " '__module__',\n",
              " '__ne__',\n",
              " '__new__',\n",
              " '__reduce__',\n",
              " '__reduce_ex__',\n",
              " '__repr__',\n",
              " '__setattr__',\n",
              " '__sizeof__',\n",
              " '__str__',\n",
              " '__subclasshook__',\n",
              " '__weakref__',\n",
              " 'ceo',\n",
              " 'close',\n",
              " 'open',\n",
              " 'print_return',\n",
              " 'rate_return',\n",
              " 'ticker',\n",
              " 'update',\n",
              " 'volume']"
            ]
          },
          "metadata": {},
          "execution_count": 59
        }
      ]
    },
    {
      "cell_type": "code",
      "source": [
        "#Example\n",
        "#Se utiliza la función dir para la exploración del objeto\n",
        "dir(mi_carro)"
      ],
      "metadata": {
        "colab": {
          "base_uri": "https://localhost:8080/"
        },
        "id": "twpd4hkhM0Fn",
        "outputId": "b524a0f2-9a90-425c-af50-53a12822407f"
      },
      "execution_count": 34,
      "outputs": [
        {
          "output_type": "execute_result",
          "data": {
            "text/plain": [
              "['__class__',\n",
              " '__delattr__',\n",
              " '__dict__',\n",
              " '__dir__',\n",
              " '__doc__',\n",
              " '__eq__',\n",
              " '__format__',\n",
              " '__ge__',\n",
              " '__getattribute__',\n",
              " '__gt__',\n",
              " '__hash__',\n",
              " '__init__',\n",
              " '__init_subclass__',\n",
              " '__le__',\n",
              " '__lt__',\n",
              " '__module__',\n",
              " '__ne__',\n",
              " '__new__',\n",
              " '__reduce__',\n",
              " '__reduce_ex__',\n",
              " '__repr__',\n",
              " '__setattr__',\n",
              " '__sizeof__',\n",
              " '__str__',\n",
              " '__subclasshook__',\n",
              " '__weakref__',\n",
              " 'antiguedad',\n",
              " 'apagar',\n",
              " 'color',\n",
              " 'combustible',\n",
              " 'conducir',\n",
              " 'encendido',\n",
              " 'llenar_combustible',\n",
              " 'marca',\n",
              " 'placa',\n",
              " 'puertas']"
            ]
          },
          "metadata": {},
          "execution_count": 34
        }
      ]
    },
    {
      "cell_type": "markdown",
      "metadata": {
        "id": "Qpemj1UZd2aa"
      },
      "source": [
        "## Inheritance\n",
        "Inheritance is a way of arranging classes in a hierarchy from the most general to the most specific. A \"child\" class is a more specific type of a \"parent\" class because a child class will inherit all the attribues and methods of its parent. For example, we define a class named \"Child\" which inherits \"Stock\":"
      ]
    },
    {
      "cell_type": "code",
      "metadata": {
        "id": "UELXnxomO2PV"
      },
      "source": [
        "#Se crea una nueva clase heredada de la clase 'stock'\n",
        "class child(stock):\n",
        "  #Se establece el atributo del objeto\n",
        "    def __init__(self,name):\n",
        "        self.name = name"
      ],
      "execution_count": null,
      "outputs": []
    },
    {
      "cell_type": "code",
      "metadata": {
        "colab": {
          "base_uri": "https://localhost:8080/"
        },
        "id": "ffS2THZyO2PV",
        "outputId": "0b5d99cf-477c-48a1-8f5c-4e523612a028"
      },
      "source": [
        "#Se crea un objeto\n",
        "aa = child('aa')\n",
        "#Se imprime el nombre\n",
        "print(aa.name)\n",
        "#Se llama al método heredado de la clase padre para actualizar atributos\n",
        "aa.update(100,102)\n",
        "#Se imprimen atributos y métodos de la clase padre\n",
        "print(aa.open)\n",
        "print(aa.close)\n",
        "print(aa.print_return())"
      ],
      "execution_count": null,
      "outputs": [
        {
          "output_type": "stream",
          "name": "stdout",
          "text": [
            "aa\n",
            "100\n",
            "102\n",
            "0.020000000000000018\n",
            "None\n"
          ]
        }
      ]
    },
    {
      "cell_type": "code",
      "source": [
        "#Example\n",
        "#Se crea una clase hija que hereda los atributos y métodos de la clase 'carro'\n",
        "class carro_pequeno(carro):\n",
        "  #Se establece el atributo del carro pequeño el tamaño en centrímetros\n",
        "    def __init__(self, tamano):\n",
        "        self.tamano = tamano"
      ],
      "metadata": {
        "id": "tGC9FnzWOOEg"
      },
      "execution_count": 36,
      "outputs": []
    },
    {
      "cell_type": "code",
      "source": [
        "#Example\n",
        "#Se crea un objeto 'carro pequeno'\n",
        "carrito = carro_pequeno(30)\n",
        "#Se establece su atributo 'combustible'\n",
        "carrito.combustible = 10\n",
        "#Se llaman atributos de la clase carro\n",
        "carrito.conducir()\n",
        "carrito.llenar_combustible()\n",
        "carrito.combustible"
      ],
      "metadata": {
        "colab": {
          "base_uri": "https://localhost:8080/"
        },
        "id": "OPFb8NGmScjY",
        "outputId": "8e5bd786-51f0-4c59-ecec-0930f9a77b49"
      },
      "execution_count": 41,
      "outputs": [
        {
          "output_type": "stream",
          "name": "stdout",
          "text": [
            "No se puede conducir, poco combustible\n",
            "Tanque de combustible lleno\n"
          ]
        },
        {
          "output_type": "execute_result",
          "data": {
            "text/plain": [
              "100"
            ]
          },
          "metadata": {},
          "execution_count": 41
        }
      ]
    },
    {
      "cell_type": "markdown",
      "metadata": {
        "id": "pdIEjUv2eJqL"
      },
      "source": [
        "As seen above, the new class Child has inherited the methods from Stock.\n",
        "\n",
        "#Summary\n",
        "\n",
        "In this chapter we have introduced functions and classes. When we write a QuantConnect algorithm, we would define our algorithm as a class (QCAlgorithm). This means our algorithm inherited the QC API methods from QCAlgorithm class.\n",
        "\n",
        "In the next chapter, we will introduce NumPy and Pandas, which enable us to conduct scientific calculations in Python."
      ]
    },
    {
      "cell_type": "markdown",
      "metadata": {
        "id": "dQbENH6mexTd"
      },
      "source": [
        "<div align=\"center\">\n",
        "<img style=\"display: block; margin: auto;\" alt=\"photo\" src=\"https://cdn.quantconnect.com/web/i/icon.png\">\n",
        "\n",
        "Quantconnect\n",
        "\n",
        "Introduction to Financial Python\n",
        "</div>\n",
        "\n",
        "# 04 NumPy and Basic Pandas\n",
        "\n",
        "# Introduction\n",
        "\n",
        "Now that we have introduced the fundamentals of Python, it's time to learn about NumPy and Pandas.\n",
        "\n",
        "# NumPy\n",
        "NumPy is the core library for scientific computing in Python. It provides a high-performance multidimensional array object, and tools for working with these arrays. It also has strong integration with Pandas, which is another powerful tool for manipulating financial data.\n",
        "\n",
        "Python packages like NumPy and Pandas contain classes and methods which we can use by importing the package:"
      ]
    },
    {
      "cell_type": "code",
      "metadata": {
        "id": "aIESp-rdO58h"
      },
      "source": [
        "#Se importa la librería numpy para llamar las funciones correspondiente\n",
        "import numpy as np"
      ],
      "execution_count": 42,
      "outputs": []
    },
    {
      "cell_type": "markdown",
      "metadata": {
        "id": "GScHHJ5ke7ea"
      },
      "source": [
        "## Basic NumPy Arrays\n",
        "A NumPy array is a grid of values, all of the same type, and is indexed by a tuple of nonnegative integers. Here we make an array by passing a list of Apple stock prices:"
      ]
    },
    {
      "cell_type": "code",
      "metadata": {
        "colab": {
          "base_uri": "https://localhost:8080/"
        },
        "id": "lZI1wkwDO58i",
        "outputId": "7792634b-b0f5-47d4-f998-be207f9fb485"
      },
      "source": [
        "#Se crea un arreglo de números\n",
        "price_list = [143.73, 145.83, 143.68, 144.02, 143.5, 142.62]\n",
        "#Se convierte el arreglo en un arreglo de la librería NumPy\n",
        "price_array = np.array(price_list)\n",
        "#Se imprime la lista y el tipo de la lista\n",
        "print(price_array, type(price_array))"
      ],
      "execution_count": null,
      "outputs": [
        {
          "output_type": "stream",
          "name": "stdout",
          "text": [
            "[143.73 145.83 143.68 144.02 143.5  142.62] <class 'numpy.ndarray'>\n"
          ]
        }
      ]
    },
    {
      "cell_type": "code",
      "source": [
        "#Example\n",
        "#Se crea un arreglo de strings\n",
        "colors_hats = ['blue','green','red','black','white']\n",
        "#Se convierte el arreglo en un arreglo de la librería NumPy\n",
        "colors_hats = np.array(colors_hats)\n",
        "#Se imprime la lista y el tipo de la lista\n",
        "print(colors_hats, type(colors_hats))"
      ],
      "metadata": {
        "id": "su9AzW8FwRPl",
        "colab": {
          "base_uri": "https://localhost:8080/"
        },
        "outputId": "09bc397c-6d1c-48e3-c097-5cbd42b190c2"
      },
      "execution_count": 43,
      "outputs": [
        {
          "output_type": "stream",
          "name": "stdout",
          "text": [
            "['blue' 'green' 'red' 'black' 'white'] <class 'numpy.ndarray'>\n"
          ]
        }
      ]
    },
    {
      "cell_type": "markdown",
      "metadata": {
        "id": "-5Yj6u9ifB-t"
      },
      "source": [
        "Notice that the type of array is \"ndarray\" which is a multi-dimensional array. If we pass np.array() a list of lists, it will create a 2-dimensional array."
      ]
    },
    {
      "cell_type": "code",
      "metadata": {
        "colab": {
          "base_uri": "https://localhost:8080/"
        },
        "id": "obvIZrK-O58j",
        "outputId": "7bf6293a-350d-4167-a431-2fabb6353a74"
      },
      "source": [
        "#Se crea un arreglo multidimensional de tipo NumPy\n",
        "Ar = np.array([[1,3],[2,4]])\n",
        "print(Ar, type(Ar))"
      ],
      "execution_count": null,
      "outputs": [
        {
          "output_type": "stream",
          "name": "stdout",
          "text": [
            "[[1 3]\n",
            " [2 4]] <class 'numpy.ndarray'>\n"
          ]
        }
      ]
    },
    {
      "cell_type": "code",
      "source": [
        "#Example\n",
        "#Se crean distintos arreglos\n",
        "ar1 = ['h','j']\n",
        "ar2 = ['a','b']\n",
        "ar3 = ['p','k']\n",
        "\n",
        "#Cuando los arreglos no tienen el mismo tamaño, se genera un warning\n",
        "multiAr = np.array([ar1,ar2,ar3,'o'])\n",
        "print(multiAr, type(multiAr))\n",
        "\n",
        "#Se crea un arreglo multidimensional con los arreglos previamente creados\n",
        "multiAr = np.array([ar1,ar2,ar3])\n",
        "print(multiAr, type(multiAr))"
      ],
      "metadata": {
        "colab": {
          "base_uri": "https://localhost:8080/"
        },
        "id": "LhNCfyolV3OT",
        "outputId": "d246459d-6390-4dd5-9d1c-c464f6d6c2bb"
      },
      "execution_count": 54,
      "outputs": [
        {
          "output_type": "stream",
          "name": "stdout",
          "text": [
            "[list(['h', 'j']) list(['a', 'b']) list(['p', 'k']) 'o'] <class 'numpy.ndarray'>\n",
            "[['h' 'j']\n",
            " ['a' 'b']\n",
            " ['p' 'k']] <class 'numpy.ndarray'>\n"
          ]
        },
        {
          "output_type": "stream",
          "name": "stderr",
          "text": [
            "/usr/local/lib/python3.7/dist-packages/ipykernel_launcher.py:8: VisibleDeprecationWarning: Creating an ndarray from ragged nested sequences (which is a list-or-tuple of lists-or-tuples-or ndarrays with different lengths or shapes) is deprecated. If you meant to do this, you must specify 'dtype=object' when creating the ndarray.\n",
            "  \n"
          ]
        }
      ]
    },
    {
      "cell_type": "markdown",
      "metadata": {
        "id": "uDdfLD9HfHkl"
      },
      "source": [
        "We get the dimensions of an ndarray using the .shape attribute:"
      ]
    },
    {
      "cell_type": "code",
      "metadata": {
        "colab": {
          "base_uri": "https://localhost:8080/"
        },
        "id": "G2txdn73O58j",
        "outputId": "b6539a1f-7794-47bc-fd6f-744683e69ab7"
      },
      "source": [
        "#La librería tiene un atributo llamado 'shape' que devuelve las dimensiones del arreglo\n",
        "print(Ar.shape)"
      ],
      "execution_count": null,
      "outputs": [
        {
          "output_type": "stream",
          "name": "stdout",
          "text": [
            "(2, 2)\n"
          ]
        }
      ]
    },
    {
      "cell_type": "code",
      "source": [
        "#Example\n",
        "#Se obtienen las dimensiones del arreglo\n",
        "print(multiAr.shape)"
      ],
      "metadata": {
        "colab": {
          "base_uri": "https://localhost:8080/"
        },
        "id": "KVqY6WRVXF7T",
        "outputId": "5a8d4e6a-e4d9-42f0-b902-8749e363dda8"
      },
      "execution_count": 55,
      "outputs": [
        {
          "output_type": "stream",
          "name": "stdout",
          "text": [
            "(3, 2)\n"
          ]
        }
      ]
    },
    {
      "cell_type": "markdown",
      "metadata": {
        "id": "87W5ueORfPEy"
      },
      "source": [
        "If we create an 2-dimensional array (i.e. matrix), each row can be accessed by index:"
      ]
    },
    {
      "cell_type": "code",
      "metadata": {
        "colab": {
          "base_uri": "https://localhost:8080/"
        },
        "id": "x_QV9aPbO58j",
        "outputId": "ceaeabd6-af8c-435b-f376-0f73fa6af72e"
      },
      "source": [
        "#Se acceden a los índices del arreglo\n",
        "print(Ar[0])\n",
        "print(Ar[1])"
      ],
      "execution_count": null,
      "outputs": [
        {
          "output_type": "stream",
          "name": "stdout",
          "text": [
            "[1 3]\n",
            "[2 4]\n"
          ]
        }
      ]
    },
    {
      "cell_type": "code",
      "source": [
        "#Example\n",
        "#Se acceden a los índices del arreglo\n",
        "print(multiAr[0])\n",
        "print(multiAr[1])\n",
        "print(multiAr[2])"
      ],
      "metadata": {
        "colab": {
          "base_uri": "https://localhost:8080/"
        },
        "id": "y6yQvrV2Xq_N",
        "outputId": "640e8e69-a762-469e-df78-504872b51158"
      },
      "execution_count": 56,
      "outputs": [
        {
          "output_type": "stream",
          "name": "stdout",
          "text": [
            "['h' 'j']\n",
            "['a' 'b']\n",
            "['p' 'k']\n"
          ]
        }
      ]
    },
    {
      "cell_type": "markdown",
      "metadata": {
        "id": "5Hke7Vt-fSGB"
      },
      "source": [
        "If we want to access the matrix by column instead:"
      ]
    },
    {
      "cell_type": "code",
      "metadata": {
        "colab": {
          "base_uri": "https://localhost:8080/"
        },
        "id": "gHVwbPfOO58j",
        "outputId": "fbc8f0ca-38bf-4f98-d85f-1e95b30bb6f3"
      },
      "source": [
        "#Se imprimen las columnas del arreglo\n",
        "print('the first column: ', Ar[:,0])\n",
        "print('the second column: ', Ar[:,1])"
      ],
      "execution_count": null,
      "outputs": [
        {
          "output_type": "stream",
          "name": "stdout",
          "text": [
            "the first column:  [1 2]\n",
            "the second column:  [3 4]\n"
          ]
        }
      ]
    },
    {
      "cell_type": "code",
      "source": [
        "#Example\n",
        "#Se puede acceder de diferentes maneras al arreglo\n",
        "print('the first column: ', multiAr[:1,0])\n",
        "print('the second column: ', multiAr[:,1])"
      ],
      "metadata": {
        "colab": {
          "base_uri": "https://localhost:8080/"
        },
        "id": "zMjbU9EPX3qL",
        "outputId": "e6c4b41f-acbf-4734-8acf-c487634fb5c7"
      },
      "execution_count": 59,
      "outputs": [
        {
          "output_type": "stream",
          "name": "stdout",
          "text": [
            "the first column:  ['h']\n",
            "the second column:  ['j' 'b' 'k']\n"
          ]
        }
      ]
    },
    {
      "cell_type": "markdown",
      "metadata": {
        "id": "T61cD0HMfStB"
      },
      "source": [
        "## Array Functions\n",
        "Some functions built in NumPy that allow us to perform calculations on arrays. For example, we can apply the natural logarithm to each element of an array:"
      ]
    },
    {
      "cell_type": "code",
      "metadata": {
        "colab": {
          "base_uri": "https://localhost:8080/"
        },
        "id": "PKhwtJ7XO58k",
        "outputId": "5734372b-2ffa-44e4-8146-5906268cd6c8"
      },
      "source": [
        "#Se calcula ln() de cada elemento de un arreglo establecido previamente\n",
        "print(np.log(price_array))"
      ],
      "execution_count": null,
      "outputs": [
        {
          "output_type": "stream",
          "name": "stdout",
          "text": [
            "[4.96793654 4.98244156 4.9675886  4.96995218 4.96633504 4.96018375]\n"
          ]
        }
      ]
    },
    {
      "cell_type": "markdown",
      "metadata": {
        "id": "uzjBRFBLfZ-D"
      },
      "source": [
        "Other functions return a single value:"
      ]
    },
    {
      "cell_type": "code",
      "metadata": {
        "colab": {
          "base_uri": "https://localhost:8080/"
        },
        "id": "nQuABZqUO58k",
        "outputId": "42151fdc-de6a-4a12-aebc-6689f288d9fa"
      },
      "source": [
        "#Calcula el promedio de los elementos del arreglo\n",
        "print(np.mean(price_array))\n",
        "#Calcula la desviación estándar de los elementos del arreglo\n",
        "print(np.std(price_array))\n",
        "#Calcula la suma de los elementos del arreglo\n",
        "print(np.sum(price_array))\n",
        "#Calcula el valor máximo de los elementos del arreglo\n",
        "print(np.max(price_array))"
      ],
      "execution_count": null,
      "outputs": [
        {
          "output_type": "stream",
          "name": "stdout",
          "text": [
            "143.89666666666668\n",
            "0.9673790478515796\n",
            "863.38\n",
            "145.83\n"
          ]
        }
      ]
    },
    {
      "cell_type": "code",
      "source": [
        "#Example\n",
        "#ln()\n",
        "print(np.log(nums1))\n",
        "#Promedio\n",
        "print(\"Promedio: \", np.mean(nums1))\n",
        "#Desviación estándar\n",
        "print(\"Desviación estándar: \", np.std(nums1))\n",
        "#Suma\n",
        "print(\"Suma: \", np.sum(nums1))\n",
        "#Valor máximo\n",
        "print(\"Valor máximo: \", np.max(nums1))\n",
        "#Valor mínimo\n",
        "print(\"Valor máximo: \", np.min(nums1))\n",
        "#Mediana\n",
        "print(\"Mediana: \", np.median(nums1))"
      ],
      "metadata": {
        "colab": {
          "base_uri": "https://localhost:8080/"
        },
        "id": "m4yLGPrmYjqX",
        "outputId": "f4b0c89a-f333-4638-b23f-e6782ef445b7"
      },
      "execution_count": 63,
      "outputs": [
        {
          "output_type": "stream",
          "name": "stdout",
          "text": [
            "[0.         0.69314718 4.33073334 5.80513497 3.4657359  3.98898405\n",
            " 4.46590812 3.04452244 1.38629436]\n",
            "Promedio:  67.66666666666667\n",
            "Desviación estándar:  98.18463333038535\n",
            "Suma:  609\n",
            "Valor máximo:  332\n",
            "Valor máximo:  1\n",
            "Mediana:  32.0\n"
          ]
        }
      ]
    },
    {
      "cell_type": "markdown",
      "metadata": {
        "id": "IRW95BsifgDB"
      },
      "source": [
        "The functions above return the mean, standard deviation, total and maximum value of an array.\n",
        "\n",
        "# Pandas\n",
        "Pandas is one of the most powerful tools for dealing with financial data. \n",
        "\n",
        "First we need to import Pandas:"
      ]
    },
    {
      "cell_type": "code",
      "metadata": {
        "id": "xIYH4oUfO58k"
      },
      "source": [
        "#Se importa la librería pandas\n",
        "import pandas as pd"
      ],
      "execution_count": 65,
      "outputs": []
    },
    {
      "cell_type": "markdown",
      "metadata": {
        "id": "zOig5gORfnJU"
      },
      "source": [
        "## Series\n",
        "Series is a one-dimensional labeled array capable of holding any data type (integers, strings, float, Python object, etc.)\n",
        "\n",
        "We create a Series by calling pd.Series(data), where data can be a dictionary, an array or just a scalar value."
      ]
    },
    {
      "cell_type": "code",
      "metadata": {
        "colab": {
          "base_uri": "https://localhost:8080/"
        },
        "id": "JmzoNzrPO58k",
        "outputId": "b366da70-894e-4be5-fb47-9c8c6c09baae"
      },
      "source": [
        "#Se crea un arreglo\n",
        "price = [143.73, 145.83, 143.68, 144.02, 143.5, 142.62]\n",
        "#Se crea un tipo de arreglo llamado 'Series'\n",
        "s = pd.Series(price)\n",
        "s"
      ],
      "execution_count": null,
      "outputs": [
        {
          "output_type": "execute_result",
          "data": {
            "text/plain": [
              "0    143.73\n",
              "1    145.83\n",
              "2    143.68\n",
              "3    144.02\n",
              "4    143.50\n",
              "5    142.62\n",
              "dtype: float64"
            ]
          },
          "metadata": {},
          "execution_count": 71
        }
      ]
    },
    {
      "cell_type": "code",
      "source": [
        "#Example\n",
        "#Se crea un diccionario\n",
        "contacts = {'Pedro': [765432, 'School'], 'Martina': ['Work', 876549], 'Cristina': [1234567, 'Home'], 'Mario': [7656425, 'Home']}\n",
        "\n",
        "#Se crea una 'Series' al diccionario donde el índice es el nombre del contacto\n",
        "serie = pd.Series(contacts)\n",
        "#Se imprime el arreglo\n",
        "serie\n"
      ],
      "metadata": {
        "colab": {
          "base_uri": "https://localhost:8080/"
        },
        "id": "9NufSLGuaG5D",
        "outputId": "fb052aec-a05b-4c61-b42c-c6893d48abe5"
      },
      "execution_count": 84,
      "outputs": [
        {
          "output_type": "execute_result",
          "data": {
            "text/plain": [
              "Pedro       [765432, School]\n",
              "Martina       [Work, 876549]\n",
              "Cristina     [1234567, Home]\n",
              "Mario        [7656425, Home]\n",
              "dtype: object"
            ]
          },
          "metadata": {},
          "execution_count": 84
        }
      ]
    },
    {
      "cell_type": "markdown",
      "metadata": {
        "id": "tP5iDnunfq46"
      },
      "source": [
        "We can customize the indices of a new Series:"
      ]
    },
    {
      "cell_type": "code",
      "metadata": {
        "colab": {
          "base_uri": "https://localhost:8080/"
        },
        "id": "eswQC3ZPO58l",
        "outputId": "6c6e3ff1-bc50-4ec9-8345-24f2af8feb18"
      },
      "source": [
        "#Se cambia el índice de la 'Series' de cambia a letras\n",
        "s = pd.Series(price,index = ['a','b','c','d','e','f'])\n",
        "#Se imprime el arreglo\n",
        "s"
      ],
      "execution_count": null,
      "outputs": [
        {
          "output_type": "execute_result",
          "data": {
            "text/plain": [
              "a    143.73\n",
              "b    145.83\n",
              "c    143.68\n",
              "d    144.02\n",
              "e    143.50\n",
              "f    142.62\n",
              "dtype: float64"
            ]
          },
          "metadata": {},
          "execution_count": 72
        }
      ]
    },
    {
      "cell_type": "code",
      "source": [
        "#Example\n",
        "#Se cambia el índice de la 'Series' de cambia a números\n",
        "serieindex = pd.Series(contacts,index = [1,2,3,4])\n",
        "#Se imprime el arreglo, donde se puede ver que se pierden los valores del diccionario\n",
        "serieindex"
      ],
      "metadata": {
        "colab": {
          "base_uri": "https://localhost:8080/"
        },
        "id": "COTsONoBa547",
        "outputId": "9f78dfaf-eb90-46ce-c34f-d1f61f32ab00"
      },
      "execution_count": 85,
      "outputs": [
        {
          "output_type": "execute_result",
          "data": {
            "text/plain": [
              "1    NaN\n",
              "2    NaN\n",
              "3    NaN\n",
              "4    NaN\n",
              "dtype: object"
            ]
          },
          "metadata": {},
          "execution_count": 85
        }
      ]
    },
    {
      "cell_type": "markdown",
      "metadata": {
        "id": "wdZrb8pEfuua"
      },
      "source": [
        "Or we can change the indices of an existing Series:"
      ]
    },
    {
      "cell_type": "code",
      "metadata": {
        "colab": {
          "base_uri": "https://localhost:8080/"
        },
        "id": "MwlRnPF6O58l",
        "outputId": "6f1d38f9-b562-40a7-8c69-cf7605ddf732"
      },
      "source": [
        "#Se cambian los índices del arreglo\n",
        "s.index = [6,5,4,3,2,1]\n",
        "s"
      ],
      "execution_count": null,
      "outputs": [
        {
          "output_type": "execute_result",
          "data": {
            "text/plain": [
              "6    143.73\n",
              "5    145.83\n",
              "4    143.68\n",
              "3    144.02\n",
              "2    143.50\n",
              "1    142.62\n",
              "dtype: float64"
            ]
          },
          "metadata": {},
          "execution_count": 73
        }
      ]
    },
    {
      "cell_type": "code",
      "source": [
        "#Example\n",
        "#Se cambian los índices del arreglo\n",
        "serie.index = [1,2,3,4]\n",
        "#Cambian las llaves del diccionario\n",
        "serie"
      ],
      "metadata": {
        "colab": {
          "base_uri": "https://localhost:8080/"
        },
        "id": "GFLEhKeacFH8",
        "outputId": "4663ee3b-fb89-49b6-8b9b-2a7c70b6e3b4"
      },
      "execution_count": 86,
      "outputs": [
        {
          "output_type": "execute_result",
          "data": {
            "text/plain": [
              "1    [765432, School]\n",
              "2      [Work, 876549]\n",
              "3     [1234567, Home]\n",
              "4     [7656425, Home]\n",
              "dtype: object"
            ]
          },
          "metadata": {},
          "execution_count": 86
        }
      ]
    },
    {
      "cell_type": "markdown",
      "metadata": {
        "id": "6cGNQZwLfxIz"
      },
      "source": [
        "Series is like a list since it can be sliced by index:"
      ]
    },
    {
      "cell_type": "code",
      "metadata": {
        "colab": {
          "base_uri": "https://localhost:8080/"
        },
        "id": "N9bBSg6cO58l",
        "outputId": "4fed1936-9b14-44ca-a4e8-6873d9b706d8"
      },
      "source": [
        "#Se muestran partes del arreglo\n",
        "print(s[1:])\n",
        "print(s[:-2])"
      ],
      "execution_count": null,
      "outputs": [
        {
          "output_type": "stream",
          "name": "stdout",
          "text": [
            "5    145.83\n",
            "4    143.68\n",
            "3    144.02\n",
            "2    143.50\n",
            "1    142.62\n",
            "dtype: float64\n",
            "6    143.73\n",
            "5    145.83\n",
            "4    143.68\n",
            "3    144.02\n",
            "dtype: float64\n"
          ]
        }
      ]
    },
    {
      "cell_type": "code",
      "source": [
        "#Example\n",
        "#Se muestran partes del arreglo\n",
        "print(serie[:3])\n",
        "print(serie[:-3])"
      ],
      "metadata": {
        "colab": {
          "base_uri": "https://localhost:8080/"
        },
        "id": "Ycl1TxeGc3au",
        "outputId": "94846acf-7367-4aff-fa2a-3f4a1515442a"
      },
      "execution_count": 79,
      "outputs": [
        {
          "output_type": "stream",
          "name": "stdout",
          "text": [
            "1    [765432, School]\n",
            "2      [Work, 876549]\n",
            "3     [1234567, Home]\n",
            "dtype: object\n",
            "1    [765432, School]\n",
            "dtype: object\n"
          ]
        }
      ]
    },
    {
      "cell_type": "markdown",
      "metadata": {
        "id": "5V25nViZfz3Z"
      },
      "source": [
        "Series is also like a dictionary whose values can be set or fetched by index label:"
      ]
    },
    {
      "cell_type": "code",
      "metadata": {
        "colab": {
          "base_uri": "https://localhost:8080/"
        },
        "id": "b3Y0kKGYO58l",
        "outputId": "beb4aa36-3e49-4d1a-cf11-5309214e9e60"
      },
      "source": [
        "#Se cambia el valor de un valor específico del arreglo\n",
        "print(s[4])\n",
        "s[4] = 0\n",
        "print(s)"
      ],
      "execution_count": null,
      "outputs": [
        {
          "output_type": "stream",
          "name": "stdout",
          "text": [
            "143.68\n",
            "6    143.73\n",
            "5    145.83\n",
            "4      0.00\n",
            "3    144.02\n",
            "2    143.50\n",
            "1    142.62\n",
            "dtype: float64\n"
          ]
        }
      ]
    },
    {
      "cell_type": "code",
      "source": [
        "#Example\n",
        "#Se cambia el valor de un valor específico del arreglo\n",
        "print(serie[4])\n",
        "serie[4] = [76543, 'Home', 24356]\n",
        "print(serie)"
      ],
      "metadata": {
        "colab": {
          "base_uri": "https://localhost:8080/"
        },
        "id": "5EWKK6FldZL4",
        "outputId": "feae8d80-ae0b-4870-a2b4-f9837d918f88"
      },
      "execution_count": 87,
      "outputs": [
        {
          "output_type": "stream",
          "name": "stdout",
          "text": [
            "[7656425, 'Home']\n",
            "1        [765432, School]\n",
            "2          [Work, 876549]\n",
            "3         [1234567, Home]\n",
            "4    [76543, Home, 24356]\n",
            "dtype: object\n"
          ]
        }
      ]
    },
    {
      "cell_type": "markdown",
      "metadata": {
        "id": "RQ1P7Gkyf060"
      },
      "source": [
        "Series can also have a name attribute, which will be used when we make up a Pandas DataFrame using several series."
      ]
    },
    {
      "cell_type": "code",
      "metadata": {
        "colab": {
          "base_uri": "https://localhost:8080/"
        },
        "id": "ZeD4-p7KO58m",
        "outputId": "add952eb-4ac8-49d4-c63b-59fe3da953a5"
      },
      "source": [
        "#Se agrega el nombre del arreglo\n",
        "s = pd.Series(price, name = 'Apple Price List')\n",
        "print(s)\n",
        "#Se imprime el nombre del arreglo\n",
        "print(s.name)"
      ],
      "execution_count": null,
      "outputs": [
        {
          "output_type": "stream",
          "name": "stdout",
          "text": [
            "0    143.73\n",
            "1    145.83\n",
            "2    143.68\n",
            "3    144.02\n",
            "4    143.50\n",
            "5    142.62\n",
            "Name: Apple Price List, dtype: float64\n",
            "Apple Price List\n"
          ]
        }
      ]
    },
    {
      "cell_type": "markdown",
      "metadata": {
        "id": "geJb1pGHf5Et"
      },
      "source": [
        "We can get the statistical summaries of a Series:"
      ]
    },
    {
      "cell_type": "code",
      "metadata": {
        "colab": {
          "base_uri": "https://localhost:8080/"
        },
        "id": "mGPtFcjegm4i",
        "outputId": "c755fd81-f5cc-4e33-ac06-0286c3710356"
      },
      "source": [
        "#Se imprime un resumen estadístico del arreglo\n",
        "print(s.describe())"
      ],
      "execution_count": null,
      "outputs": [
        {
          "output_type": "stream",
          "name": "stdout",
          "text": [
            "count      6.000000\n",
            "mean     143.896667\n",
            "std        1.059711\n",
            "min      142.620000\n",
            "25%      143.545000\n",
            "50%      143.705000\n",
            "75%      143.947500\n",
            "max      145.830000\n",
            "Name: Apple Price List, dtype: float64\n"
          ]
        }
      ]
    },
    {
      "cell_type": "code",
      "source": [
        "#Example\n",
        "#Se agrega un nombre al arreglo\n",
        "serie = pd.Series(contacts, name = 'Contactos de teléfono')\n",
        "#Se imprime el arreglo\n",
        "print(serie)\n",
        "#Se imprime el nombre del arreglo\n",
        "print(serie.name)\n",
        "\n",
        "#Se imprime un resumen estadístico del arreglo correspondiente al tipo de datos en el arreglo\n",
        "print(serie.describe())"
      ],
      "metadata": {
        "colab": {
          "base_uri": "https://localhost:8080/"
        },
        "id": "eg9iXqD7eLSY",
        "outputId": "a2a63468-fc5b-408d-e372-c80f0f4d3bd4"
      },
      "execution_count": 91,
      "outputs": [
        {
          "output_type": "stream",
          "name": "stdout",
          "text": [
            "Pedro       [765432, School]\n",
            "Martina       [Work, 876549]\n",
            "Cristina     [1234567, Home]\n",
            "Mario        [7656425, Home]\n",
            "Name: Contactos de teléfono, dtype: object\n",
            "Contactos de teléfono\n",
            "count                    4\n",
            "unique                   4\n",
            "top       [765432, School]\n",
            "freq                     1\n",
            "Name: Contactos de teléfono, dtype: object\n"
          ]
        }
      ]
    },
    {
      "cell_type": "markdown",
      "metadata": {
        "id": "LkdZu-CDgvlR"
      },
      "source": [
        "## Time Index\n",
        "Pandas has a built-in function specifically for creating date indices: pd.date_range(). We use it to create a new index for our Series:"
      ]
    },
    {
      "cell_type": "code",
      "metadata": {
        "colab": {
          "base_uri": "https://localhost:8080/"
        },
        "id": "HJe5hU4zO58m",
        "outputId": "9d621c1b-9219-4df0-e281-c205122a501e"
      },
      "source": [
        "#Se crea una tabla con índices de tipo fecha\n",
        "time_index = pd.date_range('2017-01-01',periods = len(s),freq = 'D')\n",
        "#Se imprime el arreglo\n",
        "print(time_index)\n",
        "#Se cambia el índice de la 'Serie' anterior\n",
        "s.index = time_index\n",
        "print(s)"
      ],
      "execution_count": null,
      "outputs": [
        {
          "output_type": "stream",
          "name": "stdout",
          "text": [
            "DatetimeIndex(['2017-01-01', '2017-01-02', '2017-01-03', '2017-01-04',\n",
            "               '2017-01-05', '2017-01-06'],\n",
            "              dtype='datetime64[ns]', freq='D')\n",
            "2017-01-01    143.73\n",
            "2017-01-02    145.83\n",
            "2017-01-03    143.68\n",
            "2017-01-04    144.02\n",
            "2017-01-05    143.50\n",
            "2017-01-06    142.62\n",
            "Freq: D, Name: Apple Price List, dtype: float64\n"
          ]
        }
      ]
    },
    {
      "cell_type": "code",
      "source": [
        "#Example\n",
        "#Se crea una tabla con índices de tipo fecha\n",
        "time = pd.date_range('2022-03-15',periods = len(serie))\n",
        "#Se imprime el arreglo\n",
        "print(time)\n",
        "#Se cambia el índice de la 'Serie' anterior\n",
        "serie.index = time\n",
        "print(serie)"
      ],
      "metadata": {
        "colab": {
          "base_uri": "https://localhost:8080/"
        },
        "id": "l1PLoranfJM2",
        "outputId": "aa8f6ca6-c6aa-4eff-e308-59bf219a6721"
      },
      "execution_count": 95,
      "outputs": [
        {
          "output_type": "stream",
          "name": "stdout",
          "text": [
            "DatetimeIndex(['2022-03-15', '2022-03-16', '2022-03-17', '2022-03-18'], dtype='datetime64[ns]', freq='D')\n",
            "2022-03-15    [765432, School]\n",
            "2022-03-16      [Work, 876549]\n",
            "2022-03-17     [1234567, Home]\n",
            "2022-03-18     [7656425, Home]\n",
            "Freq: D, Name: Contactos de teléfono, dtype: object\n"
          ]
        }
      ]
    },
    {
      "cell_type": "markdown",
      "metadata": {
        "id": "7WedejFZg19J"
      },
      "source": [
        "Series are usually accessed using the iloc[] and loc[] methods. iloc[] is used to access elements by integer index, and loc[] is used to access the index of the series.\n",
        "\n",
        "iloc[] is necessary when the index of a series are integers, take our previous defined series as example:"
      ]
    },
    {
      "cell_type": "code",
      "metadata": {
        "colab": {
          "base_uri": "https://localhost:8080/"
        },
        "id": "KrVSOyMvO58m",
        "outputId": "53834718-43c5-4490-e361-2888f8651f96"
      },
      "source": [
        "#Se realiza el cambio de índice de la misma manera que antes\n",
        "s.index = [6,5,4,3,2,1]\n",
        "print(s)\n",
        "#Se accede al elemento con el índice 1\n",
        "print(s[1])"
      ],
      "execution_count": null,
      "outputs": [
        {
          "output_type": "stream",
          "name": "stdout",
          "text": [
            "6    143.73\n",
            "5    145.83\n",
            "4    143.68\n",
            "3    144.02\n",
            "2    143.50\n",
            "1    142.62\n",
            "Name: Apple Price List, dtype: float64\n",
            "142.62\n"
          ]
        }
      ]
    },
    {
      "cell_type": "code",
      "source": [
        "#Se realiza el cambio de índice de la misma manera que antes para ilustrar\n",
        "serie.index = [1,2,3,4]\n",
        "print(serie)\n",
        "#Se accede al elemento con el índice 1\n",
        "print(serie[1])"
      ],
      "metadata": {
        "colab": {
          "base_uri": "https://localhost:8080/"
        },
        "id": "UIcCwGAJgd8x",
        "outputId": "72bca857-e6b9-4ead-818b-486b5e71e06f"
      },
      "execution_count": 98,
      "outputs": [
        {
          "output_type": "stream",
          "name": "stdout",
          "text": [
            "1    [765432, School]\n",
            "2      [Work, 876549]\n",
            "3     [1234567, Home]\n",
            "4     [7656425, Home]\n",
            "Name: Contactos de teléfono, dtype: object\n",
            "[765432, 'School']\n"
          ]
        }
      ]
    },
    {
      "cell_type": "markdown",
      "metadata": {
        "id": "r30VKPtpg61p"
      },
      "source": [
        "If we intended to take the second element of the series, we would make a mistake here, because the index are integers. In order to access to the element we want, we use iloc[] here:"
      ]
    },
    {
      "cell_type": "code",
      "metadata": {
        "colab": {
          "base_uri": "https://localhost:8080/"
        },
        "id": "bHukfaAmO58m",
        "outputId": "a75ed573-3d6e-45db-ece3-16aff3ced012"
      },
      "source": [
        "#Se accede al segundo valor del arreglo teniendo en cuenta la numeración estándar (0-N-1)\n",
        "print(s.iloc[1])"
      ],
      "execution_count": null,
      "outputs": [
        {
          "output_type": "stream",
          "name": "stdout",
          "text": [
            "145.83\n"
          ]
        }
      ]
    },
    {
      "cell_type": "markdown",
      "metadata": {
        "id": "kHVBRL_Rg84j"
      },
      "source": [
        "While working with time series data, we often use time as the index. Pandas provides us with various methods to access the data by time index"
      ]
    },
    {
      "cell_type": "code",
      "metadata": {
        "colab": {
          "base_uri": "https://localhost:8080/"
        },
        "id": "FCf8Hg7jO58n",
        "outputId": "b095c269-31ed-40e4-e4a8-d6d0b0b1a46d"
      },
      "source": [
        "#Se accede a los índices utilizando índices de fechas\n",
        "s.index = time_index\n",
        "print(s['2017-01-03'])"
      ],
      "execution_count": null,
      "outputs": [
        {
          "output_type": "stream",
          "name": "stdout",
          "text": [
            "143.68\n"
          ]
        }
      ]
    },
    {
      "cell_type": "markdown",
      "metadata": {
        "id": "XJXcrSFpg-To"
      },
      "source": [
        "We can even access to a range of dates:"
      ]
    },
    {
      "cell_type": "code",
      "metadata": {
        "colab": {
          "base_uri": "https://localhost:8080/"
        },
        "id": "NsE-Lr_9O58n",
        "outputId": "ecfd6e32-3661-4448-d4d7-9bf37fbe74c9"
      },
      "source": [
        "#Se escoge un rango de índices de tipo fecha para acceder\n",
        "print(s['2017-01-02':'2017-01-05'])"
      ],
      "execution_count": null,
      "outputs": [
        {
          "output_type": "stream",
          "name": "stdout",
          "text": [
            "2017-01-02    145.83\n",
            "2017-01-03    143.68\n",
            "2017-01-04    144.02\n",
            "2017-01-05    143.50\n",
            "Freq: D, Name: Apple Price List, dtype: float64\n"
          ]
        }
      ]
    },
    {
      "cell_type": "code",
      "source": [
        "#Example\n",
        "#Se imprime el último elemento del arreglo\n",
        "print(serie.iloc[-1])\n",
        "\n",
        "#Se utilizan los índices de tipo fecha\n",
        "serie.index = time\n",
        "print(serie['2022-03-16'])\n",
        "#Se imprime un rango de elementos\n",
        "print(serie['2022-03-16':'2022-03-18'])"
      ],
      "metadata": {
        "colab": {
          "base_uri": "https://localhost:8080/"
        },
        "id": "dZqzTBoZg1ei",
        "outputId": "5c5d1476-f6cd-42f8-ad8d-76c72f99afc5"
      },
      "execution_count": 101,
      "outputs": [
        {
          "output_type": "stream",
          "name": "stdout",
          "text": [
            "[7656425, 'Home']\n",
            "['Work', 876549]\n",
            "2022-03-16     [Work, 876549]\n",
            "2022-03-17    [1234567, Home]\n",
            "2022-03-18    [7656425, Home]\n",
            "Freq: D, Name: Contactos de teléfono, dtype: object\n"
          ]
        }
      ]
    },
    {
      "cell_type": "markdown",
      "metadata": {
        "id": "cWA3NCXEhCLB"
      },
      "source": [
        "Series[] provides us a very flexible way to index data. We can add any condition in the square brackets:"
      ]
    },
    {
      "cell_type": "code",
      "metadata": {
        "colab": {
          "base_uri": "https://localhost:8080/"
        },
        "id": "aawbrg2EO58n",
        "outputId": "2df57a9d-6d50-4e9a-fbf9-b281692ec3d2"
      },
      "source": [
        "#Se imprimen los valores menores al promedio del arreglo\n",
        "print(s[s < np.mean(s)] )\n",
        "#Se evalúa si el valor es mayor al promedio del arreglo y menor al promedio + 1.64*la desviación estándar del arreglo\n",
        "print([(s > np.mean(s)) & (s < np.mean(s) + 1.64*np.std(s))])"
      ],
      "execution_count": null,
      "outputs": [
        {
          "output_type": "stream",
          "name": "stdout",
          "text": [
            "2017-01-01    143.73\n",
            "2017-01-03    143.68\n",
            "2017-01-05    143.50\n",
            "2017-01-06    142.62\n",
            "Name: Apple Price List, dtype: float64\n",
            "[2017-01-01    False\n",
            "2017-01-02    False\n",
            "2017-01-03    False\n",
            "2017-01-04     True\n",
            "2017-01-05    False\n",
            "2017-01-06    False\n",
            "Freq: D, Name: Apple Price List, dtype: bool]\n"
          ]
        }
      ]
    },
    {
      "cell_type": "code",
      "source": [
        "#Example\n",
        "#Se crea un arreglo\n",
        "dta = [256.73, 256.83, 255.68, 256.12]\n",
        "#Se crea un tipo de arreglo llamado 'Series'\n",
        "serie1 = pd.Series(dta)\n",
        "serie1\n",
        "\n",
        "#Se utilizan los índices de tipo fecha\n",
        "serie1.index = time\n",
        "\n",
        "#Se imprimen los valores menores al promedio del arreglo\n",
        "print(serie1[serie1 < np.median(serie1)] )\n",
        "#Se evalúa si el valor es mayor al promedio del arreglo y menor al promedio + 1.64*la desviación estándar del arreglo\n",
        "print([(serie1 > np.mean(serie1)) & (serie1 > np.mean(serie1) - np.max(serie1))])\n",
        "\n"
      ],
      "metadata": {
        "colab": {
          "base_uri": "https://localhost:8080/"
        },
        "id": "DWHwUhC6i0of",
        "outputId": "afeeaebf-f4a7-44fa-b24a-d628ffd6ab39"
      },
      "execution_count": 111,
      "outputs": [
        {
          "output_type": "stream",
          "name": "stdout",
          "text": [
            "2022-03-17    255.68\n",
            "2022-03-18    256.12\n",
            "Freq: D, dtype: float64\n",
            "[2022-03-15     True\n",
            "2022-03-16     True\n",
            "2022-03-17    False\n",
            "2022-03-18    False\n",
            "Freq: D, dtype: bool]\n"
          ]
        }
      ]
    },
    {
      "cell_type": "markdown",
      "metadata": {
        "id": "jAByChIwhEuI"
      },
      "source": [
        "As demonstrated, we can use logical operators like & (and), | (or) and ~ (not) to group multiple conditions.\n",
        "\n",
        "# Summary\n",
        "Here we have introduced NumPy and Pandas for scientific computing in Python. In the next chapter, we will dive into Pandas to learn resampling and manipulating Pandas DataFrame, which are commonly used in financial data analysis."
      ]
    },
    {
      "cell_type": "markdown",
      "metadata": {
        "id": "OtjOpw6oJp6z"
      },
      "source": [
        "<div align=\"center\">\n",
        "<img style=\"display: block; margin: auto;\" alt=\"photo\" src=\"https://cdn.quantconnect.com/web/i/icon.png\"> <img style=\"display: block; margin: auto;\" alt=\"photo\" src=\"https://www.marketing-branding.com/wp-content/uploads/2020/07/google-colaboratory-colab-guia-completa.jpg \" width=\"50\" height=\"50\">\n",
        "<img style=\"display: block; margin: auto;\" alt=\"photo\" src=\"https://upload.wikimedia.org/wikipedia/commons/d/da/Yahoo_Finance_Logo_2019.svg\" width=\"50\" height=\"50\">  \n",
        "\n",
        "Quantconnect -> Google Colab with Yahoo Finance data\n",
        "\n",
        "Introduction to Financial Python\n",
        "</div>\n",
        "\n",
        "# 05 Pandas-Resampling and DataFrame\n",
        "\n",
        "# Introduction\n",
        "In the last chapter we had a glimpse of Pandas. In this chapter we will learn about resampling methods and the DataFrame object, which is a powerful tool for financial data analysis.\n",
        "\n",
        "# Fetching Data\n",
        "Here we use the Yahoo Finance to retrieve data.\n"
      ]
    },
    {
      "cell_type": "code",
      "metadata": {
        "colab": {
          "base_uri": "https://localhost:8080/",
          "height": 661
        },
        "id": "luU8mZTsHW9x",
        "outputId": "2bf1fe1b-a263-4220-8cce-5dbdac93ceba"
      },
      "source": [
        "!pip install yfinance"
      ],
      "execution_count": 112,
      "outputs": [
        {
          "output_type": "stream",
          "name": "stdout",
          "text": [
            "Collecting yfinance\n",
            "  Downloading yfinance-0.1.70-py2.py3-none-any.whl (26 kB)\n",
            "Collecting lxml>=4.5.1\n",
            "  Downloading lxml-4.8.0-cp37-cp37m-manylinux_2_17_x86_64.manylinux2014_x86_64.manylinux_2_24_x86_64.whl (6.4 MB)\n",
            "\u001b[K     |████████████████████████████████| 6.4 MB 11.1 MB/s \n",
            "\u001b[?25hRequirement already satisfied: pandas>=0.24.0 in /usr/local/lib/python3.7/dist-packages (from yfinance) (1.3.5)\n",
            "Collecting requests>=2.26\n",
            "  Downloading requests-2.27.1-py2.py3-none-any.whl (63 kB)\n",
            "\u001b[K     |████████████████████████████████| 63 kB 1.6 MB/s \n",
            "\u001b[?25hRequirement already satisfied: multitasking>=0.0.7 in /usr/local/lib/python3.7/dist-packages (from yfinance) (0.0.10)\n",
            "Requirement already satisfied: numpy>=1.15 in /usr/local/lib/python3.7/dist-packages (from yfinance) (1.21.5)\n",
            "Requirement already satisfied: pytz>=2017.3 in /usr/local/lib/python3.7/dist-packages (from pandas>=0.24.0->yfinance) (2018.9)\n",
            "Requirement already satisfied: python-dateutil>=2.7.3 in /usr/local/lib/python3.7/dist-packages (from pandas>=0.24.0->yfinance) (2.8.2)\n",
            "Requirement already satisfied: six>=1.5 in /usr/local/lib/python3.7/dist-packages (from python-dateutil>=2.7.3->pandas>=0.24.0->yfinance) (1.15.0)\n",
            "Requirement already satisfied: idna<4,>=2.5 in /usr/local/lib/python3.7/dist-packages (from requests>=2.26->yfinance) (2.10)\n",
            "Requirement already satisfied: charset-normalizer~=2.0.0 in /usr/local/lib/python3.7/dist-packages (from requests>=2.26->yfinance) (2.0.12)\n",
            "Requirement already satisfied: urllib3<1.27,>=1.21.1 in /usr/local/lib/python3.7/dist-packages (from requests>=2.26->yfinance) (1.24.3)\n",
            "Requirement already satisfied: certifi>=2017.4.17 in /usr/local/lib/python3.7/dist-packages (from requests>=2.26->yfinance) (2021.10.8)\n",
            "Installing collected packages: requests, lxml, yfinance\n",
            "  Attempting uninstall: requests\n",
            "    Found existing installation: requests 2.23.0\n",
            "    Uninstalling requests-2.23.0:\n",
            "      Successfully uninstalled requests-2.23.0\n",
            "  Attempting uninstall: lxml\n",
            "    Found existing installation: lxml 4.2.6\n",
            "    Uninstalling lxml-4.2.6:\n",
            "      Successfully uninstalled lxml-4.2.6\n",
            "\u001b[31mERROR: pip's dependency resolver does not currently take into account all the packages that are installed. This behaviour is the source of the following dependency conflicts.\n",
            "google-colab 1.0.0 requires requests~=2.23.0, but you have requests 2.27.1 which is incompatible.\n",
            "datascience 0.10.6 requires folium==0.2.1, but you have folium 0.8.3 which is incompatible.\u001b[0m\n",
            "Successfully installed lxml-4.8.0 requests-2.27.1 yfinance-0.1.70\n"
          ]
        },
        {
          "output_type": "display_data",
          "data": {
            "application/vnd.colab-display-data+json": {
              "pip_warning": {
                "packages": [
                  "requests"
                ]
              }
            }
          },
          "metadata": {}
        }
      ]
    },
    {
      "cell_type": "code",
      "metadata": {
        "colab": {
          "base_uri": "https://localhost:8080/",
          "height": 487
        },
        "id": "mWZ-nirTZHrE",
        "outputId": "ea7d6d55-81f0-41b4-ef1a-4788fd7204d5"
      },
      "source": [
        "#Se importa la librería\n",
        "import yfinance as yf\n",
        "\n",
        "\n",
        "aapl = yf.Ticker(\"AAPL\")\n",
        "\n",
        "# get stock info\n",
        "print(aapl.info)\n",
        "\n",
        "# get historical market data\n",
        "aapl_table = aapl.history(start=\"2016-01-01\",  end=\"2017-12-31\")\n",
        "aapl_table"
      ],
      "execution_count": null,
      "outputs": [
        {
          "output_type": "stream",
          "name": "stdout",
          "text": [
            "{'zip': '95014', 'sector': 'Technology', 'fullTimeEmployees': 147000, 'longBusinessSummary': 'Apple Inc. designs, manufactures, and markets smartphones, personal computers, tablets, wearables, and accessories worldwide. It also sells various related services. The company offers iPhone, a line of smartphones; Mac, a line of personal computers; iPad, a line of multi-purpose tablets; and wearables, home, and accessories comprising AirPods, Apple TV, Apple Watch, Beats products, HomePod, iPod touch, and other Apple-branded and third-party accessories. It also provides AppleCare support services; cloud services store services; and operates various platforms, including the App Store, that allow customers to discover and download applications and digital content, such as books, music, video, games, and podcasts. In addition, the company offers various services, such as Apple Arcade, a game subscription service; Apple Music, which offers users a curated listening experience with on-demand radio stations; Apple News+, a subscription news and magazine service; Apple TV+, which offers exclusive original content; Apple Card, a co-branded credit card; and Apple Pay, a cashless payment service, as well as licenses its intellectual property. The company serves consumers, and small and mid-sized businesses; and the education, enterprise, and government markets. It sells and delivers third-party applications for its products through the App Store. The company also sells its products through its retail and online stores, and direct sales force; and third-party cellular network carriers, wholesalers, retailers, and resellers. Apple Inc. was founded in 1977 and is headquartered in Cupertino, California.', 'city': 'Cupertino', 'phone': '408-996-1010', 'state': 'CA', 'country': 'United States', 'companyOfficers': [], 'website': 'http://www.apple.com', 'maxAge': 1, 'address1': 'One Apple Park Way', 'industry': 'Consumer Electronics', 'ebitdaMargins': 0.31955, 'profitMargins': 0.25004, 'grossMargins': 0.41005, 'operatingCashflow': 104414003200, 'revenueGrowth': 0.364, 'operatingMargins': 0.28788, 'ebitda': 110934999040, 'targetLowPrice': 132, 'recommendationKey': 'buy', 'grossProfits': 104956000000, 'freeCashflow': 80625876992, 'targetMedianPrice': 170, 'currentPrice': 148.36, 'earningsGrowth': 1, 'currentRatio': 1.062, 'returnOnAssets': 0.19302, 'numberOfAnalystOpinions': 40, 'targetMeanPrice': 168.89, 'debtToEquity': 210.782, 'returnOnEquity': 1.27125, 'targetHighPrice': 190, 'totalCash': 61696000000, 'totalDebt': 135491002368, 'totalRevenue': 347155005440, 'totalCashPerShare': 3.732, 'financialCurrency': 'USD', 'revenuePerShare': 20.61, 'quickRatio': 0.887, 'recommendationMean': 1.8, 'exchange': 'NMS', 'shortName': 'Apple Inc.', 'longName': 'Apple Inc.', 'exchangeTimezoneName': 'America/New_York', 'exchangeTimezoneShortName': 'EDT', 'isEsgPopulated': False, 'gmtOffSetMilliseconds': '-14400000', 'quoteType': 'EQUITY', 'symbol': 'AAPL', 'messageBoardId': 'finmb_24937', 'market': 'us_market', 'annualHoldingsTurnover': None, 'enterpriseToRevenue': 7.293, 'beta3Year': None, 'enterpriseToEbitda': 22.821, '52WeekChange': 0.29239464, 'morningStarRiskRating': None, 'forwardEps': 5.68, 'revenueQuarterlyGrowth': None, 'sharesOutstanding': 16530199552, 'fundInceptionDate': None, 'annualReportExpenseRatio': None, 'totalAssets': None, 'bookValue': 3.882, 'sharesShort': 101107412, 'sharesPercentSharesOut': 0.0061000003, 'fundFamily': None, 'lastFiscalYearEnd': 1601078400, 'heldPercentInstitutions': 0.58671004, 'netIncomeToCommon': 86801997824, 'trailingEps': 5.108, 'lastDividendValue': 0.22, 'SandP52WeekChange': 0.33635402, 'priceToBook': 38.217415, 'heldPercentInsiders': 0.00072999997, 'nextFiscalYearEnd': 1664150400, 'yield': None, 'mostRecentQuarter': 1624665600, 'shortRatio': 1.18, 'sharesShortPreviousMonthDate': 1630368000, 'floatShares': 16513139929, 'beta': 1.222222, 'enterpriseValue': 2531665379328, 'priceHint': 2, 'threeYearAverageReturn': None, 'lastSplitDate': 1598832000, 'lastSplitFactor': '4:1', 'legalType': None, 'lastDividendDate': 1628208000, 'morningStarOverallRating': None, 'earningsQuarterlyGrowth': 0.932, 'priceToSalesTrailing12Months': 7.064338, 'dateShortInterest': 1632960000, 'pegRatio': 1.34, 'ytdReturn': None, 'forwardPE': 26.119719, 'lastCapGain': None, 'shortPercentOfFloat': 0.0061000003, 'sharesShortPriorMonth': 96838699, 'impliedSharesOutstanding': None, 'category': None, 'fiveYearAverageReturn': None, 'previousClose': 148.69, 'regularMarketOpen': 148.68, 'twoHundredDayAverage': 139.49467, 'trailingAnnualDividendYield': 0.0056157103, 'payoutRatio': 0.16309999, 'volume24Hr': None, 'regularMarketDayHigh': 149.37, 'navPrice': None, 'averageDailyVolume10Day': 68088783, 'regularMarketPreviousClose': 148.69, 'fiftyDayAverage': 145.9303, 'trailingAnnualDividendRate': 0.835, 'open': 148.68, 'toCurrency': None, 'averageVolume10days': 68088783, 'expireDate': None, 'algorithm': None, 'dividendRate': 0.88, 'exDividendDate': 1628208000, 'circulatingSupply': None, 'startDate': None, 'regularMarketDayLow': 147.92, 'currency': 'USD', 'trailingPE': 29.044638, 'regularMarketVolume': 10036145, 'lastMarket': None, 'maxSupply': None, 'openInterest': None, 'marketCap': 2452420296704, 'volumeAllCurrencies': None, 'strikePrice': None, 'averageVolume': 75838454, 'dayLow': 147.92, 'ask': 148.39, 'askSize': 1200, 'volume': 10036145, 'fiftyTwoWeekHigh': 157.26, 'fromCurrency': None, 'fiveYearAvgDividendYield': 1.24, 'fiftyTwoWeekLow': 107.32, 'bid': 148.38, 'tradeable': False, 'dividendYield': 0.0058999998, 'bidSize': 900, 'dayHigh': 149.37, 'regularMarketPrice': 148.36, 'preMarketPrice': 148.69, 'logo_url': 'https://logo.clearbit.com/apple.com'}\n"
          ]
        },
        {
          "output_type": "execute_result",
          "data": {
            "text/html": [
              "<div>\n",
              "<style scoped>\n",
              "    .dataframe tbody tr th:only-of-type {\n",
              "        vertical-align: middle;\n",
              "    }\n",
              "\n",
              "    .dataframe tbody tr th {\n",
              "        vertical-align: top;\n",
              "    }\n",
              "\n",
              "    .dataframe thead th {\n",
              "        text-align: right;\n",
              "    }\n",
              "</style>\n",
              "<table border=\"1\" class=\"dataframe\">\n",
              "  <thead>\n",
              "    <tr style=\"text-align: right;\">\n",
              "      <th></th>\n",
              "      <th>Open</th>\n",
              "      <th>High</th>\n",
              "      <th>Low</th>\n",
              "      <th>Close</th>\n",
              "      <th>Volume</th>\n",
              "      <th>Dividends</th>\n",
              "      <th>Stock Splits</th>\n",
              "    </tr>\n",
              "    <tr>\n",
              "      <th>Date</th>\n",
              "      <th></th>\n",
              "      <th></th>\n",
              "      <th></th>\n",
              "      <th></th>\n",
              "      <th></th>\n",
              "      <th></th>\n",
              "      <th></th>\n",
              "    </tr>\n",
              "  </thead>\n",
              "  <tbody>\n",
              "    <tr>\n",
              "      <th>2016-01-04</th>\n",
              "      <td>23.655163</td>\n",
              "      <td>24.291439</td>\n",
              "      <td>23.514536</td>\n",
              "      <td>24.286827</td>\n",
              "      <td>270597600</td>\n",
              "      <td>0.0</td>\n",
              "      <td>0</td>\n",
              "    </tr>\n",
              "    <tr>\n",
              "      <th>2016-01-05</th>\n",
              "      <td>24.379045</td>\n",
              "      <td>24.402098</td>\n",
              "      <td>23.609059</td>\n",
              "      <td>23.678219</td>\n",
              "      <td>223164000</td>\n",
              "      <td>0.0</td>\n",
              "      <td>0</td>\n",
              "    </tr>\n",
              "    <tr>\n",
              "      <th>2016-01-06</th>\n",
              "      <td>23.182573</td>\n",
              "      <td>23.599842</td>\n",
              "      <td>23.023505</td>\n",
              "      <td>23.214848</td>\n",
              "      <td>273829600</td>\n",
              "      <td>0.0</td>\n",
              "      <td>0</td>\n",
              "    </tr>\n",
              "    <tr>\n",
              "      <th>2016-01-07</th>\n",
              "      <td>22.749158</td>\n",
              "      <td>23.083433</td>\n",
              "      <td>22.230456</td>\n",
              "      <td>22.235065</td>\n",
              "      <td>324377600</td>\n",
              "      <td>0.0</td>\n",
              "      <td>0</td>\n",
              "    </tr>\n",
              "    <tr>\n",
              "      <th>2016-01-08</th>\n",
              "      <td>22.719195</td>\n",
              "      <td>22.848294</td>\n",
              "      <td>22.306538</td>\n",
              "      <td>22.352644</td>\n",
              "      <td>283192000</td>\n",
              "      <td>0.0</td>\n",
              "      <td>0</td>\n",
              "    </tr>\n",
              "    <tr>\n",
              "      <th>...</th>\n",
              "      <td>...</td>\n",
              "      <td>...</td>\n",
              "      <td>...</td>\n",
              "      <td>...</td>\n",
              "      <td>...</td>\n",
              "      <td>...</td>\n",
              "      <td>...</td>\n",
              "    </tr>\n",
              "    <tr>\n",
              "      <th>2017-12-22</th>\n",
              "      <td>41.827756</td>\n",
              "      <td>42.004953</td>\n",
              "      <td>41.784656</td>\n",
              "      <td>41.906776</td>\n",
              "      <td>65397600</td>\n",
              "      <td>0.0</td>\n",
              "      <td>0</td>\n",
              "    </tr>\n",
              "    <tr>\n",
              "      <th>2017-12-26</th>\n",
              "      <td>40.898682</td>\n",
              "      <td>41.059116</td>\n",
              "      <td>40.630492</td>\n",
              "      <td>40.843609</td>\n",
              "      <td>132742000</td>\n",
              "      <td>0.0</td>\n",
              "      <td>0</td>\n",
              "    </tr>\n",
              "    <tr>\n",
              "      <th>2017-12-27</th>\n",
              "      <td>40.731054</td>\n",
              "      <td>40.893880</td>\n",
              "      <td>40.637667</td>\n",
              "      <td>40.850780</td>\n",
              "      <td>85992800</td>\n",
              "      <td>0.0</td>\n",
              "      <td>0</td>\n",
              "    </tr>\n",
              "    <tr>\n",
              "      <th>2017-12-28</th>\n",
              "      <td>40.946572</td>\n",
              "      <td>41.150109</td>\n",
              "      <td>40.822055</td>\n",
              "      <td>40.965729</td>\n",
              "      <td>65920800</td>\n",
              "      <td>0.0</td>\n",
              "      <td>0</td>\n",
              "    </tr>\n",
              "    <tr>\n",
              "      <th>2017-12-29</th>\n",
              "      <td>40.831625</td>\n",
              "      <td>40.848385</td>\n",
              "      <td>40.520335</td>\n",
              "      <td>40.522728</td>\n",
              "      <td>103999600</td>\n",
              "      <td>0.0</td>\n",
              "      <td>0</td>\n",
              "    </tr>\n",
              "  </tbody>\n",
              "</table>\n",
              "<p>503 rows × 7 columns</p>\n",
              "</div>"
            ],
            "text/plain": [
              "                 Open       High        Low  ...     Volume  Dividends  Stock Splits\n",
              "Date                                         ...                                    \n",
              "2016-01-04  23.655163  24.291439  23.514536  ...  270597600        0.0             0\n",
              "2016-01-05  24.379045  24.402098  23.609059  ...  223164000        0.0             0\n",
              "2016-01-06  23.182573  23.599842  23.023505  ...  273829600        0.0             0\n",
              "2016-01-07  22.749158  23.083433  22.230456  ...  324377600        0.0             0\n",
              "2016-01-08  22.719195  22.848294  22.306538  ...  283192000        0.0             0\n",
              "...               ...        ...        ...  ...        ...        ...           ...\n",
              "2017-12-22  41.827756  42.004953  41.784656  ...   65397600        0.0             0\n",
              "2017-12-26  40.898682  41.059116  40.630492  ...  132742000        0.0             0\n",
              "2017-12-27  40.731054  40.893880  40.637667  ...   85992800        0.0             0\n",
              "2017-12-28  40.946572  41.150109  40.822055  ...   65920800        0.0             0\n",
              "2017-12-29  40.831625  40.848385  40.520335  ...  103999600        0.0             0\n",
              "\n",
              "[503 rows x 7 columns]"
            ]
          },
          "metadata": {},
          "execution_count": 2
        }
      ]
    },
    {
      "cell_type": "code",
      "source": [
        "#Example\n",
        "#Se importa la librería\n",
        "import yfinance as yf\n",
        "\n",
        "dat = yf.Ticker(\"GOOG\")\n",
        "\n",
        "#Se obtiene la información correspondiente\n",
        "print(dat.info)\n",
        "\n",
        "#Se obtiene los datos históricos del mercado\n",
        "table = dat.history(start=\"2016-01-01\",  end=\"2017-12-31\")\n",
        "table"
      ],
      "metadata": {
        "colab": {
          "base_uri": "https://localhost:8080/",
          "height": 492
        },
        "id": "WII2zRlvlCO3",
        "outputId": "4c890e52-162b-4a6f-b42f-d4215bc41e80"
      },
      "execution_count": 3,
      "outputs": [
        {
          "output_type": "stream",
          "name": "stdout",
          "text": [
            "{'zip': '94043', 'sector': 'Communication Services', 'fullTimeEmployees': 156500, 'longBusinessSummary': 'Alphabet Inc. provides online advertising services in the United States, Europe, the Middle East, Africa, the Asia-Pacific, Canada, and Latin America. The company offers performance and brand advertising services. It operates through Google Services, Google Cloud, and Other Bets segments. The Google Services segment provides products and services, such as ads, Android, Chrome, Google Maps, Google Play, Search, and YouTube; subscription-based products; and Fitbit wearable devices, Google Nest home products, Pixel phones, and other devices, as well as in-app purchases and digital content. The Google Cloud segment offers infrastructure, platform, and other services; Google Workspace that include cloud-based collaboration tools for enterprises, such as Gmail, Docs, Drive, Calendar and Meet; and other services for enterprise customers. The Other Bets segment sells health technology and internet services, as well as licensing and research and development services. The company was incorporated in 1998 and is headquartered in Mountain View, California.', 'city': 'Mountain View', 'phone': '650 253 0000', 'state': 'CA', 'country': 'United States', 'companyOfficers': [], 'website': 'https://www.abc.xyz', 'maxAge': 1, 'address1': '1600 Amphitheatre Parkway', 'industry': 'Internet Content & Information', 'ebitdaMargins': 0.35377, 'profitMargins': 0.29512, 'grossMargins': 0.5694, 'operatingCashflow': 91651997696, 'revenueGrowth': 0.324, 'operatingMargins': 0.30552, 'ebitda': 91144003584, 'targetLowPrice': 3150, 'recommendationKey': 'strong_buy', 'grossProfits': 146698000000, 'freeCashflow': 49490001920, 'targetMedianPrice': 3485, 'currentPrice': 2593.21, 'earningsGrowth': 0.377, 'currentRatio': 2.928, 'returnOnAssets': 0.14493, 'numberOfAnalystOpinions': 10, 'targetMeanPrice': 3463.5, 'debtToEquity': 11.329, 'returnOnEquity': 0.32069, 'targetHighPrice': 3900, 'totalCash': 139649007616, 'totalDebt': 28508000256, 'totalRevenue': 257637007360, 'totalCashPerShare': 211.278, 'financialCurrency': 'USD', 'revenuePerShare': 385.886, 'quickRatio': 2.8, 'recommendationMean': 1.5, 'exchange': 'NMS', 'shortName': 'Alphabet Inc.', 'longName': 'Alphabet Inc.', 'exchangeTimezoneName': 'America/New_York', 'exchangeTimezoneShortName': 'EDT', 'isEsgPopulated': False, 'gmtOffSetMilliseconds': '-14400000', 'quoteType': 'EQUITY', 'symbol': 'GOOG', 'messageBoardId': 'finmb_29096', 'market': 'us_market', 'annualHoldingsTurnover': None, 'enterpriseToRevenue': 6.072, 'beta3Year': None, 'enterpriseToEbitda': 17.163, '52WeekChange': 0.24012947, 'morningStarRiskRating': None, 'forwardEps': 136.06, 'revenueQuarterlyGrowth': None, 'sharesOutstanding': 315639008, 'fundInceptionDate': None, 'annualReportExpenseRatio': None, 'totalAssets': None, 'bookValue': 380.044, 'sharesShort': 1771392, 'sharesPercentSharesOut': 0.0027, 'fundFamily': None, 'lastFiscalYearEnd': 1640908800, 'heldPercentInstitutions': 0.66253996, 'netIncomeToCommon': 76032999424, 'trailingEps': 112.197, 'lastDividendValue': None, 'SandP52WeekChange': 0.072551966, 'priceToBook': 6.8234468, 'heldPercentInsiders': 0.00034000003, 'nextFiscalYearEnd': 1703980800, 'yield': None, 'mostRecentQuarter': 1640908800, 'shortRatio': 0.93, 'sharesShortPreviousMonthDate': 1643587200, 'floatShares': 573571083, 'beta': 1.06496, 'enterpriseValue': 1564302376960, 'priceHint': 2, 'threeYearAverageReturn': None, 'lastSplitDate': 1430092800, 'lastSplitFactor': '10027455:10000000', 'legalType': None, 'lastDividendDate': None, 'morningStarOverallRating': None, 'earningsQuarterlyGrowth': 0.356, 'priceToSalesTrailing12Months': 6.832358, 'dateShortInterest': 1646006400, 'pegRatio': 1.6, 'ytdReturn': None, 'forwardPE': 19.059313, 'lastCapGain': None, 'shortPercentOfFloat': None, 'sharesShortPriorMonth': 1400466, 'impliedSharesOutstanding': 0, 'category': None, 'fiveYearAverageReturn': None, 'previousClose': 2534.82, 'regularMarketOpen': 2554.83, 'twoHundredDayAverage': 2758.3428, 'trailingAnnualDividendYield': 0, 'payoutRatio': 0, 'volume24Hr': None, 'regularMarketDayHigh': 2610.345, 'navPrice': None, 'averageDailyVolume10Day': 1431210, 'regularMarketPreviousClose': 2534.82, 'fiftyDayAverage': 2703.34, 'trailingAnnualDividendRate': 0, 'open': 2554.83, 'toCurrency': None, 'averageVolume10days': 1431210, 'expireDate': None, 'algorithm': None, 'dividendRate': None, 'exDividendDate': None, 'circulatingSupply': None, 'startDate': None, 'regularMarketDayLow': 2531.36, 'currency': 'USD', 'trailingPE': 23.113007, 'regularMarketVolume': 1514630, 'lastMarket': None, 'maxSupply': None, 'openInterest': None, 'marketCap': 1760268255232, 'volumeAllCurrencies': None, 'strikePrice': None, 'averageVolume': 1544743, 'dayLow': 2531.36, 'ask': 2601.21, 'askSize': 800, 'volume': 1514630, 'fiftyTwoWeekHigh': 3042, 'fromCurrency': None, 'fiveYearAvgDividendYield': None, 'fiftyTwoWeekLow': 2010.73, 'bid': 2593.21, 'tradeable': False, 'dividendYield': None, 'bidSize': 800, 'dayHigh': 2610.345, 'regularMarketPrice': 2593.21, 'preMarketPrice': 2553.42, 'logo_url': 'https://logo.clearbit.com/abc.xyz', 'trailingPegRatio': 0.9445}\n"
          ]
        },
        {
          "output_type": "execute_result",
          "data": {
            "text/plain": [
              "                   Open         High          Low        Close   Volume  \\\n",
              "Date                                                                      \n",
              "2016-01-04   743.000000   744.059998   731.257996   741.840027  3272800   \n",
              "2016-01-05   746.450012   752.000000   738.640015   742.580017  1950700   \n",
              "2016-01-06   730.000000   747.179993   728.919983   743.619995  1947000   \n",
              "2016-01-07   730.309998   738.500000   719.059998   726.390015  2963700   \n",
              "2016-01-08   731.450012   733.229980   713.000000   714.469971  2450900   \n",
              "...                 ...          ...          ...          ...      ...   \n",
              "2017-12-22  1061.109985  1064.199951  1059.439941  1060.119995   755100   \n",
              "2017-12-26  1058.069946  1060.119995  1050.199951  1056.739990   760600   \n",
              "2017-12-27  1057.390015  1058.369995  1048.050049  1049.369995  1271900   \n",
              "2017-12-28  1051.599976  1054.750000  1044.770020  1048.140015   837100   \n",
              "2017-12-29  1046.719971  1049.699951  1044.900024  1046.400024   887500   \n",
              "\n",
              "            Dividends  Stock Splits  \n",
              "Date                                 \n",
              "2016-01-04          0             0  \n",
              "2016-01-05          0             0  \n",
              "2016-01-06          0             0  \n",
              "2016-01-07          0             0  \n",
              "2016-01-08          0             0  \n",
              "...               ...           ...  \n",
              "2017-12-22          0             0  \n",
              "2017-12-26          0             0  \n",
              "2017-12-27          0             0  \n",
              "2017-12-28          0             0  \n",
              "2017-12-29          0             0  \n",
              "\n",
              "[503 rows x 7 columns]"
            ],
            "text/html": [
              "\n",
              "  <div id=\"df-cfc0fea5-21c7-458f-83fa-974e4e749cad\">\n",
              "    <div class=\"colab-df-container\">\n",
              "      <div>\n",
              "<style scoped>\n",
              "    .dataframe tbody tr th:only-of-type {\n",
              "        vertical-align: middle;\n",
              "    }\n",
              "\n",
              "    .dataframe tbody tr th {\n",
              "        vertical-align: top;\n",
              "    }\n",
              "\n",
              "    .dataframe thead th {\n",
              "        text-align: right;\n",
              "    }\n",
              "</style>\n",
              "<table border=\"1\" class=\"dataframe\">\n",
              "  <thead>\n",
              "    <tr style=\"text-align: right;\">\n",
              "      <th></th>\n",
              "      <th>Open</th>\n",
              "      <th>High</th>\n",
              "      <th>Low</th>\n",
              "      <th>Close</th>\n",
              "      <th>Volume</th>\n",
              "      <th>Dividends</th>\n",
              "      <th>Stock Splits</th>\n",
              "    </tr>\n",
              "    <tr>\n",
              "      <th>Date</th>\n",
              "      <th></th>\n",
              "      <th></th>\n",
              "      <th></th>\n",
              "      <th></th>\n",
              "      <th></th>\n",
              "      <th></th>\n",
              "      <th></th>\n",
              "    </tr>\n",
              "  </thead>\n",
              "  <tbody>\n",
              "    <tr>\n",
              "      <th>2016-01-04</th>\n",
              "      <td>743.000000</td>\n",
              "      <td>744.059998</td>\n",
              "      <td>731.257996</td>\n",
              "      <td>741.840027</td>\n",
              "      <td>3272800</td>\n",
              "      <td>0</td>\n",
              "      <td>0</td>\n",
              "    </tr>\n",
              "    <tr>\n",
              "      <th>2016-01-05</th>\n",
              "      <td>746.450012</td>\n",
              "      <td>752.000000</td>\n",
              "      <td>738.640015</td>\n",
              "      <td>742.580017</td>\n",
              "      <td>1950700</td>\n",
              "      <td>0</td>\n",
              "      <td>0</td>\n",
              "    </tr>\n",
              "    <tr>\n",
              "      <th>2016-01-06</th>\n",
              "      <td>730.000000</td>\n",
              "      <td>747.179993</td>\n",
              "      <td>728.919983</td>\n",
              "      <td>743.619995</td>\n",
              "      <td>1947000</td>\n",
              "      <td>0</td>\n",
              "      <td>0</td>\n",
              "    </tr>\n",
              "    <tr>\n",
              "      <th>2016-01-07</th>\n",
              "      <td>730.309998</td>\n",
              "      <td>738.500000</td>\n",
              "      <td>719.059998</td>\n",
              "      <td>726.390015</td>\n",
              "      <td>2963700</td>\n",
              "      <td>0</td>\n",
              "      <td>0</td>\n",
              "    </tr>\n",
              "    <tr>\n",
              "      <th>2016-01-08</th>\n",
              "      <td>731.450012</td>\n",
              "      <td>733.229980</td>\n",
              "      <td>713.000000</td>\n",
              "      <td>714.469971</td>\n",
              "      <td>2450900</td>\n",
              "      <td>0</td>\n",
              "      <td>0</td>\n",
              "    </tr>\n",
              "    <tr>\n",
              "      <th>...</th>\n",
              "      <td>...</td>\n",
              "      <td>...</td>\n",
              "      <td>...</td>\n",
              "      <td>...</td>\n",
              "      <td>...</td>\n",
              "      <td>...</td>\n",
              "      <td>...</td>\n",
              "    </tr>\n",
              "    <tr>\n",
              "      <th>2017-12-22</th>\n",
              "      <td>1061.109985</td>\n",
              "      <td>1064.199951</td>\n",
              "      <td>1059.439941</td>\n",
              "      <td>1060.119995</td>\n",
              "      <td>755100</td>\n",
              "      <td>0</td>\n",
              "      <td>0</td>\n",
              "    </tr>\n",
              "    <tr>\n",
              "      <th>2017-12-26</th>\n",
              "      <td>1058.069946</td>\n",
              "      <td>1060.119995</td>\n",
              "      <td>1050.199951</td>\n",
              "      <td>1056.739990</td>\n",
              "      <td>760600</td>\n",
              "      <td>0</td>\n",
              "      <td>0</td>\n",
              "    </tr>\n",
              "    <tr>\n",
              "      <th>2017-12-27</th>\n",
              "      <td>1057.390015</td>\n",
              "      <td>1058.369995</td>\n",
              "      <td>1048.050049</td>\n",
              "      <td>1049.369995</td>\n",
              "      <td>1271900</td>\n",
              "      <td>0</td>\n",
              "      <td>0</td>\n",
              "    </tr>\n",
              "    <tr>\n",
              "      <th>2017-12-28</th>\n",
              "      <td>1051.599976</td>\n",
              "      <td>1054.750000</td>\n",
              "      <td>1044.770020</td>\n",
              "      <td>1048.140015</td>\n",
              "      <td>837100</td>\n",
              "      <td>0</td>\n",
              "      <td>0</td>\n",
              "    </tr>\n",
              "    <tr>\n",
              "      <th>2017-12-29</th>\n",
              "      <td>1046.719971</td>\n",
              "      <td>1049.699951</td>\n",
              "      <td>1044.900024</td>\n",
              "      <td>1046.400024</td>\n",
              "      <td>887500</td>\n",
              "      <td>0</td>\n",
              "      <td>0</td>\n",
              "    </tr>\n",
              "  </tbody>\n",
              "</table>\n",
              "<p>503 rows × 7 columns</p>\n",
              "</div>\n",
              "      <button class=\"colab-df-convert\" onclick=\"convertToInteractive('df-cfc0fea5-21c7-458f-83fa-974e4e749cad')\"\n",
              "              title=\"Convert this dataframe to an interactive table.\"\n",
              "              style=\"display:none;\">\n",
              "        \n",
              "  <svg xmlns=\"http://www.w3.org/2000/svg\" height=\"24px\"viewBox=\"0 0 24 24\"\n",
              "       width=\"24px\">\n",
              "    <path d=\"M0 0h24v24H0V0z\" fill=\"none\"/>\n",
              "    <path d=\"M18.56 5.44l.94 2.06.94-2.06 2.06-.94-2.06-.94-.94-2.06-.94 2.06-2.06.94zm-11 1L8.5 8.5l.94-2.06 2.06-.94-2.06-.94L8.5 2.5l-.94 2.06-2.06.94zm10 10l.94 2.06.94-2.06 2.06-.94-2.06-.94-.94-2.06-.94 2.06-2.06.94z\"/><path d=\"M17.41 7.96l-1.37-1.37c-.4-.4-.92-.59-1.43-.59-.52 0-1.04.2-1.43.59L10.3 9.45l-7.72 7.72c-.78.78-.78 2.05 0 2.83L4 21.41c.39.39.9.59 1.41.59.51 0 1.02-.2 1.41-.59l7.78-7.78 2.81-2.81c.8-.78.8-2.07 0-2.86zM5.41 20L4 18.59l7.72-7.72 1.47 1.35L5.41 20z\"/>\n",
              "  </svg>\n",
              "      </button>\n",
              "      \n",
              "  <style>\n",
              "    .colab-df-container {\n",
              "      display:flex;\n",
              "      flex-wrap:wrap;\n",
              "      gap: 12px;\n",
              "    }\n",
              "\n",
              "    .colab-df-convert {\n",
              "      background-color: #E8F0FE;\n",
              "      border: none;\n",
              "      border-radius: 50%;\n",
              "      cursor: pointer;\n",
              "      display: none;\n",
              "      fill: #1967D2;\n",
              "      height: 32px;\n",
              "      padding: 0 0 0 0;\n",
              "      width: 32px;\n",
              "    }\n",
              "\n",
              "    .colab-df-convert:hover {\n",
              "      background-color: #E2EBFA;\n",
              "      box-shadow: 0px 1px 2px rgba(60, 64, 67, 0.3), 0px 1px 3px 1px rgba(60, 64, 67, 0.15);\n",
              "      fill: #174EA6;\n",
              "    }\n",
              "\n",
              "    [theme=dark] .colab-df-convert {\n",
              "      background-color: #3B4455;\n",
              "      fill: #D2E3FC;\n",
              "    }\n",
              "\n",
              "    [theme=dark] .colab-df-convert:hover {\n",
              "      background-color: #434B5C;\n",
              "      box-shadow: 0px 1px 3px 1px rgba(0, 0, 0, 0.15);\n",
              "      filter: drop-shadow(0px 1px 2px rgba(0, 0, 0, 0.3));\n",
              "      fill: #FFFFFF;\n",
              "    }\n",
              "  </style>\n",
              "\n",
              "      <script>\n",
              "        const buttonEl =\n",
              "          document.querySelector('#df-cfc0fea5-21c7-458f-83fa-974e4e749cad button.colab-df-convert');\n",
              "        buttonEl.style.display =\n",
              "          google.colab.kernel.accessAllowed ? 'block' : 'none';\n",
              "\n",
              "        async function convertToInteractive(key) {\n",
              "          const element = document.querySelector('#df-cfc0fea5-21c7-458f-83fa-974e4e749cad');\n",
              "          const dataTable =\n",
              "            await google.colab.kernel.invokeFunction('convertToInteractive',\n",
              "                                                     [key], {});\n",
              "          if (!dataTable) return;\n",
              "\n",
              "          const docLinkHtml = 'Like what you see? Visit the ' +\n",
              "            '<a target=\"_blank\" href=https://colab.research.google.com/notebooks/data_table.ipynb>data table notebook</a>'\n",
              "            + ' to learn more about interactive tables.';\n",
              "          element.innerHTML = '';\n",
              "          dataTable['output_type'] = 'display_data';\n",
              "          await google.colab.output.renderOutput(dataTable, element);\n",
              "          const docLink = document.createElement('div');\n",
              "          docLink.innerHTML = docLinkHtml;\n",
              "          element.appendChild(docLink);\n",
              "        }\n",
              "      </script>\n",
              "    </div>\n",
              "  </div>\n",
              "  "
            ]
          },
          "metadata": {},
          "execution_count": 3
        }
      ]
    },
    {
      "cell_type": "markdown",
      "metadata": {
        "id": "NkFztSYhJyVA"
      },
      "source": [
        "We will create a Series named \"aapl\" whose values are Apple's daily closing prices, which are of course indexed by dates:"
      ]
    },
    {
      "cell_type": "code",
      "metadata": {
        "id": "QDJbOpCeHW91"
      },
      "source": [
        "#Se crea una 'Serie' con datos específicos deseados\n",
        "aapl = aapl_table['Close']['2017']"
      ],
      "execution_count": null,
      "outputs": []
    },
    {
      "cell_type": "code",
      "metadata": {
        "colab": {
          "base_uri": "https://localhost:8080/"
        },
        "id": "SXfgCQJOHW91",
        "outputId": "3edebb45-f7b8-43b4-c41d-1fb005c5c443"
      },
      "source": [
        "#Se imprimen los valores\n",
        "print(aapl)"
      ],
      "execution_count": null,
      "outputs": [
        {
          "output_type": "stream",
          "name": "stdout",
          "text": [
            "Date\n",
            "2017-01-03    27.372364\n",
            "2017-01-04    27.341724\n",
            "2017-01-05    27.480768\n",
            "2017-01-06    27.787132\n",
            "2017-01-09    28.041645\n",
            "                ...    \n",
            "2017-12-22    41.906776\n",
            "2017-12-26    40.843601\n",
            "2017-12-27    40.850777\n",
            "2017-12-28    40.965721\n",
            "2017-12-29    40.522736\n",
            "Name: Close, Length: 251, dtype: float64\n"
          ]
        }
      ]
    },
    {
      "cell_type": "markdown",
      "metadata": {
        "id": "waUEgBhzKEcA"
      },
      "source": [
        "Recall that we can fetch a specific data point using series['yyyy-mm-dd']. We can also fetch the data in a specific month using series['yyyy-mm']."
      ]
    },
    {
      "cell_type": "code",
      "metadata": {
        "colab": {
          "base_uri": "https://localhost:8080/"
        },
        "id": "2gS50G0zHW92",
        "outputId": "c964a391-f9db-450d-aa01-52e041570c4e"
      },
      "source": [
        "#Se filtran los datos por fecha\n",
        "print(aapl['2017-3'])"
      ],
      "execution_count": null,
      "outputs": [
        {
          "output_type": "stream",
          "name": "stdout",
          "text": [
            "Date\n",
            "2017-03-01    33.086281\n",
            "2017-03-02    32.889839\n",
            "2017-03-03    33.083920\n",
            "2017-03-06    32.979778\n",
            "2017-03-07    33.022373\n",
            "2017-03-08    32.899296\n",
            "2017-03-09    32.823563\n",
            "2017-03-10    32.932434\n",
            "2017-03-13    32.946640\n",
            "2017-03-14    32.896942\n",
            "2017-03-15    33.244865\n",
            "2017-03-16    33.299305\n",
            "2017-03-17    33.133617\n",
            "2017-03-20    33.481544\n",
            "2017-03-21    33.098122\n",
            "2017-03-22    33.472084\n",
            "2017-03-23    33.353741\n",
            "2017-03-24    33.287464\n",
            "2017-03-27    33.344276\n",
            "2017-03-28    34.035393\n",
            "2017-03-29    34.111141\n",
            "2017-03-30    34.066158\n",
            "2017-03-31    34.002254\n",
            "Name: Close, dtype: float64\n"
          ]
        }
      ]
    },
    {
      "cell_type": "code",
      "metadata": {
        "colab": {
          "base_uri": "https://localhost:8080/"
        },
        "id": "vpvxGwXtHW92",
        "outputId": "5b1625b9-71e5-4db7-99c4-a4914e3922c2"
      },
      "source": [
        "#Se filtra por un rango de fechas\n",
        "aapl['2017-2':'2017-4']"
      ],
      "execution_count": null,
      "outputs": [
        {
          "output_type": "execute_result",
          "data": {
            "text/plain": [
              "Date\n",
              "2017-02-01    30.341726\n",
              "2017-02-02    30.289885\n",
              "2017-02-03    30.419493\n",
              "2017-02-06    30.704651\n",
              "2017-02-07    30.996870\n",
              "                ...    \n",
              "2017-04-24    33.997528\n",
              "2017-04-25    34.208179\n",
              "2017-04-26    34.006985\n",
              "2017-04-27    34.033024\n",
              "2017-04-28    33.999889\n",
              "Name: Close, Length: 61, dtype: float64"
            ]
          },
          "metadata": {},
          "execution_count": 89
        }
      ]
    },
    {
      "cell_type": "code",
      "source": [
        "#Example\n",
        "#Se crea una 'Serie' con datos específicos deseados\n",
        "dat = table['Open']['2016']\n",
        "print(dat)\n",
        "#Se filtran los datos por fecha\n",
        "print(dat['2016-2'])\n",
        "#Se filtra por un rango de fechas\n",
        "dat['2016':'2017-5']"
      ],
      "metadata": {
        "colab": {
          "base_uri": "https://localhost:8080/"
        },
        "id": "IOoOz7Pml9Qj",
        "outputId": "b417406d-96c1-4176-cc35-d5e4bf4edb0d"
      },
      "execution_count": 7,
      "outputs": [
        {
          "output_type": "stream",
          "name": "stdout",
          "text": [
            "Date\n",
            "2016-01-04    743.000000\n",
            "2016-01-05    746.450012\n",
            "2016-01-06    730.000000\n",
            "2016-01-07    730.309998\n",
            "2016-01-08    731.450012\n",
            "                 ...    \n",
            "2016-12-23    790.900024\n",
            "2016-12-27    790.679993\n",
            "2016-12-28    793.700012\n",
            "2016-12-29    783.330017\n",
            "2016-12-30    782.750000\n",
            "Name: Open, Length: 252, dtype: float64\n",
            "Date\n",
            "2016-02-01    750.460022\n",
            "2016-02-02    784.500000\n",
            "2016-02-03    770.219971\n",
            "2016-02-04    722.809998\n",
            "2016-02-05    703.869995\n",
            "2016-02-08    667.849976\n",
            "2016-02-09    672.320007\n",
            "2016-02-10    686.859985\n",
            "2016-02-11    675.000000\n",
            "2016-02-12    690.260010\n",
            "2016-02-16    692.979980\n",
            "2016-02-17    698.090027\n",
            "2016-02-18    710.000000\n",
            "2016-02-19    695.030029\n",
            "2016-02-22    707.450012\n",
            "2016-02-23    701.450012\n",
            "2016-02-24    688.919983\n",
            "2016-02-25    700.010010\n",
            "2016-02-26    708.580017\n",
            "2016-02-29    700.320007\n",
            "Name: Open, dtype: float64\n"
          ]
        },
        {
          "output_type": "execute_result",
          "data": {
            "text/plain": [
              "Date\n",
              "2016-01-04    743.000000\n",
              "2016-01-05    746.450012\n",
              "2016-01-06    730.000000\n",
              "2016-01-07    730.309998\n",
              "2016-01-08    731.450012\n",
              "                 ...    \n",
              "2016-12-23    790.900024\n",
              "2016-12-27    790.679993\n",
              "2016-12-28    793.700012\n",
              "2016-12-29    783.330017\n",
              "2016-12-30    782.750000\n",
              "Name: Open, Length: 252, dtype: float64"
            ]
          },
          "metadata": {},
          "execution_count": 7
        }
      ]
    },
    {
      "cell_type": "markdown",
      "metadata": {
        "id": "lWwoD39pKNKb"
      },
      "source": [
        ".head(N) and .tail(N) are methods for quickly accessing the first or last N elements."
      ]
    },
    {
      "cell_type": "code",
      "metadata": {
        "colab": {
          "base_uri": "https://localhost:8080/"
        },
        "id": "1eU218ALHW93",
        "outputId": "a5c6f29f-9b4e-45ab-ec16-381ebf0defd3"
      },
      "source": [
        "#Se acceden a elementos por la cola o por la cabeza\n",
        "print(aapl.head(5))\n",
        "print(aapl.tail(10))"
      ],
      "execution_count": null,
      "outputs": [
        {
          "output_type": "stream",
          "name": "stdout",
          "text": [
            "Date\n",
            "2017-01-03    27.372364\n",
            "2017-01-04    27.341724\n",
            "2017-01-05    27.480768\n",
            "2017-01-06    27.787132\n",
            "2017-01-09    28.041645\n",
            "Name: Close, dtype: float64\n",
            "Date\n",
            "2017-12-15    41.657745\n",
            "2017-12-18    42.244392\n",
            "2017-12-19    41.794228\n",
            "2017-12-20    41.748734\n",
            "2017-12-21    41.906776\n",
            "2017-12-22    41.906776\n",
            "2017-12-26    40.843601\n",
            "2017-12-27    40.850777\n",
            "2017-12-28    40.965721\n",
            "2017-12-29    40.522736\n",
            "Name: Close, dtype: float64\n"
          ]
        }
      ]
    },
    {
      "cell_type": "code",
      "source": [
        "#Example\n",
        "#Se acceden a elementos por la cola o por la cabeza\n",
        "print(dat.head(40))\n",
        "print(dat.tail(-3))"
      ],
      "metadata": {
        "colab": {
          "base_uri": "https://localhost:8080/"
        },
        "id": "cKkA7m6CnFsy",
        "outputId": "1bc3de86-00a5-4a4f-c94e-8ad43f8583fc"
      },
      "execution_count": 9,
      "outputs": [
        {
          "output_type": "stream",
          "name": "stdout",
          "text": [
            "Date\n",
            "2016-01-04    743.000000\n",
            "2016-01-05    746.450012\n",
            "2016-01-06    730.000000\n",
            "2016-01-07    730.309998\n",
            "2016-01-08    731.450012\n",
            "2016-01-11    716.609985\n",
            "2016-01-12    721.679993\n",
            "2016-01-13    730.849976\n",
            "2016-01-14    705.380005\n",
            "2016-01-15    692.289978\n",
            "2016-01-19    703.299988\n",
            "2016-01-20    688.609985\n",
            "2016-01-21    702.179993\n",
            "2016-01-22    723.599976\n",
            "2016-01-25    723.580017\n",
            "2016-01-26    713.849976\n",
            "2016-01-27    713.669983\n",
            "2016-01-28    722.219971\n",
            "2016-01-29    731.530029\n",
            "2016-02-01    750.460022\n",
            "2016-02-02    784.500000\n",
            "2016-02-03    770.219971\n",
            "2016-02-04    722.809998\n",
            "2016-02-05    703.869995\n",
            "2016-02-08    667.849976\n",
            "2016-02-09    672.320007\n",
            "2016-02-10    686.859985\n",
            "2016-02-11    675.000000\n",
            "2016-02-12    690.260010\n",
            "2016-02-16    692.979980\n",
            "2016-02-17    698.090027\n",
            "2016-02-18    710.000000\n",
            "2016-02-19    695.030029\n",
            "2016-02-22    707.450012\n",
            "2016-02-23    701.450012\n",
            "2016-02-24    688.919983\n",
            "2016-02-25    700.010010\n",
            "2016-02-26    708.580017\n",
            "2016-02-29    700.320007\n",
            "2016-03-01    703.619995\n",
            "Name: Open, dtype: float64\n",
            "Date\n",
            "2016-01-07    730.309998\n",
            "2016-01-08    731.450012\n",
            "2016-01-11    716.609985\n",
            "2016-01-12    721.679993\n",
            "2016-01-13    730.849976\n",
            "                 ...    \n",
            "2016-12-23    790.900024\n",
            "2016-12-27    790.679993\n",
            "2016-12-28    793.700012\n",
            "2016-12-29    783.330017\n",
            "2016-12-30    782.750000\n",
            "Name: Open, Length: 249, dtype: float64\n"
          ]
        }
      ]
    },
    {
      "cell_type": "markdown",
      "metadata": {
        "id": "IxhKxtj-KQ66"
      },
      "source": [
        "# Resampling\n",
        "**_series.resample(freq)_** is a class called \"DatetimeIndexResampler\" which groups data in a Series object into regular time intervals. The argument \"freq\" determines the length of each interval.\n",
        "\n",
        "**_series.resample.mean()_** is a complete statement that groups data into intervals, and then compute the mean of each interval. For example, if we want to aggregate the daily data into monthly data by mean:"
      ]
    },
    {
      "cell_type": "code",
      "metadata": {
        "colab": {
          "base_uri": "https://localhost:8080/"
        },
        "id": "rAV8NkHkHW93",
        "outputId": "c29d30ec-ab67-43e8-de4f-ccf601869faf"
      },
      "source": [
        "#Se filtran datos estadísticos según se requiera\n",
        "by_month = aapl.resample('M').mean()\n",
        "print(by_month)"
      ],
      "execution_count": null,
      "outputs": [
        {
          "output_type": "stream",
          "name": "stdout",
          "text": [
            "Date\n",
            "2017-01-31    28.178332\n",
            "2017-02-28    31.606276\n",
            "2017-03-31    33.282219\n",
            "2017-04-30    33.819262\n",
            "2017-05-31    36.125686\n",
            "2017-06-30    35.133984\n",
            "2017-07-31    35.245242\n",
            "2017-08-31    37.897228\n",
            "2017-09-30    37.604739\n",
            "2017-10-31    37.654550\n",
            "2017-11-30    41.233914\n",
            "2017-12-31    41.160038\n",
            "Freq: M, Name: Close, dtype: float64\n"
          ]
        }
      ]
    },
    {
      "cell_type": "code",
      "source": [
        "#Example\n",
        "#Se filtra promedio por año\n",
        "by_year = dat.resample('Y').mean()\n",
        "print(by_year)"
      ],
      "metadata": {
        "colab": {
          "base_uri": "https://localhost:8080/"
        },
        "id": "un5oCstznZ2I",
        "outputId": "c4f1d237-d2aa-4163-b901-0c75af2b14f6"
      },
      "execution_count": 10,
      "outputs": [
        {
          "output_type": "stream",
          "name": "stdout",
          "text": [
            "Date\n",
            "2016-12-31    743.732459\n",
            "Freq: A-DEC, Name: Open, dtype: float64\n"
          ]
        }
      ]
    },
    {
      "cell_type": "markdown",
      "metadata": {
        "id": "QDPfVzBEKV6Q"
      },
      "source": [
        "We can also aggregate the data by week:"
      ]
    },
    {
      "cell_type": "code",
      "metadata": {
        "colab": {
          "base_uri": "https://localhost:8080/"
        },
        "id": "aAP3tKkBHW94",
        "outputId": "7a27268b-2052-445d-d0c0-f0d53f680de9"
      },
      "source": [
        "#Se filtra promedio por semana\n",
        "by_week = aapl.resample('W').mean()\n",
        "print(by_week.head())"
      ],
      "execution_count": null,
      "outputs": [
        {
          "output_type": "stream",
          "name": "stdout",
          "text": [
            "Date\n",
            "2017-01-08    27.495497\n",
            "2017-01-15    28.097734\n",
            "2017-01-22    28.266116\n",
            "2017-01-29    28.553982\n",
            "2017-02-05    29.662543\n",
            "Freq: W-SUN, Name: Close, dtype: float64\n"
          ]
        }
      ]
    },
    {
      "cell_type": "code",
      "source": [
        "#Example\n",
        "#Se filtra promedio por semana\n",
        "by_day = dat.resample('D').mean()\n",
        "print(by_day)"
      ],
      "metadata": {
        "colab": {
          "base_uri": "https://localhost:8080/"
        },
        "id": "SikV2a2tnkPh",
        "outputId": "0131eb6c-45b1-4735-eced-cd64dd8e4b6a"
      },
      "execution_count": 11,
      "outputs": [
        {
          "output_type": "stream",
          "name": "stdout",
          "text": [
            "Date\n",
            "2016-01-04    743.000000\n",
            "2016-01-05    746.450012\n",
            "2016-01-06    730.000000\n",
            "2016-01-07    730.309998\n",
            "2016-01-08    731.450012\n",
            "                 ...    \n",
            "2016-12-26           NaN\n",
            "2016-12-27    790.679993\n",
            "2016-12-28    793.700012\n",
            "2016-12-29    783.330017\n",
            "2016-12-30    782.750000\n",
            "Freq: D, Name: Open, Length: 362, dtype: float64\n"
          ]
        }
      ]
    },
    {
      "cell_type": "markdown",
      "metadata": {
        "id": "o_MXSVsILoBS"
      },
      "source": [
        "We can also aggregate the data by month with max:"
      ]
    },
    {
      "cell_type": "code",
      "metadata": {
        "colab": {
          "base_uri": "https://localhost:8080/"
        },
        "id": "gn0wqXBTHW95",
        "outputId": "863ffe25-7dff-480c-eda8-ee995ebbd923"
      },
      "source": [
        "#Se calcula el máximo por mes\n",
        "aapl.resample('M').max()"
      ],
      "execution_count": null,
      "outputs": [
        {
          "output_type": "execute_result",
          "data": {
            "text/plain": [
              "Date\n",
              "2017-01-31    28.739218\n",
              "2017-02-28    32.451969\n",
              "2017-03-31    34.111141\n",
              "2017-04-30    34.264977\n",
              "2017-05-31    37.099133\n",
              "2017-06-30    36.944649\n",
              "2017-07-31    36.471699\n",
              "2017-08-31    39.129719\n",
              "2017-09-30    39.141655\n",
              "2017-10-31    40.332241\n",
              "2017-11-30    42.050140\n",
              "2017-12-31    42.244392\n",
              "Freq: M, Name: Close, dtype: float64"
            ]
          },
          "metadata": {},
          "execution_count": 93
        }
      ]
    },
    {
      "cell_type": "code",
      "source": [
        "#Example\n",
        "#Se calcula el mínimo por semana\n",
        "dat.resample('W').min()"
      ],
      "metadata": {
        "colab": {
          "base_uri": "https://localhost:8080/"
        },
        "id": "tn8PxdERn6e-",
        "outputId": "4ee32038-0138-4e96-ebbd-80cbc9d7d23f"
      },
      "execution_count": 12,
      "outputs": [
        {
          "output_type": "execute_result",
          "data": {
            "text/plain": [
              "Date\n",
              "2016-01-10    730.000000\n",
              "2016-01-17    692.289978\n",
              "2016-01-24    688.609985\n",
              "2016-01-31    713.669983\n",
              "2016-02-07    703.869995\n",
              "2016-02-14    667.849976\n",
              "2016-02-21    692.979980\n",
              "2016-02-28    688.919983\n",
              "2016-03-06    700.320007\n",
              "2016-03-13    688.590027\n",
              "2016-03-20    726.369995\n",
              "2016-03-27    732.010010\n",
              "2016-04-03    734.590027\n",
              "2016-04-10    735.770020\n",
              "2016-04-17    738.000000\n",
              "2016-04-24    726.299988\n",
              "2016-05-01    690.700012\n",
              "2016-05-08    690.489990\n",
              "2016-05-15    711.929993\n",
              "2016-05-22    701.619995\n",
              "2016-05-29    706.530029\n",
              "2016-06-05    729.270020\n",
              "2016-06-12    719.469971\n",
              "2016-06-19    708.650024\n",
              "2016-06-26    675.169983\n",
              "2016-07-03    671.000000\n",
              "2016-07-10    689.979980\n",
              "2016-07-17    708.049988\n",
              "2016-07-24    722.710022\n",
              "2016-07-31    738.280029\n",
              "2016-08-07    761.090027\n",
              "2016-08-14    781.099976\n",
              "2016-08-21    775.000000\n",
              "2016-08-28    767.000000\n",
              "2016-09-04    767.010010\n",
              "2016-09-11    770.099976\n",
              "2016-09-18    755.130005\n",
              "2016-09-25    769.000000\n",
              "2016-10-02    775.500000\n",
              "2016-10-09    774.250000\n",
              "2016-10-16    777.710022\n",
              "2016-10-23    779.799988\n",
              "2016-10-30    801.000000\n",
              "2016-11-06    750.659973\n",
              "2016-11-13    756.539978\n",
              "2016-11-20    746.969971\n",
              "2016-11-27    762.609985\n",
              "2016-12-04    744.590027\n",
              "2016-12-11    757.710022\n",
              "2016-12-18    785.039978\n",
              "2016-12-25    790.219971\n",
              "2017-01-01    782.750000\n",
              "Freq: W-SUN, Name: Open, dtype: float64"
            ]
          },
          "metadata": {},
          "execution_count": 12
        }
      ]
    },
    {
      "cell_type": "markdown",
      "metadata": {
        "id": "Z8r46UFlLdAh"
      },
      "source": [
        "We can choose almost any frequency by using the format 'nf', where 'n' is an integer and 'f' is M for month, W for week and D for day."
      ]
    },
    {
      "cell_type": "code",
      "metadata": {
        "colab": {
          "base_uri": "https://localhost:8080/"
        },
        "id": "kdVB_-JFHW96",
        "outputId": "49704fff-b319-4947-b02e-e3f78f6bb972"
      },
      "source": [
        "#Se calcula el promedio para distintas frecuencias\n",
        "#Cada 3 días\n",
        "three_day = aapl.resample('3D').mean()\n",
        "#Cada dos semanas\n",
        "two_week = aapl.resample('2W').mean()\n",
        "#Dos meses\n",
        "two_month = aapl.resample('2M').mean()\n",
        "\n",
        "\n",
        "print(three_day)\n",
        "print(two_week)\n",
        "print(two_month )"
      ],
      "execution_count": null,
      "outputs": [
        {
          "output_type": "stream",
          "name": "stdout",
          "text": [
            "Date\n",
            "2017-01-03    27.398286\n",
            "2017-01-06    27.787132\n",
            "2017-01-09    28.110774\n",
            "2017-01-12    28.078175\n",
            "2017-01-15    28.279665\n",
            "                ...    \n",
            "2017-12-17    42.019310\n",
            "2017-12-20    41.854095\n",
            "2017-12-23          NaN\n",
            "2017-12-26    40.886700\n",
            "2017-12-29    40.522736\n",
            "Freq: 3D, Name: Close, Length: 121, dtype: float64\n",
            "Date\n",
            "2017-01-08    27.495497\n",
            "2017-01-22    28.172571\n",
            "2017-02-05    29.108263\n",
            "2017-02-19    31.516817\n",
            "2017-03-05    32.595556\n",
            "2017-03-19    33.017881\n",
            "2017-04-02    33.625218\n",
            "2017-04-16    33.849726\n",
            "2017-04-30    33.791843\n",
            "2017-05-14    35.697633\n",
            "2017-05-28    36.496181\n",
            "2017-06-11    36.515007\n",
            "2017-06-25    34.529047\n",
            "2017-07-09    34.265135\n",
            "2017-07-23    35.278873\n",
            "2017-08-06    36.272775\n",
            "2017-08-20    37.904119\n",
            "2017-09-03    38.458793\n",
            "2017-09-17    38.282708\n",
            "2017-10-01    36.840876\n",
            "2017-10-15    37.071593\n",
            "2017-10-29    37.757321\n",
            "2017-11-12    41.032237\n",
            "2017-11-26    41.204375\n",
            "2017-12-10    40.867067\n",
            "2017-12-24    41.620866\n",
            "2018-01-07    40.795709\n",
            "Freq: 2W-SUN, Name: Close, dtype: float64\n",
            "Date\n",
            "2017-01-31    28.178332\n",
            "2017-03-31    32.524054\n",
            "2017-05-31    35.056855\n",
            "2017-07-31    35.186964\n",
            "2017-09-30    37.761187\n",
            "2017-11-30    39.402611\n",
            "2018-01-31    41.160038\n",
            "Freq: 2M, Name: Close, dtype: float64\n"
          ]
        }
      ]
    },
    {
      "cell_type": "code",
      "source": [
        "#Example\n",
        "#Se calcula la desviación estándar para distintas frecuencias\n",
        "#Cada 7 días\n",
        "seven_day = dat.resample('7D').std()\n",
        "#Cada dos semanas\n",
        "fourteen_week = dat.resample('14W').std()\n",
        "#Dos meses\n",
        "three_month = dat.resample('3M').std()\n",
        "\n",
        "\n",
        "print(seven_day)\n",
        "print(fourteen_week)\n",
        "print(three_month)"
      ],
      "metadata": {
        "colab": {
          "base_uri": "https://localhost:8080/"
        },
        "id": "6bJ_Wrm0oTYe",
        "outputId": "eae88d80-a9a9-4fcb-caa1-34057ba0e519"
      },
      "execution_count": 15,
      "outputs": [
        {
          "output_type": "stream",
          "name": "stdout",
          "text": [
            "Date\n",
            "2016-01-04     7.857933\n",
            "2016-01-11    14.944146\n",
            "2016-01-18    14.423361\n",
            "2016-01-25     7.481207\n",
            "2016-02-01    33.169151\n",
            "2016-02-08     9.644217\n",
            "2016-02-15     7.611983\n",
            "2016-02-22     7.838544\n",
            "2016-02-29     8.759432\n",
            "2016-03-07    11.710761\n",
            "2016-03-14     7.087946\n",
            "2016-03-21     4.245148\n",
            "2016-03-28     7.274863\n",
            "2016-04-04     5.766370\n",
            "2016-04-11     7.024179\n",
            "2016-04-18    16.336025\n",
            "2016-04-25    12.814565\n",
            "2016-05-02     3.244206\n",
            "2016-05-09     4.714188\n",
            "2016-05-16     6.039980\n",
            "2016-05-23     8.761033\n",
            "2016-05-30     2.173403\n",
            "2016-06-06     2.445023\n",
            "2016-06-13     3.896802\n",
            "2016-06-20    10.415428\n",
            "2016-06-27     7.860981\n",
            "2016-07-04     4.194624\n",
            "2016-07-11     6.915357\n",
            "2016-07-18     8.011692\n",
            "2016-07-25    14.482526\n",
            "2016-08-01     4.958850\n",
            "2016-08-08     1.649096\n",
            "2016-08-15     3.305831\n",
            "2016-08-22     3.368153\n",
            "2016-08-29     2.189983\n",
            "2016-09-05     4.588249\n",
            "2016-09-12     5.459442\n",
            "2016-09-19     7.089274\n",
            "2016-09-26     3.177364\n",
            "2016-10-03     2.387592\n",
            "2016-10-10     3.307107\n",
            "2016-10-17     9.194823\n",
            "2016-10-24     5.816777\n",
            "2016-10-31    16.911204\n",
            "2016-11-07    12.992251\n",
            "2016-11-14     9.826493\n",
            "2016-11-21     4.429498\n",
            "2016-11-28    10.905641\n",
            "2016-12-05     9.032131\n",
            "2016-12-12     5.929562\n",
            "2016-12-19     2.937610\n",
            "2016-12-26     5.429882\n",
            "Freq: 7D, Name: Open, dtype: float64\n",
            "Date\n",
            "2016-01-10     7.857933\n",
            "2016-04-17    23.869294\n",
            "2016-07-24    19.656348\n",
            "2016-10-30    14.587637\n",
            "2017-02-05    15.759623\n",
            "Freq: 14W-SUN, Name: Open, dtype: float64\n",
            "Date\n",
            "2016-01-31    15.808317\n",
            "2016-04-30    25.983415\n",
            "2016-07-31    19.072527\n",
            "2016-10-31    12.098782\n",
            "2017-01-31    15.640532\n",
            "Freq: 3M, Name: Open, dtype: float64\n"
          ]
        }
      ]
    },
    {
      "cell_type": "markdown",
      "metadata": {
        "id": "iy4RqsnwL-Bw"
      },
      "source": [
        "Besides the mean() method, other methods can also be used with the resampler:\n",
        "\n"
      ]
    },
    {
      "cell_type": "code",
      "metadata": {
        "colab": {
          "base_uri": "https://localhost:8080/"
        },
        "id": "DNT8Fx9dHW96",
        "outputId": "8b73ed41-5341-44f2-ffc3-478bd92f73f4"
      },
      "source": [
        "#Se calcula la desviación estándar\n",
        "std = aapl.resample('W').std()\n",
        "#Se calcula el valor máximo\n",
        "max = aapl.resample('W').max()\n",
        "#Se calcula el valor mínimo\n",
        "min = aapl.resample('W').min()\n",
        "\n",
        "\n",
        "print(std)\n",
        "print(max)\n",
        "print(min)"
      ],
      "execution_count": null,
      "outputs": [
        {
          "output_type": "stream",
          "name": "stdout",
          "text": [
            "Date\n",
            "2017-01-08    0.203368\n",
            "2017-01-15    0.072530\n",
            "2017-01-22    0.025554\n",
            "2017-01-29    0.245288\n",
            "2017-02-05    0.943260\n",
            "2017-02-12    0.252001\n",
            "2017-02-19    0.231394\n",
            "2017-02-26    0.059345\n",
            "2017-03-05    0.340094\n",
            "2017-03-12    0.076284\n",
            "2017-03-19    0.177834\n",
            "2017-03-26    0.157262\n",
            "2017-04-02    0.319806\n",
            "2017-04-09    0.128689\n",
            "2017-04-16    0.212476\n",
            "2017-04-23    0.174672\n",
            "2017-04-30    0.090027\n",
            "2017-05-07    0.235639\n",
            "2017-05-14    0.352980\n",
            "2017-05-21    0.536091\n",
            "2017-05-28    0.060392\n",
            "2017-06-04    0.281225\n",
            "2017-06-11    0.620034\n",
            "2017-06-18    0.382564\n",
            "2017-06-25    0.128893\n",
            "2017-07-02    0.264113\n",
            "2017-07-09    0.158890\n",
            "2017-07-16    0.404281\n",
            "2017-07-23    0.124988\n",
            "2017-07-30    0.384441\n",
            "2017-08-06    0.924388\n",
            "2017-08-13    0.467469\n",
            "2017-08-20    0.435251\n",
            "2017-08-27    0.275762\n",
            "2017-09-03    0.251722\n",
            "2017-09-10    0.381637\n",
            "2017-09-17    0.294141\n",
            "2017-09-24    0.735195\n",
            "2017-10-01    0.354840\n",
            "2017-10-08    0.204857\n",
            "2017-10-15    0.118733\n",
            "2017-10-22    0.517001\n",
            "2017-10-29    0.680452\n",
            "2017-11-05    0.560686\n",
            "2017-11-12    0.190971\n",
            "2017-11-19    0.436199\n",
            "2017-11-26    0.563047\n",
            "2017-12-03    0.427439\n",
            "2017-12-10    0.073130\n",
            "2017-12-17    0.205266\n",
            "2017-12-24    0.194120\n",
            "2017-12-31    0.190390\n",
            "Freq: W-SUN, Name: Close, dtype: float64\n",
            "Date\n",
            "2017-01-08    27.787132\n",
            "2017-01-15    28.220753\n",
            "2017-01-22    28.279665\n",
            "2017-01-29    28.739218\n",
            "2017-02-05    30.419493\n",
            "2017-02-12    31.341911\n",
            "2017-02-19    32.122974\n",
            "2017-02-26    32.451969\n",
            "2017-03-05    33.086281\n",
            "2017-03-12    33.022373\n",
            "2017-03-19    33.299305\n",
            "2017-03-26    33.481544\n",
            "2017-04-02    34.111141\n",
            "2017-04-09    34.264977\n",
            "2017-04-16    33.886284\n",
            "2017-04-23    33.713501\n",
            "2017-04-30    34.208179\n",
            "2017-05-07    35.256695\n",
            "2017-05-14    37.099133\n",
            "2017-05-21    37.004063\n",
            "2017-05-28    36.597664\n",
            "2017-06-04    36.944649\n",
            "2017-06-11    36.925632\n",
            "2017-06-18    34.838963\n",
            "2017-06-25    34.779545\n",
            "2017-07-02    34.658337\n",
            "2017-07-09    34.266190\n",
            "2017-07-16    35.421230\n",
            "2017-07-23    35.891800\n",
            "2017-07-30    36.471699\n",
            "2017-08-06    37.346291\n",
            "2017-08-13    38.277939\n",
            "2017-08-20    38.557095\n",
            "2017-08-27    38.170567\n",
            "2017-09-03    39.141655\n",
            "2017-09-10    38.671623\n",
            "2017-09-17    38.533234\n",
            "2017-09-24    37.872326\n",
            "2017-10-01    36.798645\n",
            "2017-10-08    37.075409\n",
            "2017-10-15    37.457165\n",
            "2017-10-22    38.287479\n",
            "2017-10-29    38.903053\n",
            "2017-11-05    41.157795\n",
            "2017-11-12    42.050140\n",
            "2017-11-19    41.657745\n",
            "2017-11-26    41.897190\n",
            "2017-12-03    41.686470\n",
            "2017-12-10    40.659222\n",
            "2017-12-17    41.657745\n",
            "2017-12-24    42.244392\n",
            "2017-12-31    40.965721\n",
            "Freq: W-SUN, Name: Close, dtype: float64\n",
            "Date\n",
            "2017-01-08    27.341724\n",
            "2017-01-15    28.041645\n",
            "2017-01-22    28.227821\n",
            "2017-01-29    28.272598\n",
            "2017-02-05    28.597816\n",
            "2017-02-12    30.704651\n",
            "2017-02-19    31.547823\n",
            "2017-02-26    32.314690\n",
            "2017-03-05    32.409355\n",
            "2017-03-12    32.823563\n",
            "2017-03-19    32.896942\n",
            "2017-03-26    33.098122\n",
            "2017-04-02    33.344276\n",
            "2017-04-09    33.926514\n",
            "2017-04-16    33.384510\n",
            "2017-04-23    33.296936\n",
            "2017-04-30    33.997528\n",
            "2017-05-07    34.681545\n",
            "2017-05-14    36.215267\n",
            "2017-05-21    35.708805\n",
            "2017-05-28    36.443184\n",
            "2017-06-04    36.305332\n",
            "2017-06-11    35.406971\n",
            "2017-06-18    33.812263\n",
            "2017-06-25    34.463455\n",
            "2017-07-02    34.147358\n",
            "2017-07-09    33.921577\n",
            "2017-07-16    34.475338\n",
            "2017-07-23    35.544815\n",
            "2017-07-30    35.530552\n",
            "2017-08-06    35.347557\n",
            "2017-08-13    37.058720\n",
            "2017-08-20    37.578846\n",
            "2017-08-27    37.509666\n",
            "2017-09-03    38.526081\n",
            "2017-09-10    37.848465\n",
            "2017-09-17    37.764950\n",
            "2017-09-24    36.240326\n",
            "2017-10-01    35.920620\n",
            "2017-10-08    36.619694\n",
            "2017-10-15    37.182777\n",
            "2017-10-22    37.216179\n",
            "2017-10-29    37.261517\n",
            "2017-11-05    39.778702\n",
            "2017-11-12    41.575333\n",
            "2017-11-19    40.486816\n",
            "2017-11-26    40.702312\n",
            "2017-12-03    40.582603\n",
            "2017-12-10    40.470051\n",
            "2017-12-17    41.114185\n",
            "2017-12-24    41.748734\n",
            "2017-12-31    40.522736\n",
            "Freq: W-SUN, Name: Close, dtype: float64\n"
          ]
        }
      ]
    },
    {
      "cell_type": "code",
      "source": [
        "#Example\n",
        "#Se calcula la desviación estándar\n",
        "std = dat.resample('D').std()\n",
        "#Se calcula la mediana\n",
        "med = dat.resample('W').median()\n",
        "#Se calcula el valor mínimo\n",
        "min = dat.resample('M').min()\n",
        "#Se calcula el valor máximo\n",
        "max = dat.resample('Y').max()\n",
        "\n",
        "print(std)\n",
        "print(med)\n",
        "print(max)\n",
        "print(min)"
      ],
      "metadata": {
        "colab": {
          "base_uri": "https://localhost:8080/"
        },
        "id": "zrF6PwuYo6gr",
        "outputId": "95a13186-ea91-48db-f1b6-4c2bf9b819c4"
      },
      "execution_count": 17,
      "outputs": [
        {
          "output_type": "stream",
          "name": "stdout",
          "text": [
            "Date\n",
            "2016-01-04   NaN\n",
            "2016-01-05   NaN\n",
            "2016-01-06   NaN\n",
            "2016-01-07   NaN\n",
            "2016-01-08   NaN\n",
            "              ..\n",
            "2016-12-26   NaN\n",
            "2016-12-27   NaN\n",
            "2016-12-28   NaN\n",
            "2016-12-29   NaN\n",
            "2016-12-30   NaN\n",
            "Freq: D, Name: Open, Length: 362, dtype: float64\n",
            "Date\n",
            "2016-01-10    731.450012\n",
            "2016-01-17    716.609985\n",
            "2016-01-24    702.739990\n",
            "2016-01-31    722.219971\n",
            "2016-02-07    750.460022\n",
            "2016-02-14    675.000000\n",
            "2016-02-21    696.560028\n",
            "2016-02-28    701.450012\n",
            "2016-03-06    714.989990\n",
            "2016-03-13    706.900024\n",
            "2016-03-20    726.919983\n",
            "2016-03-27    736.980011\n",
            "2016-04-03    738.599976\n",
            "2016-04-10    743.969971\n",
            "2016-04-17    749.159973\n",
            "2016-04-24    758.000000\n",
            "2016-05-01    708.260010\n",
            "2016-05-08    697.630005\n",
            "2016-05-15    716.750000\n",
            "2016-05-22    703.669983\n",
            "2016-05-29    720.760010\n",
            "2016-06-05    732.119995\n",
            "2016-06-12    722.869995\n",
            "2016-06-19    716.479980\n",
            "2016-06-26    698.400024\n",
            "2016-07-03    683.000000\n",
            "2016-07-10    697.070007\n",
            "2016-07-17    721.580017\n",
            "2016-07-24    737.330017\n",
            "2016-07-31    740.669983\n",
            "2016-08-07    768.690002\n",
            "2016-08-14    782.000000\n",
            "2016-08-21    780.010010\n",
            "2016-08-28    770.580017\n",
            "2016-09-04    769.250000\n",
            "2016-09-11    776.020020\n",
            "2016-09-18    762.890015\n",
            "2016-09-25    772.659973\n",
            "2016-10-02    777.849976\n",
            "2016-10-09    779.000000\n",
            "2016-10-16    781.650024\n",
            "2016-10-23    795.000000\n",
            "2016-10-30    806.340027\n",
            "2016-11-06    778.200012\n",
            "2016-11-13    779.940002\n",
            "2016-11-20    755.599976\n",
            "2016-11-27    765.994995\n",
            "2016-12-04    760.000000\n",
            "2016-12-11    764.729980\n",
            "2016-12-18    797.340027\n",
            "2016-12-25    792.359985\n",
            "2017-01-01    787.005005\n",
            "Freq: W-SUN, Name: Open, dtype: float64\n",
            "Date\n",
            "2016-12-31    816.679993\n",
            "Freq: A-DEC, Name: Open, dtype: float64\n",
            "Date\n",
            "2016-01-31    688.609985\n",
            "2016-02-29    667.849976\n",
            "2016-03-31    688.590027\n",
            "2016-04-30    690.700012\n",
            "2016-05-31    690.489990\n",
            "2016-06-30    671.000000\n",
            "2016-07-31    689.979980\n",
            "2016-08-31    761.090027\n",
            "2016-09-30    755.130005\n",
            "2016-10-31    774.250000\n",
            "2016-11-30    746.969971\n",
            "2016-12-31    744.590027\n",
            "Freq: M, Name: Open, dtype: float64\n"
          ]
        }
      ]
    },
    {
      "cell_type": "markdown",
      "metadata": {
        "id": "uqln0s5DMI3I"
      },
      "source": [
        "Often we want to calculate monthly returns of a stock, based on prices on the last day of each month. To fetch those prices, we use the series.resample.agg() method:"
      ]
    },
    {
      "cell_type": "code",
      "metadata": {
        "colab": {
          "base_uri": "https://localhost:8080/"
        },
        "id": "A6FSYvqbHW97",
        "outputId": "2d8df5ca-cc77-40a4-fe0d-6c80266d3ca7"
      },
      "source": [
        "#Se puede consultar los valores de una posición específica, en este caso, el último por mes\n",
        "last_day = aapl.resample('M').agg(lambda x: x[-1])\n",
        "print(last_day)"
      ],
      "execution_count": null,
      "outputs": [
        {
          "output_type": "stream",
          "name": "stdout",
          "text": [
            "Date\n",
            "2017-01-31    28.597816\n",
            "2017-02-28    32.423561\n",
            "2017-03-31    34.002254\n",
            "2017-04-30    33.999889\n",
            "2017-05-31    36.305332\n",
            "2017-06-30    34.228172\n",
            "2017-07-31    35.347557\n",
            "2017-08-31    39.129719\n",
            "2017-09-30    36.772392\n",
            "2017-10-31    40.332241\n",
            "2017-11-30    41.150097\n",
            "2017-12-31    40.522736\n",
            "Freq: M, Name: Close, dtype: float64\n"
          ]
        }
      ]
    },
    {
      "cell_type": "code",
      "source": [
        "#Example\n",
        "#Se consulta el penúltimo valor por semana\n",
        "penultimate_day = dat.resample('W').agg(lambda x: x[-2])\n",
        "print(penultimate_day)"
      ],
      "metadata": {
        "colab": {
          "base_uri": "https://localhost:8080/"
        },
        "id": "5qDfwAYcptO6",
        "outputId": "a4e7dd38-0e8f-4a7d-8d35-62e36973c4bb"
      },
      "execution_count": 18,
      "outputs": [
        {
          "output_type": "stream",
          "name": "stdout",
          "text": [
            "Date\n",
            "2016-01-10    730.309998\n",
            "2016-01-17    705.380005\n",
            "2016-01-24    702.179993\n",
            "2016-01-31    722.219971\n",
            "2016-02-07    722.809998\n",
            "2016-02-14    675.000000\n",
            "2016-02-21    710.000000\n",
            "2016-02-28    700.010010\n",
            "2016-03-06    718.679993\n",
            "2016-03-13    708.119995\n",
            "2016-03-20    736.450012\n",
            "2016-03-27    742.359985\n",
            "2016-04-03    749.250000\n",
            "2016-04-10    745.369995\n",
            "2016-04-17    754.010010\n",
            "2016-04-24    755.380005\n",
            "2016-05-01    708.260010\n",
            "2016-05-08    697.700012\n",
            "2016-05-15    717.059998\n",
            "2016-05-22    702.359985\n",
            "2016-05-29    722.869995\n",
            "2016-06-05    732.500000\n",
            "2016-06-12    722.869995\n",
            "2016-06-19    714.909973\n",
            "2016-06-26    697.450012\n",
            "2016-07-03    685.469971\n",
            "2016-07-10    698.080017\n",
            "2016-07-17    721.580017\n",
            "2016-07-24    740.359985\n",
            "2016-07-31    747.039978\n",
            "2016-08-07    772.219971\n",
            "2016-08-14    785.000000\n",
            "2016-08-21    780.010010\n",
            "2016-08-28    767.000000\n",
            "2016-09-04    769.250000\n",
            "2016-09-11    778.590027\n",
            "2016-09-18    762.890015\n",
            "2016-09-25    780.000000\n",
            "2016-10-02    781.440002\n",
            "2016-10-09    779.000000\n",
            "2016-10-16    781.219971\n",
            "2016-10-23    803.299988\n",
            "2016-10-30    801.000000\n",
            "2016-11-06    767.250000\n",
            "2016-11-13    791.169983\n",
            "2016-11-20    766.919983\n",
            "2016-11-27    767.729980\n",
            "2016-12-04    757.440002\n",
            "2016-12-11    772.479980\n",
            "2016-12-18    797.340027\n",
            "2016-12-25    792.359985\n",
            "2017-01-01    783.330017\n",
            "Freq: W-SUN, Name: Open, dtype: float64\n"
          ]
        }
      ]
    },
    {
      "cell_type": "markdown",
      "metadata": {
        "id": "uwomY3aXMR46"
      },
      "source": [
        "Or directly calculate the monthly rates of return using the data for the first day and the last day:"
      ]
    },
    {
      "cell_type": "code",
      "metadata": {
        "colab": {
          "base_uri": "https://localhost:8080/"
        },
        "id": "qK2NMJrNHW96",
        "outputId": "b6ef704f-d164-486d-ad77-4b8391d02e5e"
      },
      "source": [
        "#Se obtiene la tasa mensual calculando directamente\n",
        "monthly_return = aapl.resample('M').agg(lambda x: x[-1]/x[0] - 1)\n",
        "print(monthly_return)"
      ],
      "execution_count": null,
      "outputs": [
        {
          "output_type": "stream",
          "name": "stdout",
          "text": [
            "Date\n",
            "2017-01-31    0.044770\n",
            "2017-02-28    0.068613\n",
            "2017-03-31    0.027684\n",
            "2017-04-30   -0.000348\n",
            "2017-05-31    0.046463\n",
            "2017-06-30   -0.059799\n",
            "2017-07-31    0.036446\n",
            "2017-08-31    0.097261\n",
            "2017-09-30   -0.060530\n",
            "2017-10-31    0.099018\n",
            "2017-11-30    0.033422\n",
            "2017-12-31   -0.010640\n",
            "Freq: M, Name: Close, dtype: float64\n"
          ]
        }
      ]
    },
    {
      "cell_type": "code",
      "source": [
        "#Example\n",
        "#Se obtiene la tasa semanal calculando directamente\n",
        "weekly_return = dat.resample('W').agg(lambda x: x[-1]/x[0] - 1)\n",
        "print(weekly_return)"
      ],
      "metadata": {
        "colab": {
          "base_uri": "https://localhost:8080/"
        },
        "id": "erUgkQuAqgu-",
        "outputId": "ca0cd77f-a370-4302-b2a6-fc5188adbe91"
      },
      "execution_count": 19,
      "outputs": [
        {
          "output_type": "stream",
          "name": "stdout",
          "text": [
            "Date\n",
            "2016-01-10   -0.015545\n",
            "2016-01-17   -0.033938\n",
            "2016-01-24    0.028864\n",
            "2016-01-31    0.010987\n",
            "2016-02-07   -0.062082\n",
            "2016-02-14    0.033555\n",
            "2016-02-21    0.002958\n",
            "2016-02-28    0.001597\n",
            "2016-03-06    0.020948\n",
            "2016-03-13    0.018532\n",
            "2016-03-20    0.020707\n",
            "2016-03-27   -0.006096\n",
            "2016-04-03    0.002457\n",
            "2016-04-10   -0.008119\n",
            "2016-04-17    0.014751\n",
            "2016-04-24   -0.044920\n",
            "2016-05-01   -0.035470\n",
            "2016-05-08    0.001075\n",
            "2016-05-15   -0.000098\n",
            "2016-05-22   -0.010590\n",
            "2016-05-29    0.024741\n",
            "2016-06-05   -0.003375\n",
            "2016-06-12   -0.007504\n",
            "2016-06-19   -0.010970\n",
            "2016-06-26   -0.033774\n",
            "2016-07-03    0.031595\n",
            "2016-07-10    0.004942\n",
            "2016-07-17    0.024970\n",
            "2016-07-24    0.026497\n",
            "2016-07-31    0.043258\n",
            "2016-08-07    0.016673\n",
            "2016-08-14   -0.000639\n",
            "2016-08-21   -0.011164\n",
            "2016-08-28   -0.005522\n",
            "2016-09-04    0.005555\n",
            "2016-09-11   -0.004331\n",
            "2016-09-18    0.019361\n",
            "2016-09-25    0.018345\n",
            "2016-10-02   -0.008189\n",
            "2016-10-09    0.006987\n",
            "2016-10-16    0.005066\n",
            "2016-10-23    0.019492\n",
            "2016-10-30    0.004286\n",
            "2016-11-06   -0.056331\n",
            "2016-11-13   -0.023189\n",
            "2016-11-20    0.020871\n",
            "2016-11-27    0.002164\n",
            "2016-12-04   -0.020276\n",
            "2016-12-11    0.029418\n",
            "2016-12-18    0.019566\n",
            "2016-12-25    0.000861\n",
            "2017-01-01   -0.010029\n",
            "Freq: W-SUN, Name: Open, dtype: float64\n"
          ]
        }
      ]
    },
    {
      "cell_type": "markdown",
      "metadata": {
        "id": "_DYbMTFWMj8J"
      },
      "source": [
        "Series object also provides us some convenient methods to do some quick calculation."
      ]
    },
    {
      "cell_type": "code",
      "metadata": {
        "colab": {
          "base_uri": "https://localhost:8080/"
        },
        "id": "1Mxc0HwvHW98",
        "outputId": "d3f0a1bf-5cb9-453c-be0c-d672fd27802e"
      },
      "source": [
        "#Se calcula el promedio mensual\n",
        "print(monthly_return.mean())\n",
        "#Se calcula la desviación estándar mensual\n",
        "print(monthly_return.std())\n",
        "#Se calcula el valor máximo mensual\n",
        "print(monthly_return.max())"
      ],
      "execution_count": null,
      "outputs": [
        {
          "output_type": "stream",
          "name": "stdout",
          "text": [
            "0.02686331860727394\n",
            "0.052258487776588924\n",
            "0.09901841642506737\n"
          ]
        }
      ]
    },
    {
      "cell_type": "code",
      "source": [
        "#Example\n",
        "#Se calcula el promedio mensual\n",
        "print(weekly_return.mean())\n",
        "#Se calcula la desviación estándar mensual\n",
        "print(weekly_return.std())\n",
        "#Se calcula el valor máximo mensual\n",
        "print(weekly_return.max())"
      ],
      "metadata": {
        "id": "vitP98DSqRmy"
      },
      "execution_count": null,
      "outputs": []
    },
    {
      "cell_type": "markdown",
      "metadata": {
        "id": "mn59J5dqMpqX"
      },
      "source": [
        "Another two methods frequently used on Series are .diff() and .pct_change(). The former calculates the difference between consecutive elements, and the latter calculates the percentage change."
      ]
    },
    {
      "cell_type": "code",
      "metadata": {
        "colab": {
          "base_uri": "https://localhost:8080/"
        },
        "id": "DupZTSqqHW99",
        "outputId": "141cb6b9-3a98-4204-b65c-1291020b7745"
      },
      "source": [
        "#Se calcula la diferencia entre dos elementos\n",
        "print(last_day.diff())\n",
        "#Se calcula el porcentaje de cambio entre dos elementos\n",
        "print(last_day.pct_change())"
      ],
      "execution_count": null,
      "outputs": [
        {
          "output_type": "stream",
          "name": "stdout",
          "text": [
            "Date\n",
            "2017-01-31         NaN\n",
            "2017-02-28    3.825745\n",
            "2017-03-31    1.578693\n",
            "2017-04-30   -0.002365\n",
            "2017-05-31    2.305443\n",
            "2017-06-30   -2.077160\n",
            "2017-07-31    1.119385\n",
            "2017-08-31    3.782162\n",
            "2017-09-30   -2.357327\n",
            "2017-10-31    3.559849\n",
            "2017-11-30    0.817856\n",
            "2017-12-31   -0.627361\n",
            "Freq: M, Name: Close, dtype: float64\n",
            "Date\n",
            "2017-01-31         NaN\n",
            "2017-02-28    0.133778\n",
            "2017-03-31    0.048690\n",
            "2017-04-30   -0.000070\n",
            "2017-05-31    0.067807\n",
            "2017-06-30   -0.057214\n",
            "2017-07-31    0.032704\n",
            "2017-08-31    0.106999\n",
            "2017-09-30   -0.060244\n",
            "2017-10-31    0.096808\n",
            "2017-11-30    0.020278\n",
            "2017-12-31   -0.015246\n",
            "Freq: M, Name: Close, dtype: float64\n"
          ]
        }
      ]
    },
    {
      "cell_type": "code",
      "source": [
        "#Example\n",
        "#Se calcula la diferencia entre dos elementos\n",
        "print(penultimate_day.diff())\n",
        "#Se calcula el porcentaje de cambio entre dos elementos\n",
        "print(penultimate_day.pct_change())"
      ],
      "metadata": {
        "colab": {
          "base_uri": "https://localhost:8080/"
        },
        "id": "C-Jqxfb7rDNi",
        "outputId": "89376926-7dcf-46ea-bbee-acaa4cc95421"
      },
      "execution_count": 20,
      "outputs": [
        {
          "output_type": "stream",
          "name": "stdout",
          "text": [
            "Date\n",
            "2016-01-10          NaN\n",
            "2016-01-17   -24.929993\n",
            "2016-01-24    -3.200012\n",
            "2016-01-31    20.039978\n",
            "2016-02-07     0.590027\n",
            "2016-02-14   -47.809998\n",
            "2016-02-21    35.000000\n",
            "2016-02-28    -9.989990\n",
            "2016-03-06    18.669983\n",
            "2016-03-13   -10.559998\n",
            "2016-03-20    28.330017\n",
            "2016-03-27     5.909973\n",
            "2016-04-03     6.890015\n",
            "2016-04-10    -3.880005\n",
            "2016-04-17     8.640015\n",
            "2016-04-24     1.369995\n",
            "2016-05-01   -47.119995\n",
            "2016-05-08   -10.559998\n",
            "2016-05-15    19.359985\n",
            "2016-05-22   -14.700012\n",
            "2016-05-29    20.510010\n",
            "2016-06-05     9.630005\n",
            "2016-06-12    -9.630005\n",
            "2016-06-19    -7.960022\n",
            "2016-06-26   -17.459961\n",
            "2016-07-03   -11.980042\n",
            "2016-07-10    12.610046\n",
            "2016-07-17    23.500000\n",
            "2016-07-24    18.779968\n",
            "2016-07-31     6.679993\n",
            "2016-08-07    25.179993\n",
            "2016-08-14    12.780029\n",
            "2016-08-21    -4.989990\n",
            "2016-08-28   -13.010010\n",
            "2016-09-04     2.250000\n",
            "2016-09-11     9.340027\n",
            "2016-09-18   -15.700012\n",
            "2016-09-25    17.109985\n",
            "2016-10-02     1.440002\n",
            "2016-10-09    -2.440002\n",
            "2016-10-16     2.219971\n",
            "2016-10-23    22.080017\n",
            "2016-10-30    -2.299988\n",
            "2016-11-06   -33.750000\n",
            "2016-11-13    23.919983\n",
            "2016-11-20   -24.250000\n",
            "2016-11-27     0.809998\n",
            "2016-12-04   -10.289978\n",
            "2016-12-11    15.039978\n",
            "2016-12-18    24.860046\n",
            "2016-12-25    -4.980042\n",
            "2017-01-01    -9.029968\n",
            "Freq: W-SUN, Name: Open, dtype: float64\n",
            "Date\n",
            "2016-01-10         NaN\n",
            "2016-01-17   -0.034136\n",
            "2016-01-24   -0.004537\n",
            "2016-01-31    0.028540\n",
            "2016-02-07    0.000817\n",
            "2016-02-14   -0.066145\n",
            "2016-02-21    0.051852\n",
            "2016-02-28   -0.014070\n",
            "2016-03-06    0.026671\n",
            "2016-03-13   -0.014694\n",
            "2016-03-20    0.040007\n",
            "2016-03-27    0.008025\n",
            "2016-04-03    0.009281\n",
            "2016-04-10   -0.005179\n",
            "2016-04-17    0.011592\n",
            "2016-04-24    0.001817\n",
            "2016-05-01   -0.062379\n",
            "2016-05-08   -0.014910\n",
            "2016-05-15    0.027748\n",
            "2016-05-22   -0.020500\n",
            "2016-05-29    0.029202\n",
            "2016-06-05    0.013322\n",
            "2016-06-12   -0.013147\n",
            "2016-06-19   -0.011012\n",
            "2016-06-26   -0.024423\n",
            "2016-07-03   -0.017177\n",
            "2016-07-10    0.018396\n",
            "2016-07-17    0.033664\n",
            "2016-07-24    0.026026\n",
            "2016-07-31    0.009023\n",
            "2016-08-07    0.033706\n",
            "2016-08-14    0.016550\n",
            "2016-08-21   -0.006357\n",
            "2016-08-28   -0.016679\n",
            "2016-09-04    0.002934\n",
            "2016-09-11    0.012142\n",
            "2016-09-18   -0.020165\n",
            "2016-09-25    0.022428\n",
            "2016-10-02    0.001846\n",
            "2016-10-09   -0.003122\n",
            "2016-10-16    0.002850\n",
            "2016-10-23    0.028264\n",
            "2016-10-30   -0.002863\n",
            "2016-11-06   -0.042135\n",
            "2016-11-13    0.031176\n",
            "2016-11-20   -0.030651\n",
            "2016-11-27    0.001056\n",
            "2016-12-04   -0.013403\n",
            "2016-12-11    0.019856\n",
            "2016-12-18    0.032182\n",
            "2016-12-25   -0.006246\n",
            "2017-01-01   -0.011396\n",
            "Freq: W-SUN, Name: Open, dtype: float64\n"
          ]
        }
      ]
    },
    {
      "cell_type": "markdown",
      "metadata": {
        "id": "RaMAOFepM6Io"
      },
      "source": [
        "Notice that we induced a NaN value while calculating percentage changes i.e. returns.\n",
        "\n",
        "When dealing with NaN values, we usually either removing the data point or fill it with a specific value. Here we fill it with 0:"
      ]
    },
    {
      "cell_type": "code",
      "metadata": {
        "colab": {
          "base_uri": "https://localhost:8080/"
        },
        "id": "-xyLb3A3HW99",
        "outputId": "9831c7d3-abb2-48f4-aaaa-b0451d8a1f53"
      },
      "source": [
        "daily_return = last_day.pct_change()\n",
        "#Se cambian los valores Na por 0\n",
        "print(daily_return.fillna(0))"
      ],
      "execution_count": null,
      "outputs": [
        {
          "output_type": "stream",
          "name": "stdout",
          "text": [
            "Date\n",
            "2017-01-31    0.000000\n",
            "2017-02-28    0.133778\n",
            "2017-03-31    0.048690\n",
            "2017-04-30   -0.000070\n",
            "2017-05-31    0.067807\n",
            "2017-06-30   -0.057214\n",
            "2017-07-31    0.032704\n",
            "2017-08-31    0.106999\n",
            "2017-09-30   -0.060244\n",
            "2017-10-31    0.096808\n",
            "2017-11-30    0.020278\n",
            "2017-12-31   -0.015246\n",
            "Freq: M, Name: Close, dtype: float64\n"
          ]
        }
      ]
    },
    {
      "cell_type": "markdown",
      "metadata": {
        "id": "BYS10Om1NQVC"
      },
      "source": [
        "Alternatively, we can fill a NaN with the next fitted value. This is called 'backward fill', or 'bfill' in short:"
      ]
    },
    {
      "cell_type": "code",
      "metadata": {
        "colab": {
          "base_uri": "https://localhost:8080/"
        },
        "id": "J513kHeKHW9-",
        "outputId": "3ab13c91-dcf3-46c7-94dd-39acf7616a79"
      },
      "source": [
        "daily_return = last_day.pct_change()\n",
        "#Se puede reemplazar Na por el siguiente valor más cercano\n",
        "print(daily_return.fillna(method = 'bfill'))"
      ],
      "execution_count": null,
      "outputs": [
        {
          "output_type": "stream",
          "name": "stdout",
          "text": [
            "Date\n",
            "2017-01-31    0.133778\n",
            "2017-02-28    0.133778\n",
            "2017-03-31    0.048690\n",
            "2017-04-30   -0.000070\n",
            "2017-05-31    0.067807\n",
            "2017-06-30   -0.057214\n",
            "2017-07-31    0.032704\n",
            "2017-08-31    0.106999\n",
            "2017-09-30   -0.060244\n",
            "2017-10-31    0.096808\n",
            "2017-11-30    0.020278\n",
            "2017-12-31   -0.015246\n",
            "Freq: M, Name: Close, dtype: float64\n"
          ]
        }
      ]
    },
    {
      "cell_type": "markdown",
      "metadata": {
        "id": "bj8QUSgdNepf"
      },
      "source": [
        "As expected, since there is a 'backward fill' method, there must be a 'forward fill' method, or 'ffill' in short. However we can't use it here because the NaN is the first value.\n",
        "\n",
        "We can also simply remove NaN values by **_.dropna()_**"
      ]
    },
    {
      "cell_type": "code",
      "metadata": {
        "colab": {
          "base_uri": "https://localhost:8080/"
        },
        "id": "WG5ux1lqHW9-",
        "outputId": "8de2381f-7731-446b-c31f-be094e559ed3"
      },
      "source": [
        "daily_return = last_day.pct_change()\n",
        "#Se descartan los valores Na\n",
        "daily_return.dropna()"
      ],
      "execution_count": null,
      "outputs": [
        {
          "output_type": "execute_result",
          "data": {
            "text/plain": [
              "Date\n",
              "2017-02-28    0.133778\n",
              "2017-03-31    0.048690\n",
              "2017-04-30   -0.000070\n",
              "2017-05-31    0.067807\n",
              "2017-06-30   -0.057214\n",
              "2017-07-31    0.032704\n",
              "2017-08-31    0.106999\n",
              "2017-09-30   -0.060244\n",
              "2017-10-31    0.096808\n",
              "2017-11-30    0.020278\n",
              "2017-12-31   -0.015246\n",
              "Freq: M, Name: Close, dtype: float64"
            ]
          },
          "metadata": {},
          "execution_count": 102
        }
      ]
    },
    {
      "cell_type": "code",
      "source": [
        "#Example\n",
        "daily = penultimate_day.pct_change()\n",
        "#Se cambian los valores Na por 0\n",
        "print(\"\\nMétodo 1\\n\")\n",
        "print(daily.fillna('Holi'))\n",
        "#Se reemplaza por el siguiente valor más cercano\n",
        "print(\"\\nMétodo 2\\n\")\n",
        "print(daily.fillna(method = 'bfill'))\n",
        "#Se descarta los Na\n",
        "print(\"\\nMétodo 3\\n\")\n",
        "daily.dropna()"
      ],
      "metadata": {
        "colab": {
          "base_uri": "https://localhost:8080/"
        },
        "id": "me44-rRmrVJ1",
        "outputId": "1de20946-b448-41c9-bd7a-48c02c7e2321"
      },
      "execution_count": 27,
      "outputs": [
        {
          "output_type": "stream",
          "name": "stdout",
          "text": [
            "\n",
            "Método 1\n",
            "\n",
            "Date\n",
            "2016-01-10        Holi\n",
            "2016-01-17   -0.034136\n",
            "2016-01-24   -0.004537\n",
            "2016-01-31     0.02854\n",
            "2016-02-07    0.000817\n",
            "2016-02-14   -0.066145\n",
            "2016-02-21    0.051852\n",
            "2016-02-28    -0.01407\n",
            "2016-03-06    0.026671\n",
            "2016-03-13   -0.014694\n",
            "2016-03-20    0.040007\n",
            "2016-03-27    0.008025\n",
            "2016-04-03    0.009281\n",
            "2016-04-10   -0.005179\n",
            "2016-04-17    0.011592\n",
            "2016-04-24    0.001817\n",
            "2016-05-01   -0.062379\n",
            "2016-05-08    -0.01491\n",
            "2016-05-15    0.027748\n",
            "2016-05-22     -0.0205\n",
            "2016-05-29    0.029202\n",
            "2016-06-05    0.013322\n",
            "2016-06-12   -0.013147\n",
            "2016-06-19   -0.011012\n",
            "2016-06-26   -0.024423\n",
            "2016-07-03   -0.017177\n",
            "2016-07-10    0.018396\n",
            "2016-07-17    0.033664\n",
            "2016-07-24    0.026026\n",
            "2016-07-31    0.009023\n",
            "2016-08-07    0.033706\n",
            "2016-08-14     0.01655\n",
            "2016-08-21   -0.006357\n",
            "2016-08-28   -0.016679\n",
            "2016-09-04    0.002934\n",
            "2016-09-11    0.012142\n",
            "2016-09-18   -0.020165\n",
            "2016-09-25    0.022428\n",
            "2016-10-02    0.001846\n",
            "2016-10-09   -0.003122\n",
            "2016-10-16     0.00285\n",
            "2016-10-23    0.028264\n",
            "2016-10-30   -0.002863\n",
            "2016-11-06   -0.042135\n",
            "2016-11-13    0.031176\n",
            "2016-11-20   -0.030651\n",
            "2016-11-27    0.001056\n",
            "2016-12-04   -0.013403\n",
            "2016-12-11    0.019856\n",
            "2016-12-18    0.032182\n",
            "2016-12-25   -0.006246\n",
            "2017-01-01   -0.011396\n",
            "Freq: W-SUN, Name: Open, dtype: object\n",
            "\n",
            "Método 2\n",
            "\n",
            "Date\n",
            "2016-01-10   -0.034136\n",
            "2016-01-17   -0.034136\n",
            "2016-01-24   -0.004537\n",
            "2016-01-31    0.028540\n",
            "2016-02-07    0.000817\n",
            "2016-02-14   -0.066145\n",
            "2016-02-21    0.051852\n",
            "2016-02-28   -0.014070\n",
            "2016-03-06    0.026671\n",
            "2016-03-13   -0.014694\n",
            "2016-03-20    0.040007\n",
            "2016-03-27    0.008025\n",
            "2016-04-03    0.009281\n",
            "2016-04-10   -0.005179\n",
            "2016-04-17    0.011592\n",
            "2016-04-24    0.001817\n",
            "2016-05-01   -0.062379\n",
            "2016-05-08   -0.014910\n",
            "2016-05-15    0.027748\n",
            "2016-05-22   -0.020500\n",
            "2016-05-29    0.029202\n",
            "2016-06-05    0.013322\n",
            "2016-06-12   -0.013147\n",
            "2016-06-19   -0.011012\n",
            "2016-06-26   -0.024423\n",
            "2016-07-03   -0.017177\n",
            "2016-07-10    0.018396\n",
            "2016-07-17    0.033664\n",
            "2016-07-24    0.026026\n",
            "2016-07-31    0.009023\n",
            "2016-08-07    0.033706\n",
            "2016-08-14    0.016550\n",
            "2016-08-21   -0.006357\n",
            "2016-08-28   -0.016679\n",
            "2016-09-04    0.002934\n",
            "2016-09-11    0.012142\n",
            "2016-09-18   -0.020165\n",
            "2016-09-25    0.022428\n",
            "2016-10-02    0.001846\n",
            "2016-10-09   -0.003122\n",
            "2016-10-16    0.002850\n",
            "2016-10-23    0.028264\n",
            "2016-10-30   -0.002863\n",
            "2016-11-06   -0.042135\n",
            "2016-11-13    0.031176\n",
            "2016-11-20   -0.030651\n",
            "2016-11-27    0.001056\n",
            "2016-12-04   -0.013403\n",
            "2016-12-11    0.019856\n",
            "2016-12-18    0.032182\n",
            "2016-12-25   -0.006246\n",
            "2017-01-01   -0.011396\n",
            "Freq: W-SUN, Name: Open, dtype: float64\n",
            "\n",
            "Método 3\n",
            "\n"
          ]
        },
        {
          "output_type": "execute_result",
          "data": {
            "text/plain": [
              "Date\n",
              "2016-01-17   -0.034136\n",
              "2016-01-24   -0.004537\n",
              "2016-01-31    0.028540\n",
              "2016-02-07    0.000817\n",
              "2016-02-14   -0.066145\n",
              "2016-02-21    0.051852\n",
              "2016-02-28   -0.014070\n",
              "2016-03-06    0.026671\n",
              "2016-03-13   -0.014694\n",
              "2016-03-20    0.040007\n",
              "2016-03-27    0.008025\n",
              "2016-04-03    0.009281\n",
              "2016-04-10   -0.005179\n",
              "2016-04-17    0.011592\n",
              "2016-04-24    0.001817\n",
              "2016-05-01   -0.062379\n",
              "2016-05-08   -0.014910\n",
              "2016-05-15    0.027748\n",
              "2016-05-22   -0.020500\n",
              "2016-05-29    0.029202\n",
              "2016-06-05    0.013322\n",
              "2016-06-12   -0.013147\n",
              "2016-06-19   -0.011012\n",
              "2016-06-26   -0.024423\n",
              "2016-07-03   -0.017177\n",
              "2016-07-10    0.018396\n",
              "2016-07-17    0.033664\n",
              "2016-07-24    0.026026\n",
              "2016-07-31    0.009023\n",
              "2016-08-07    0.033706\n",
              "2016-08-14    0.016550\n",
              "2016-08-21   -0.006357\n",
              "2016-08-28   -0.016679\n",
              "2016-09-04    0.002934\n",
              "2016-09-11    0.012142\n",
              "2016-09-18   -0.020165\n",
              "2016-09-25    0.022428\n",
              "2016-10-02    0.001846\n",
              "2016-10-09   -0.003122\n",
              "2016-10-16    0.002850\n",
              "2016-10-23    0.028264\n",
              "2016-10-30   -0.002863\n",
              "2016-11-06   -0.042135\n",
              "2016-11-13    0.031176\n",
              "2016-11-20   -0.030651\n",
              "2016-11-27    0.001056\n",
              "2016-12-04   -0.013403\n",
              "2016-12-11    0.019856\n",
              "2016-12-18    0.032182\n",
              "2016-12-25   -0.006246\n",
              "2017-01-01   -0.011396\n",
              "Freq: W-SUN, Name: Open, dtype: float64"
            ]
          },
          "metadata": {},
          "execution_count": 27
        }
      ]
    },
    {
      "cell_type": "markdown",
      "metadata": {
        "id": "nQH2eBWkNjdC"
      },
      "source": [
        "# DataFrame\n",
        "The **DataFrame** is the most commonly used data structure in Pandas. It is essentially a table, just like an Excel spreadsheet.\n",
        "\n",
        "More precisely, a DataFrame is a collection of Series objects, each of which may contain different data types. A DataFrame can be created from various data types: dictionary, 2-D numpy.ndarray, a Series or another DataFrame.\n",
        "\n",
        "## Create DataFrames\n",
        "The most common method of creating a DataFrame is passing a dictionary:"
      ]
    },
    {
      "cell_type": "code",
      "metadata": {
        "colab": {
          "base_uri": "https://localhost:8080/"
        },
        "id": "vd5Wf1ohHW9-",
        "outputId": "aca4ad14-e54e-40c6-d924-aa6671bf9dc2"
      },
      "source": [
        "#Se importa la librería\n",
        "import pandas as pd\n",
        "\n",
        "#Se crea un diccionario\n",
        "dict = {'AAPL': [143.5, 144.09, 142.73, 144.18, 143.77],'GOOG':[898.7, 911.71, 906.69, 918.59, 926.99],\n",
        "        'IBM':[155.58, 153.67, 152.36, 152.94, 153.49]}\n",
        "#Se crean índices de tipo fecha\n",
        "data_index = pd.date_range('2017-07-03',periods = 5, freq = 'D')\n",
        "\n",
        "#Se crea un Data Frame\n",
        "df = pd.DataFrame(dict, index = data_index)\n",
        "print(df)"
      ],
      "execution_count": 28,
      "outputs": [
        {
          "output_type": "stream",
          "name": "stdout",
          "text": [
            "              AAPL    GOOG     IBM\n",
            "2017-07-03  143.50  898.70  155.58\n",
            "2017-07-04  144.09  911.71  153.67\n",
            "2017-07-05  142.73  906.69  152.36\n",
            "2017-07-06  144.18  918.59  152.94\n",
            "2017-07-07  143.77  926.99  153.49\n"
          ]
        }
      ]
    },
    {
      "cell_type": "code",
      "source": [
        "#Example\n",
        "#Se importa la librería\n",
        "import pandas as pd\n",
        "\n",
        "#Se crea un diccionario\n",
        "dict = {'Pedro': [765432, 87654], 'Martina': [98765, 876549], 'Cristina': [1234567, 87654], 'Mario': [7656425, 654765]}\n",
        "\n",
        "#Se crean índices de tipo fecha\n",
        "indexx = pd.date_range('2022-03-15',periods = 4, freq = 'D')\n",
        "\n",
        "#Se crea un Data Frame\n",
        "df = pd.DataFrame([dict], index = indexx)\n",
        "print(df)"
      ],
      "metadata": {
        "colab": {
          "base_uri": "https://localhost:8080/"
        },
        "id": "MgMR26VisUtD",
        "outputId": "d5074761-066f-4e9a-86dc-d580f4370a42"
      },
      "execution_count": 33,
      "outputs": [
        {
          "output_type": "stream",
          "name": "stdout",
          "text": [
            "                      Pedro          Martina          Cristina  \\\n",
            "2022-03-15  [765432, 87654]  [98765, 876549]  [1234567, 87654]   \n",
            "2022-03-16  [765432, 87654]  [98765, 876549]  [1234567, 87654]   \n",
            "2022-03-17  [765432, 87654]  [98765, 876549]  [1234567, 87654]   \n",
            "2022-03-18  [765432, 87654]  [98765, 876549]  [1234567, 87654]   \n",
            "\n",
            "                        Mario  \n",
            "2022-03-15  [7656425, 654765]  \n",
            "2022-03-16  [7656425, 654765]  \n",
            "2022-03-17  [7656425, 654765]  \n",
            "2022-03-18  [7656425, 654765]  \n"
          ]
        }
      ]
    },
    {
      "cell_type": "markdown",
      "metadata": {
        "id": "0uYmLQTgOPnX"
      },
      "source": [
        "## Manipulating DataFrames\n",
        "We can fetch values in a DataFrame by columns and index. Each column in a DataFrame is essentially a Pandas Series. We can fetch a column by square brackets: **df['column_name']**\n",
        "\n",
        "If a column name contains no spaces, then we can also use df.column_name to fetch a column:"
      ]
    },
    {
      "cell_type": "code",
      "metadata": {
        "colab": {
          "base_uri": "https://localhost:8080/"
        },
        "id": "2pB2f7lBHW9_",
        "outputId": "fd17e613-08f4-470e-981d-727c3ddfb954"
      },
      "source": [
        "#Se consulta el valores por índice desde el final\n",
        "df = aapl_table\n",
        "print(df.Close.tail(5))\n",
        "print(df['Volume'].tail(5))"
      ],
      "execution_count": null,
      "outputs": [
        {
          "output_type": "stream",
          "name": "stdout",
          "text": [
            "Date\n",
            "2017-12-22    41.906776\n",
            "2017-12-26    40.843601\n",
            "2017-12-27    40.850777\n",
            "2017-12-28    40.965721\n",
            "2017-12-29    40.522736\n",
            "Name: Close, dtype: float64\n",
            "Date\n",
            "2017-12-22     65397600\n",
            "2017-12-26    132742000\n",
            "2017-12-27     85992800\n",
            "2017-12-28     65920800\n",
            "2017-12-29    103999600\n",
            "Name: Volume, dtype: int64\n"
          ]
        }
      ]
    },
    {
      "cell_type": "code",
      "source": [
        "#Example\n",
        "#Se consulta el valores por índice desde el inicio\n",
        "df = table\n",
        "print(df.Open.head(5))\n",
        "print(df['Volume'].head(5))"
      ],
      "metadata": {
        "colab": {
          "base_uri": "https://localhost:8080/"
        },
        "id": "dygUpNlOuFPp",
        "outputId": "c75faaca-6dcf-4e9e-da82-2b173e67a9a8"
      },
      "execution_count": 34,
      "outputs": [
        {
          "output_type": "stream",
          "name": "stdout",
          "text": [
            "Date\n",
            "2016-01-04    743.000000\n",
            "2016-01-05    746.450012\n",
            "2016-01-06    730.000000\n",
            "2016-01-07    730.309998\n",
            "2016-01-08    731.450012\n",
            "Name: Open, dtype: float64\n",
            "Date\n",
            "2016-01-04    3272800\n",
            "2016-01-05    1950700\n",
            "2016-01-06    1947000\n",
            "2016-01-07    2963700\n",
            "2016-01-08    2450900\n",
            "Name: Volume, dtype: int64\n"
          ]
        }
      ]
    },
    {
      "cell_type": "markdown",
      "metadata": {
        "id": "z0ugOel9O4-P"
      },
      "source": [
        "All the methods we applied to a Series index such as iloc[], loc[] and resampling methods, can also be applied to a DataFrame:"
      ]
    },
    {
      "cell_type": "code",
      "metadata": {
        "colab": {
          "base_uri": "https://localhost:8080/"
        },
        "id": "_8dfjkedHW9_",
        "outputId": "893c8607-cf18-4e12-a0d5-e697c91ac7c1"
      },
      "source": [
        "#Se consulta por año\n",
        "aapl_2016 = df['2016']\n",
        "#Se consulta el valor del último día por mes\n",
        "aapl_month = aapl_2016.resample('M').agg(lambda x: x[-1])\n",
        "print(aapl_month)"
      ],
      "execution_count": null,
      "outputs": [
        {
          "output_type": "stream",
          "name": "stdout",
          "text": [
            "                 Open       High        Low  ...     Volume  Dividends  Stock Splits\n",
            "Date                                         ...                                    \n",
            "2016-01-31  21.852388  22.440250  21.750952  ...  257666000        0.0             0\n",
            "2016-02-29  22.450761  22.768308  22.402086  ...  140865200        0.0             0\n",
            "2016-03-31  25.431520  25.473242  25.236819  ...  103553600        0.0             0\n",
            "2016-04-30  21.785529  21.954734  21.442488  ...  274126000        0.0             0\n",
            "2016-05-31  23.226409  23.412967  23.044516  ...  169228800        0.0             0\n",
            "2016-06-30  22.023112  22.333262  21.990464  ...  143345600        0.0             0\n",
            "2016-07-31  24.296780  24.380731  24.177849  ...  110934800        0.0             0\n",
            "2016-08-31  24.773054  24.986412  24.768364  ...  118649600        0.0             0\n",
            "2016-09-30  26.367388  26.580747  26.212645  ...  145516400        0.0             0\n",
            "2016-10-31  26.646396  26.782384  26.540888  ...  105677600        0.0             0\n",
            "2016-11-30  26.300094  26.441492  25.986660  ...  144649200        0.0             0\n",
            "2016-12-31  27.490193  27.619807  27.202683  ...  122345200        0.0             0\n",
            "\n",
            "[12 rows x 7 columns]\n"
          ]
        }
      ]
    },
    {
      "cell_type": "code",
      "source": [
        "#Example\n",
        "#Se consulta por año\n",
        "dat_2016 = df['2016-2']\n",
        "#Se consulta el valor del penúltimo día por mes\n",
        "dat_week = dat_2016.resample('W').agg(lambda x: x[-1])\n",
        "print(dat_week)"
      ],
      "metadata": {
        "colab": {
          "base_uri": "https://localhost:8080/"
        },
        "id": "ubxSZ9fZuj2u",
        "outputId": "4bffdd28-a7ad-44ae-edd6-538bd564f5f4"
      },
      "execution_count": 42,
      "outputs": [
        {
          "output_type": "stream",
          "name": "stdout",
          "text": [
            "                  Open        High         Low       Close   Volume  \\\n",
            "Date                                                                  \n",
            "2016-02-07  703.869995  703.989990  680.150024  683.570007  5105700   \n",
            "2016-02-14  690.260010  693.750000  678.599976  682.400024  2141400   \n",
            "2016-02-21  695.030029  703.080994  694.049988  700.909973  1589300   \n",
            "2016-02-28  708.580017  713.429993  700.859985  705.070007  2243500   \n",
            "2016-03-06  700.320007  710.890015  697.679993  697.770020  2481100   \n",
            "\n",
            "            Dividends  Stock Splits  \n",
            "Date                                 \n",
            "2016-02-07          0             0  \n",
            "2016-02-14          0             0  \n",
            "2016-02-21          0             0  \n",
            "2016-02-28          0             0  \n",
            "2016-03-06          0             0  \n"
          ]
        },
        {
          "output_type": "stream",
          "name": "stderr",
          "text": [
            "/usr/local/lib/python3.7/dist-packages/ipykernel_launcher.py:3: FutureWarning: Indexing a DataFrame with a datetimelike index using a single string to slice the rows, like `frame[string]`, is deprecated and will be removed in a future version. Use `frame.loc[string]` instead.\n",
            "  This is separate from the ipykernel package so we can avoid doing imports until\n"
          ]
        }
      ]
    },
    {
      "cell_type": "markdown",
      "metadata": {
        "id": "CqrbrbFZPTJe"
      },
      "source": [
        "We may select certain columns of a DataFrame using their names:"
      ]
    },
    {
      "cell_type": "code",
      "metadata": {
        "colab": {
          "base_uri": "https://localhost:8080/"
        },
        "id": "7bQGeyCAHW9_",
        "outputId": "7a427233-719f-482d-ec12-28baf91dd1de"
      },
      "source": [
        "#Se seleccionan algunas columnas del Data Frame\n",
        "aapl_bar = aapl_month[['Open', 'High', 'Low', 'Close']]\n",
        "print(aapl_bar)"
      ],
      "execution_count": null,
      "outputs": [
        {
          "output_type": "stream",
          "name": "stdout",
          "text": [
            "                 Open       High        Low      Close\n",
            "Date                                                  \n",
            "2016-01-31  21.852388  22.440250  21.750952  22.440250\n",
            "2016-02-29  22.450761  22.768308  22.402086  22.411358\n",
            "2016-03-31  25.431520  25.473242  25.236819  25.262316\n",
            "2016-04-30  21.785529  21.954734  21.442488  21.727583\n",
            "2016-05-31  23.226409  23.412967  23.044516  23.287041\n",
            "2016-06-30  22.023112  22.333262  21.990464  22.293619\n",
            "2016-07-31  24.296780  24.380731  24.177849  24.301443\n",
            "2016-08-31  24.773054  24.986412  24.768364  24.876215\n",
            "2016-09-30  26.367388  26.580747  26.212645  26.505720\n",
            "2016-10-31  26.646396  26.782384  26.540888  26.620605\n",
            "2016-11-30  26.300094  26.441492  25.986660  26.045576\n",
            "2016-12-31  27.490193  27.619807  27.202683  27.294592\n"
          ]
        }
      ]
    },
    {
      "cell_type": "code",
      "source": [
        "#Example\n",
        "#Se seleccionan algunas columnas del Data Frame\n",
        "dat_bar = dat_week[['Open', 'High']]\n",
        "print(dat_bar)"
      ],
      "metadata": {
        "colab": {
          "base_uri": "https://localhost:8080/"
        },
        "id": "xvEGtX0mvVNU",
        "outputId": "c8082dfc-b07e-48d3-f2c1-05697823105b"
      },
      "execution_count": 43,
      "outputs": [
        {
          "output_type": "stream",
          "name": "stdout",
          "text": [
            "                  Open        High\n",
            "Date                              \n",
            "2016-02-07  703.869995  703.989990\n",
            "2016-02-14  690.260010  693.750000\n",
            "2016-02-21  695.030029  703.080994\n",
            "2016-02-28  708.580017  713.429993\n",
            "2016-03-06  700.320007  710.890015\n"
          ]
        }
      ]
    },
    {
      "cell_type": "markdown",
      "metadata": {
        "id": "8CQaZCAQP68O"
      },
      "source": [
        "We can even specify both rows and columns using loc[]. The row indices and column names are separated by a comma:"
      ]
    },
    {
      "cell_type": "code",
      "metadata": {
        "colab": {
          "base_uri": "https://localhost:8080/"
        },
        "id": "YjWWiHVpHW-A",
        "outputId": "5972e593-5289-4636-f913-2c04e9fe179c"
      },
      "source": [
        "#Se consultan períodos y columnas específicas\n",
        "print(aapl_month.loc['2016-03':'2016-06',['Open', 'High', 'Low', 'Close']])"
      ],
      "execution_count": null,
      "outputs": [
        {
          "output_type": "stream",
          "name": "stdout",
          "text": [
            "                 Open       High        Low      Close\n",
            "Date                                                  \n",
            "2016-03-31  25.431520  25.473242  25.236819  25.262316\n",
            "2016-04-30  21.785529  21.954734  21.442488  21.727583\n",
            "2016-05-31  23.226409  23.412967  23.044516  23.287041\n",
            "2016-06-30  22.023112  22.333262  21.990464  22.293619\n"
          ]
        }
      ]
    },
    {
      "cell_type": "code",
      "source": [
        "#Example\n",
        "#Se consultan períodos y columnas específicas\n",
        "print(dat_week.loc['2016-01':'2017-04',['High', 'Low', 'Close', 'Open']])"
      ],
      "metadata": {
        "colab": {
          "base_uri": "https://localhost:8080/"
        },
        "id": "8rdCpQfLvqf6",
        "outputId": "9ab700d9-0deb-4698-f7cb-c19837f461b7"
      },
      "execution_count": 44,
      "outputs": [
        {
          "output_type": "stream",
          "name": "stdout",
          "text": [
            "                  High         Low       Close        Open\n",
            "Date                                                      \n",
            "2016-02-07  703.989990  680.150024  683.570007  703.869995\n",
            "2016-02-14  693.750000  678.599976  682.400024  690.260010\n",
            "2016-02-21  703.080994  694.049988  700.909973  695.030029\n",
            "2016-02-28  713.429993  700.859985  705.070007  708.580017\n",
            "2016-03-06  710.890015  697.679993  697.770020  700.320007\n"
          ]
        }
      ]
    },
    {
      "cell_type": "markdown",
      "metadata": {
        "id": "Xcn_pHNLQBEH"
      },
      "source": [
        "The subset methods in DataFrame is quite useful. By writing logical statements in square brackets, we can make customized subsets:"
      ]
    },
    {
      "cell_type": "code",
      "metadata": {
        "colab": {
          "base_uri": "https://localhost:8080/",
          "height": 217
        },
        "id": "RxKg4dObHW-A",
        "outputId": "50d1eade-001c-4f7d-b09e-9f4c76b1f868"
      },
      "source": [
        "#Se importa la librería\n",
        "import numpy as np\n",
        "\n",
        "#Se pueden comparar entre elementos\n",
        "above = aapl_bar[aapl_bar.Close > np.mean(aapl_bar.Close)]\n",
        "print(above)"
      ],
      "execution_count": 45,
      "outputs": [
        {
          "output_type": "error",
          "ename": "NameError",
          "evalue": "ignored",
          "traceback": [
            "\u001b[0;31m---------------------------------------------------------------------------\u001b[0m",
            "\u001b[0;31mNameError\u001b[0m                                 Traceback (most recent call last)",
            "\u001b[0;32m<ipython-input-45-9423d04b7584>\u001b[0m in \u001b[0;36m<module>\u001b[0;34m()\u001b[0m\n\u001b[1;32m      1\u001b[0m \u001b[0;32mimport\u001b[0m \u001b[0mnumpy\u001b[0m \u001b[0;32mas\u001b[0m \u001b[0mnp\u001b[0m\u001b[0;34m\u001b[0m\u001b[0;34m\u001b[0m\u001b[0m\n\u001b[1;32m      2\u001b[0m \u001b[0;34m\u001b[0m\u001b[0m\n\u001b[0;32m----> 3\u001b[0;31m \u001b[0mabove\u001b[0m \u001b[0;34m=\u001b[0m \u001b[0maapl_bar\u001b[0m\u001b[0;34m[\u001b[0m\u001b[0maapl_bar\u001b[0m\u001b[0;34m.\u001b[0m\u001b[0mClose\u001b[0m \u001b[0;34m>\u001b[0m \u001b[0mnp\u001b[0m\u001b[0;34m.\u001b[0m\u001b[0mmean\u001b[0m\u001b[0;34m(\u001b[0m\u001b[0maapl_bar\u001b[0m\u001b[0;34m.\u001b[0m\u001b[0mClose\u001b[0m\u001b[0;34m)\u001b[0m\u001b[0;34m]\u001b[0m\u001b[0;34m\u001b[0m\u001b[0;34m\u001b[0m\u001b[0m\n\u001b[0m\u001b[1;32m      4\u001b[0m \u001b[0mprint\u001b[0m\u001b[0;34m(\u001b[0m\u001b[0mabove\u001b[0m\u001b[0;34m)\u001b[0m\u001b[0;34m\u001b[0m\u001b[0;34m\u001b[0m\u001b[0m\n",
            "\u001b[0;31mNameError\u001b[0m: name 'aapl_bar' is not defined"
          ]
        }
      ]
    },
    {
      "cell_type": "code",
      "source": [
        "#Example\n",
        "#Se importa la librería\n",
        "import numpy as np\n",
        "\n",
        "#Se pueden comparar entre elementos\n",
        "above = dat_bar[dat_bar.High > np.median(dat_bar.High)]\n",
        "print(above)"
      ],
      "metadata": {
        "colab": {
          "base_uri": "https://localhost:8080/"
        },
        "id": "OjfflXL6v_Tn",
        "outputId": "66b3db8d-2083-41e2-82dd-4af351b34945"
      },
      "execution_count": 48,
      "outputs": [
        {
          "output_type": "stream",
          "name": "stdout",
          "text": [
            "                  Open        High\n",
            "Date                              \n",
            "2016-02-28  708.580017  713.429993\n",
            "2016-03-06  700.320007  710.890015\n"
          ]
        }
      ]
    },
    {
      "cell_type": "markdown",
      "metadata": {
        "id": "wcm_UadkQLL5"
      },
      "source": [
        "## Data Validation\n",
        "As mentioned, all methods that apply to a Series can also be applied to a DataFrame. Here we add a new column to an existing DataFrame:"
      ]
    },
    {
      "cell_type": "code",
      "metadata": {
        "colab": {
          "base_uri": "https://localhost:8080/"
        },
        "id": "jZXFdOVFHW-A",
        "outputId": "35e1d9c9-1460-417c-940e-c6fa70c9947b"
      },
      "source": [
        "#Se añade una columna al Data Frame con el porcentaje de cambio entre dos datos subsecuentes\n",
        "aapl_bar['rate_return'] = aapl_bar.Close.pct_change()\n",
        "print(aapl_bar)"
      ],
      "execution_count": null,
      "outputs": [
        {
          "output_type": "stream",
          "name": "stdout",
          "text": [
            "                 Open       High        Low      Close  rate_return\n",
            "Date                                                               \n",
            "2016-01-31  21.852388  22.440250  21.750952  22.440250          NaN\n",
            "2016-02-29  22.450761  22.768308  22.402086  22.411358    -0.001288\n",
            "2016-03-31  25.431520  25.473242  25.236819  25.262316     0.127210\n",
            "2016-04-30  21.785529  21.954734  21.442488  21.727583    -0.139921\n",
            "2016-05-31  23.226409  23.412967  23.044516  23.287041     0.071773\n",
            "2016-06-30  22.023112  22.333262  21.990464  22.293619    -0.042660\n",
            "2016-07-31  24.296780  24.380731  24.177849  24.301443     0.090063\n",
            "2016-08-31  24.773054  24.986412  24.768364  24.876215     0.023652\n",
            "2016-09-30  26.367388  26.580747  26.212645  26.505720     0.065505\n",
            "2016-10-31  26.646396  26.782384  26.540888  26.620605     0.004334\n",
            "2016-11-30  26.300094  26.441492  25.986660  26.045576    -0.021601\n",
            "2016-12-31  27.490193  27.619807  27.202683  27.294592     0.047955\n"
          ]
        },
        {
          "output_type": "stream",
          "name": "stderr",
          "text": [
            "/usr/local/lib/python3.7/dist-packages/ipykernel_launcher.py:1: SettingWithCopyWarning: \n",
            "A value is trying to be set on a copy of a slice from a DataFrame.\n",
            "Try using .loc[row_indexer,col_indexer] = value instead\n",
            "\n",
            "See the caveats in the documentation: https://pandas.pydata.org/pandas-docs/stable/user_guide/indexing.html#returning-a-view-versus-a-copy\n",
            "  \"\"\"Entry point for launching an IPython kernel.\n"
          ]
        }
      ]
    },
    {
      "cell_type": "code",
      "source": [
        "#Example\n",
        "#Se añade una columna al Data Frame con el porcentaje de cambio entre dos datos subsecuentes\n",
        "dat_bar['Difference'] = dat_bar.High.diff()\n",
        "print(dat_bar)"
      ],
      "metadata": {
        "colab": {
          "base_uri": "https://localhost:8080/"
        },
        "id": "7DL3UeaCwhwK",
        "outputId": "c9cdf39a-c654-460f-af9d-6022c7fa0e9d"
      },
      "execution_count": 50,
      "outputs": [
        {
          "output_type": "stream",
          "name": "stdout",
          "text": [
            "                  Open        High  Difference\n",
            "Date                                          \n",
            "2016-02-07  703.869995  703.989990         NaN\n",
            "2016-02-14  690.260010  693.750000  -10.239990\n",
            "2016-02-21  695.030029  703.080994    9.330994\n",
            "2016-02-28  708.580017  713.429993   10.348999\n",
            "2016-03-06  700.320007  710.890015   -2.539978\n"
          ]
        },
        {
          "output_type": "stream",
          "name": "stderr",
          "text": [
            "/usr/local/lib/python3.7/dist-packages/ipykernel_launcher.py:2: SettingWithCopyWarning: \n",
            "A value is trying to be set on a copy of a slice from a DataFrame.\n",
            "Try using .loc[row_indexer,col_indexer] = value instead\n",
            "\n",
            "See the caveats in the documentation: https://pandas.pydata.org/pandas-docs/stable/user_guide/indexing.html#returning-a-view-versus-a-copy\n",
            "  \n"
          ]
        }
      ]
    },
    {
      "cell_type": "markdown",
      "metadata": {
        "id": "_or6n5-LQUa-"
      },
      "source": [
        "Here the calculation introduced a NaN value. If the DataFrame is large, we would not be able to observe it. **isnull()** provides a convenient way to check abnormal values."
      ]
    },
    {
      "cell_type": "code",
      "metadata": {
        "colab": {
          "base_uri": "https://localhost:8080/"
        },
        "id": "V5wgmhIPHW-B",
        "outputId": "cf646765-ea74-4e63-ced7-78e1ec2e1b93"
      },
      "source": [
        "#Se verifican los valores Na\n",
        "missing = aapl_bar.isnull()\n",
        "print(missing)\n",
        "print('---------------------------------------------')\n",
        "print(missing.describe())"
      ],
      "execution_count": null,
      "outputs": [
        {
          "output_type": "stream",
          "name": "stdout",
          "text": [
            "             Open   High    Low  Close  rate_return\n",
            "Date                                               \n",
            "2016-01-31  False  False  False  False         True\n",
            "2016-02-29  False  False  False  False        False\n",
            "2016-03-31  False  False  False  False        False\n",
            "2016-04-30  False  False  False  False        False\n",
            "2016-05-31  False  False  False  False        False\n",
            "2016-06-30  False  False  False  False        False\n",
            "2016-07-31  False  False  False  False        False\n",
            "2016-08-31  False  False  False  False        False\n",
            "2016-09-30  False  False  False  False        False\n",
            "2016-10-31  False  False  False  False        False\n",
            "2016-11-30  False  False  False  False        False\n",
            "2016-12-31  False  False  False  False        False\n",
            "---------------------------------------------\n",
            "         Open   High    Low  Close rate_return\n",
            "count      12     12     12     12          12\n",
            "unique      1      1      1      1           2\n",
            "top     False  False  False  False       False\n",
            "freq       12     12     12     12          11\n"
          ]
        }
      ]
    },
    {
      "cell_type": "code",
      "source": [
        "#Example\n",
        "#Se verifican los valores Na\n",
        "na_values = dat_bar.isnull()\n",
        "print(na_values)\n",
        "print('---------------------------------------------')\n",
        "print(na_values.describe())"
      ],
      "metadata": {
        "colab": {
          "base_uri": "https://localhost:8080/"
        },
        "id": "fudWdgJVw8CY",
        "outputId": "72368d86-22fe-4822-985b-93f5c2565406"
      },
      "execution_count": 51,
      "outputs": [
        {
          "output_type": "stream",
          "name": "stdout",
          "text": [
            "             Open   High  Difference\n",
            "Date                                \n",
            "2016-02-07  False  False        True\n",
            "2016-02-14  False  False       False\n",
            "2016-02-21  False  False       False\n",
            "2016-02-28  False  False       False\n",
            "2016-03-06  False  False       False\n",
            "---------------------------------------------\n",
            "         Open   High Difference\n",
            "count       5      5          5\n",
            "unique      1      1          2\n",
            "top     False  False      False\n",
            "freq        5      5          4\n"
          ]
        }
      ]
    },
    {
      "cell_type": "markdown",
      "metadata": {
        "id": "d6KFV4i0QfLW"
      },
      "source": [
        "The row labelled \"unique\" indicates the number of unique values in each column. Since the \"rate_return\" column has 2 unique values, it has at least one missing value.\n",
        "\n",
        "We can deduce the number of missing values by comparing \"count\" with \"freq\". There are 12 counts and 11 False values, so there is one True value which corresponds to the missing value.\n",
        "\n",
        "We can also find the rows with missing values easily:"
      ]
    },
    {
      "cell_type": "code",
      "metadata": {
        "colab": {
          "base_uri": "https://localhost:8080/"
        },
        "id": "Eo0ZAhCsHW-B",
        "outputId": "67af3ec8-de7b-468d-8f2d-dece8abae908"
      },
      "source": [
        "#Se consultan valores na más en una columna\n",
        "print(missing[missing.rate_return == True])"
      ],
      "execution_count": 52,
      "outputs": [
        {
          "output_type": "stream",
          "name": "stdout",
          "text": [
            "Empty DataFrame\n",
            "Columns: [Open, High, Difference]\n",
            "Index: []\n"
          ]
        }
      ]
    },
    {
      "cell_type": "code",
      "source": [
        "#Example\n",
        "#Se consultan valores na más en una columna\n",
        "print(na_values[na_values.High == True]) #No se encuentra ninguno en esa columna"
      ],
      "metadata": {
        "id": "I3zybCthxk72"
      },
      "execution_count": null,
      "outputs": []
    },
    {
      "cell_type": "markdown",
      "metadata": {
        "id": "qgggpD8OQkZX"
      },
      "source": [
        "Usually when dealing with missing data, we either delete the whole row or fill it with some value. As we introduced in the Series chapter, the same method **dropna()** and **fillna()** can be applied to a DataFrame."
      ]
    },
    {
      "cell_type": "code",
      "metadata": {
        "colab": {
          "base_uri": "https://localhost:8080/"
        },
        "id": "j8PaIokjHW-B",
        "outputId": "501fd060-83fe-4f98-e5ad-f9b0f41e525c"
      },
      "source": [
        "#Se eliminan los valores na\n",
        "drop = aapl_bar.dropna()\n",
        "print(drop)\n",
        "print('\\n--------------------------------------------------\\n')\n",
        "#Se cambian los na por 0\n",
        "fill = aapl_bar.fillna(0)\n",
        "print(fill)"
      ],
      "execution_count": null,
      "outputs": [
        {
          "output_type": "stream",
          "name": "stdout",
          "text": [
            "                 Open       High        Low      Close  rate_return\n",
            "Date                                                               \n",
            "2016-02-29  22.450761  22.768308  22.402086  22.411358    -0.001288\n",
            "2016-03-31  25.431520  25.473242  25.236819  25.262316     0.127210\n",
            "2016-04-30  21.785529  21.954734  21.442488  21.727583    -0.139921\n",
            "2016-05-31  23.226409  23.412967  23.044516  23.287041     0.071773\n",
            "2016-06-30  22.023112  22.333262  21.990464  22.293619    -0.042660\n",
            "2016-07-31  24.296780  24.380731  24.177849  24.301443     0.090063\n",
            "2016-08-31  24.773054  24.986412  24.768364  24.876215     0.023652\n",
            "2016-09-30  26.367388  26.580747  26.212645  26.505720     0.065505\n",
            "2016-10-31  26.646396  26.782384  26.540888  26.620605     0.004334\n",
            "2016-11-30  26.300094  26.441492  25.986660  26.045576    -0.021601\n",
            "2016-12-31  27.490193  27.619807  27.202683  27.294592     0.047955\n",
            "\n",
            "--------------------------------------------------\n",
            "\n",
            "                 Open       High        Low      Close  rate_return\n",
            "Date                                                               \n",
            "2016-01-31  21.852388  22.440250  21.750952  22.440250     0.000000\n",
            "2016-02-29  22.450761  22.768308  22.402086  22.411358    -0.001288\n",
            "2016-03-31  25.431520  25.473242  25.236819  25.262316     0.127210\n",
            "2016-04-30  21.785529  21.954734  21.442488  21.727583    -0.139921\n",
            "2016-05-31  23.226409  23.412967  23.044516  23.287041     0.071773\n",
            "2016-06-30  22.023112  22.333262  21.990464  22.293619    -0.042660\n",
            "2016-07-31  24.296780  24.380731  24.177849  24.301443     0.090063\n",
            "2016-08-31  24.773054  24.986412  24.768364  24.876215     0.023652\n",
            "2016-09-30  26.367388  26.580747  26.212645  26.505720     0.065505\n",
            "2016-10-31  26.646396  26.782384  26.540888  26.620605     0.004334\n",
            "2016-11-30  26.300094  26.441492  25.986660  26.045576    -0.021601\n",
            "2016-12-31  27.490193  27.619807  27.202683  27.294592     0.047955\n"
          ]
        }
      ]
    },
    {
      "cell_type": "code",
      "source": [
        "#Example\n",
        "#Se eliminan los valores na\n",
        "datdrop = dat_bar.dropna()\n",
        "print(datdrop)\n",
        "print('\\n--------------------------------------------------\\n')\n",
        "#Se cambian los na por 0\n",
        "datfill = dat_bar.fillna(0)\n",
        "print(datfill)"
      ],
      "metadata": {
        "colab": {
          "base_uri": "https://localhost:8080/"
        },
        "id": "uTg6VPGJyHHl",
        "outputId": "bb965473-ef82-4231-e7c2-0f646f05037c"
      },
      "execution_count": 53,
      "outputs": [
        {
          "output_type": "stream",
          "name": "stdout",
          "text": [
            "                  Open        High  Difference\n",
            "Date                                          \n",
            "2016-02-14  690.260010  693.750000  -10.239990\n",
            "2016-02-21  695.030029  703.080994    9.330994\n",
            "2016-02-28  708.580017  713.429993   10.348999\n",
            "2016-03-06  700.320007  710.890015   -2.539978\n",
            "\n",
            "--------------------------------------------------\n",
            "\n",
            "                  Open        High  Difference\n",
            "Date                                          \n",
            "2016-02-07  703.869995  703.989990    0.000000\n",
            "2016-02-14  690.260010  693.750000  -10.239990\n",
            "2016-02-21  695.030029  703.080994    9.330994\n",
            "2016-02-28  708.580017  713.429993   10.348999\n",
            "2016-03-06  700.320007  710.890015   -2.539978\n"
          ]
        }
      ]
    },
    {
      "cell_type": "markdown",
      "metadata": {
        "id": "0tvoFlKWQxYG"
      },
      "source": [
        "## DataFrame Concat\n",
        "We have seen how to extract a Series from a dataFrame. Now we need to consider how to merge a Series or a DataFrame into another one.\n",
        "\n",
        "In Pandas, the function **concat()** allows us to merge multiple Series into a DataFrame:"
      ]
    },
    {
      "cell_type": "code",
      "metadata": {
        "colab": {
          "base_uri": "https://localhost:8080/"
        },
        "id": "uQrmLIWKHW-C",
        "outputId": "6e25a419-88a8-4df1-a025-f9f583699b4c"
      },
      "source": [
        "#Se crean dos \"Series\"\n",
        "s1 = pd.Series([143.5, 144.09, 142.73, 144.18, 143.77], name = 'AAPL')\n",
        "s2 = pd.Series([898.7, 911.71, 906.69, 918.59, 926.99], name = 'GOOG')\n",
        "#Se concatenan las dos Series y se crea un Data Frame\n",
        "data_frame = pd.concat([s1,s2], axis = 1)\n",
        "print(data_frame)"
      ],
      "execution_count": null,
      "outputs": [
        {
          "output_type": "stream",
          "name": "stdout",
          "text": [
            "     AAPL    GOOG\n",
            "0  143.50  898.70\n",
            "1  144.09  911.71\n",
            "2  142.73  906.69\n",
            "3  144.18  918.59\n",
            "4  143.77  926.99\n"
          ]
        }
      ]
    },
    {
      "cell_type": "code",
      "source": [
        "#Example\n",
        "#Se crean dos diccionarios\n",
        "contacts1 = {'Pedro': [765432, 'School'], 'Martina': ['Work', 876549], 'Cristina': [1234567, 'Home'], 'Mario': [7656425, 'Home']}\n",
        "contacts2 = {'Liliana': [978654, 'School'], 'Carlos': ['Work', 786545], 'Santiago': [87654, 'Home'], 'Mario': [98878, 'Work']}\n",
        "#Se crean dos \"Series\"\n",
        "serie1 = pd.Series(contacts1)\n",
        "serie2 = pd.Series(contacts2)\n",
        "#Se concatenan las dos Series y se crea un Data Frame\n",
        "df = pd.concat([serie1,serie2], axis = 1)\n",
        "print(df)"
      ],
      "metadata": {
        "colab": {
          "base_uri": "https://localhost:8080/"
        },
        "id": "4clf6Ni_ygbn",
        "outputId": "ee18737d-f81c-427e-e069-fdd7b64e93aa"
      },
      "execution_count": 57,
      "outputs": [
        {
          "output_type": "stream",
          "name": "stdout",
          "text": [
            "                         0                 1\n",
            "Pedro     [765432, School]               NaN\n",
            "Martina     [Work, 876549]               NaN\n",
            "Cristina   [1234567, Home]               NaN\n",
            "Mario      [7656425, Home]     [98878, Work]\n",
            "Liliana                NaN  [978654, School]\n",
            "Carlos                 NaN    [Work, 786545]\n",
            "Santiago               NaN     [87654, Home]\n"
          ]
        }
      ]
    },
    {
      "cell_type": "markdown",
      "metadata": {
        "id": "3ojbNYJLR2vv"
      },
      "source": [
        "The \"axis = 1\" parameter will join two DataFrames by columns:"
      ]
    },
    {
      "cell_type": "code",
      "metadata": {
        "colab": {
          "base_uri": "https://localhost:8080/"
        },
        "id": "DJsaLd-cRoIm",
        "outputId": "5eecb75d-1d7d-47db-daba-e5fe5b0e009b"
      },
      "source": [
        "#Se calcula el ln() de los valores de cierre\n",
        "log_price = np.log(aapl_bar.Close)\n",
        "#Se le asigna un nombre\n",
        "log_price.name = 'log_price'\n",
        "print(log_price)\n",
        "print('\\n---------------------- separate line--------------------\\n')\n",
        "#Se concatena al Data Frame\n",
        "concat = pd.concat([aapl_bar, log_price], axis = 1)\n",
        "print(concat)"
      ],
      "execution_count": null,
      "outputs": [
        {
          "output_type": "stream",
          "name": "stdout",
          "text": [
            "Date\n",
            "2016-01-31    3.110856\n",
            "2016-02-29    3.109568\n",
            "2016-03-31    3.229314\n",
            "2016-04-30    3.078583\n",
            "2016-05-31    3.147897\n",
            "2016-06-30    3.104301\n",
            "2016-07-31    3.190536\n",
            "2016-08-31    3.213912\n",
            "2016-09-30    3.277361\n",
            "2016-10-31    3.281686\n",
            "2016-11-30    3.259848\n",
            "2016-12-31    3.306689\n",
            "Freq: M, Name: log_price, dtype: float64\n",
            "\n",
            "---------------------- separate line--------------------\n",
            "\n",
            "                 Open       High        Low      Close  rate_return  log_price\n",
            "Date                                                                          \n",
            "2016-01-31  21.852388  22.440250  21.750952  22.440250          NaN   3.110856\n",
            "2016-02-29  22.450761  22.768308  22.402086  22.411358    -0.001288   3.109568\n",
            "2016-03-31  25.431520  25.473242  25.236819  25.262316     0.127210   3.229314\n",
            "2016-04-30  21.785529  21.954734  21.442488  21.727583    -0.139921   3.078583\n",
            "2016-05-31  23.226409  23.412967  23.044516  23.287041     0.071773   3.147897\n",
            "2016-06-30  22.023112  22.333262  21.990464  22.293619    -0.042660   3.104301\n",
            "2016-07-31  24.296780  24.380731  24.177849  24.301443     0.090063   3.190536\n",
            "2016-08-31  24.773054  24.986412  24.768364  24.876215     0.023652   3.213912\n",
            "2016-09-30  26.367388  26.580747  26.212645  26.505720     0.065505   3.277361\n",
            "2016-10-31  26.646396  26.782384  26.540888  26.620605     0.004334   3.281686\n",
            "2016-11-30  26.300094  26.441492  25.986660  26.045576    -0.021601   3.259848\n",
            "2016-12-31  27.490193  27.619807  27.202683  27.294592     0.047955   3.306689\n"
          ]
        }
      ]
    },
    {
      "cell_type": "code",
      "source": [
        "#Example\n",
        "#Se calcula el logaritmo natural de los valores de cierre\n",
        "log_val = np.log(dat_bar.High)\n",
        "#Se le asigna un nombre\n",
        "log_val.name = 'log_val'\n",
        "print(log_val)\n",
        "print('\\n---------------------- separate line--------------------\\n')\n",
        "#Se concatena al Data Frame\n",
        "concat = pd.concat([dat_bar, log_val], axis = 1)\n",
        "print(concat)"
      ],
      "metadata": {
        "colab": {
          "base_uri": "https://localhost:8080/"
        },
        "id": "K-76kQaSzn1_",
        "outputId": "1af742a6-e712-4189-a5fe-c5247e88bb45"
      },
      "execution_count": 61,
      "outputs": [
        {
          "output_type": "stream",
          "name": "stdout",
          "text": [
            "Date\n",
            "2016-02-07    6.556764\n",
            "2016-02-14    6.542112\n",
            "2016-02-21    6.555472\n",
            "2016-02-28    6.570084\n",
            "2016-03-06    6.566518\n",
            "Freq: W-SUN, Name: log_val, dtype: float64\n",
            "\n",
            "---------------------- separate line--------------------\n",
            "\n",
            "                  Open        High  Difference   log_val\n",
            "Date                                                    \n",
            "2016-02-07  703.869995  703.989990         NaN  6.556764\n",
            "2016-02-14  690.260010  693.750000  -10.239990  6.542112\n",
            "2016-02-21  695.030029  703.080994    9.330994  6.555472\n",
            "2016-02-28  708.580017  713.429993   10.348999  6.570084\n",
            "2016-03-06  700.320007  710.890015   -2.539978  6.566518\n"
          ]
        }
      ]
    },
    {
      "cell_type": "markdown",
      "metadata": {
        "id": "mIZz-FUyR_62"
      },
      "source": [
        "We can also join two DataFrames by rows. Consider these two DataFrames:"
      ]
    },
    {
      "cell_type": "code",
      "metadata": {
        "colab": {
          "base_uri": "https://localhost:8080/"
        },
        "id": "W7uXZptLHW-C",
        "outputId": "293e68e0-a71f-4ca3-bf8d-944cb833fe78"
      },
      "source": [
        "#Se calcula el valor del último día por mes de un rango de fechas en específico de una columnas específicas\n",
        "df_volume = aapl_table.loc['2016-10':'2017-04',['Volume', 'Stock Splits']].resample('M').agg(lambda x: x[-1])\n",
        "print(df_volume)\n",
        "print('\\n---------------------- separate line--------------------\\n')\n",
        "df_2017 = aapl_table.loc['2016-10':'2017-04',['Open', 'High', 'Low', 'Close']].resample('M').agg(lambda x: x[-1])\n",
        "print(df_2017)"
      ],
      "execution_count": null,
      "outputs": [
        {
          "output_type": "stream",
          "name": "stdout",
          "text": [
            "               Volume  Stock Splits\n",
            "Date                               \n",
            "2016-10-31  105677600             0\n",
            "2016-11-30  144649200             0\n",
            "2016-12-31  122345200             0\n",
            "2017-01-31  196804000             0\n",
            "2017-02-28   93931600             0\n",
            "2017-03-31   78646800             0\n",
            "2017-04-30   83441600             0\n",
            "\n",
            "---------------------- separate line--------------------\n",
            "\n",
            "                 Open       High        Low      Close\n",
            "Date                                                  \n",
            "2016-10-31  26.646396  26.782384  26.540888  26.620605\n",
            "2016-11-30  26.300094  26.441492  25.986660  26.045576\n",
            "2016-12-31  27.490193  27.619807  27.202683  27.294592\n",
            "2017-01-31  28.550684  28.607243  28.425783  28.597816\n",
            "2017-02-28  32.444862  32.530069  32.354920  32.423561\n",
            "2017-03-31  34.016455  34.146633  33.848407  34.002254\n",
            "2017-04-30  34.104032  34.153737  33.909951  33.999889\n"
          ]
        }
      ]
    },
    {
      "cell_type": "code",
      "source": [
        "#Example\n",
        "#Se calcula el valor del último día por semana de un rango de fechas en específico de una columnas específicas\n",
        "volume = table.loc['2016-10':'2017-04',['Volume', 'Stock Splits']].resample('W').agg(lambda x: x[-1])\n",
        "print(volume)\n",
        "print('\\n---------------------- separate line--------------------\\n')\n",
        "df_2017 = table.loc['2016-10':'2017-04',['Open', 'High', 'Low', 'Close']].resample('M').agg(lambda x: x[-1])\n",
        "print(df_2017)"
      ],
      "metadata": {
        "colab": {
          "base_uri": "https://localhost:8080/"
        },
        "id": "Ml16QkNO0V9i",
        "outputId": "cbd099be-ed9e-4455-9c0e-c2bcfbeef69d"
      },
      "execution_count": 62,
      "outputs": [
        {
          "output_type": "stream",
          "name": "stdout",
          "text": [
            "             Volume  Stock Splits\n",
            "Date                             \n",
            "2016-10-09   933200             0\n",
            "2016-10-16   852500             0\n",
            "2016-10-23  1266200             0\n",
            "2016-10-30  4269900             0\n",
            "2016-11-06  2134800             0\n",
            "2016-11-13  2431800             0\n",
            "2016-11-20  1547100             0\n",
            "2016-11-27   587400             0\n",
            "2016-12-04  1452500             0\n",
            "2016-12-11  1821900             0\n",
            "2016-12-18  2443800             0\n",
            "2016-12-25   623400             0\n",
            "2017-01-01  1770000             0\n",
            "2017-01-08  1640200             0\n",
            "2017-01-15  1099200             0\n",
            "2017-01-22  1670000             0\n",
            "2017-01-29  2965800             0\n",
            "2017-02-05  1463400             0\n",
            "2017-02-12  1135000             0\n",
            "2017-02-19  1611000             0\n",
            "2017-02-26  1392200             0\n",
            "2017-03-05   896400             0\n",
            "2017-03-12  1704000             0\n",
            "2017-03-19  1712300             0\n",
            "2017-03-26  1981000             0\n",
            "2017-04-02  1401900             0\n",
            "2017-04-09  1057300             0\n",
            "2017-04-16  1122400             0\n",
            "2017-04-23  1323600             0\n",
            "2017-04-30  3276300             0\n",
            "\n",
            "---------------------- separate line--------------------\n",
            "\n",
            "                  Open        High         Low       Close\n",
            "Date                                                      \n",
            "2016-10-31  795.469971  796.859985  784.000000  784.539978\n",
            "2016-11-30  770.070007  772.989990  754.830017  758.039978\n",
            "2016-12-31  782.750000  782.780029  770.409973  771.820007\n",
            "2017-01-31  796.859985  801.250000  790.520020  796.789978\n",
            "2017-02-28  825.609985  828.539978  820.200012  823.210022\n",
            "2017-03-31  828.969971  831.640015  827.390015  829.559998\n",
            "2017-04-30  910.659973  916.849976  905.770020  905.960022\n"
          ]
        }
      ]
    },
    {
      "cell_type": "markdown",
      "metadata": {
        "id": "iZk_C9aSSLeP"
      },
      "source": [
        "Now we merge the DataFrames with our DataFrame 'aapl_bar'"
      ]
    },
    {
      "cell_type": "code",
      "metadata": {
        "colab": {
          "base_uri": "https://localhost:8080/"
        },
        "id": "aFqmjokOHW-C",
        "outputId": "0b04d7bc-221c-46eb-c6b8-4a7feca2f531"
      },
      "source": [
        "#Se concatena lo hecho previamente en el Data Frame\n",
        "concat = pd.concat([aapl_bar, df_volume], axis = 1)\n",
        "print(concat)"
      ],
      "execution_count": null,
      "outputs": [
        {
          "output_type": "stream",
          "name": "stdout",
          "text": [
            "                 Open       High  ...       Volume  Stock Splits\n",
            "Date                              ...                           \n",
            "2016-01-31  21.852388  22.440250  ...          NaN           NaN\n",
            "2016-02-29  22.450761  22.768308  ...          NaN           NaN\n",
            "2016-03-31  25.431520  25.473242  ...          NaN           NaN\n",
            "2016-04-30  21.785529  21.954734  ...          NaN           NaN\n",
            "2016-05-31  23.226409  23.412967  ...          NaN           NaN\n",
            "2016-06-30  22.023112  22.333262  ...          NaN           NaN\n",
            "2016-07-31  24.296780  24.380731  ...          NaN           NaN\n",
            "2016-08-31  24.773054  24.986412  ...          NaN           NaN\n",
            "2016-09-30  26.367388  26.580747  ...          NaN           NaN\n",
            "2016-10-31  26.646396  26.782384  ...  105677600.0           0.0\n",
            "2016-11-30  26.300094  26.441492  ...  144649200.0           0.0\n",
            "2016-12-31  27.490193  27.619807  ...  122345200.0           0.0\n",
            "2017-01-31        NaN        NaN  ...  196804000.0           0.0\n",
            "2017-02-28        NaN        NaN  ...   93931600.0           0.0\n",
            "2017-03-31        NaN        NaN  ...   78646800.0           0.0\n",
            "2017-04-30        NaN        NaN  ...   83441600.0           0.0\n",
            "\n",
            "[16 rows x 7 columns]\n"
          ]
        }
      ]
    },
    {
      "cell_type": "code",
      "source": [
        "#Example\n",
        "#Se concatena lo hecho previamente en el Data Frame\n",
        "concat = pd.concat([dat_bar, volume], axis = 1)\n",
        "print(concat)"
      ],
      "metadata": {
        "colab": {
          "base_uri": "https://localhost:8080/"
        },
        "id": "Jw26nZqK0qV4",
        "outputId": "35ae2807-b61c-4c95-f3a2-c1dc7b3f7895"
      },
      "execution_count": 63,
      "outputs": [
        {
          "output_type": "stream",
          "name": "stdout",
          "text": [
            "                  Open        High  Difference     Volume  Stock Splits\n",
            "Date                                                                   \n",
            "2016-02-07  703.869995  703.989990         NaN        NaN           NaN\n",
            "2016-02-14  690.260010  693.750000  -10.239990        NaN           NaN\n",
            "2016-02-21  695.030029  703.080994    9.330994        NaN           NaN\n",
            "2016-02-28  708.580017  713.429993   10.348999        NaN           NaN\n",
            "2016-03-06  700.320007  710.890015   -2.539978        NaN           NaN\n",
            "2016-10-09         NaN         NaN         NaN   933200.0           0.0\n",
            "2016-10-16         NaN         NaN         NaN   852500.0           0.0\n",
            "2016-10-23         NaN         NaN         NaN  1266200.0           0.0\n",
            "2016-10-30         NaN         NaN         NaN  4269900.0           0.0\n",
            "2016-11-06         NaN         NaN         NaN  2134800.0           0.0\n",
            "2016-11-13         NaN         NaN         NaN  2431800.0           0.0\n",
            "2016-11-20         NaN         NaN         NaN  1547100.0           0.0\n",
            "2016-11-27         NaN         NaN         NaN   587400.0           0.0\n",
            "2016-12-04         NaN         NaN         NaN  1452500.0           0.0\n",
            "2016-12-11         NaN         NaN         NaN  1821900.0           0.0\n",
            "2016-12-18         NaN         NaN         NaN  2443800.0           0.0\n",
            "2016-12-25         NaN         NaN         NaN   623400.0           0.0\n",
            "2017-01-01         NaN         NaN         NaN  1770000.0           0.0\n",
            "2017-01-08         NaN         NaN         NaN  1640200.0           0.0\n",
            "2017-01-15         NaN         NaN         NaN  1099200.0           0.0\n",
            "2017-01-22         NaN         NaN         NaN  1670000.0           0.0\n",
            "2017-01-29         NaN         NaN         NaN  2965800.0           0.0\n",
            "2017-02-05         NaN         NaN         NaN  1463400.0           0.0\n",
            "2017-02-12         NaN         NaN         NaN  1135000.0           0.0\n",
            "2017-02-19         NaN         NaN         NaN  1611000.0           0.0\n",
            "2017-02-26         NaN         NaN         NaN  1392200.0           0.0\n",
            "2017-03-05         NaN         NaN         NaN   896400.0           0.0\n",
            "2017-03-12         NaN         NaN         NaN  1704000.0           0.0\n",
            "2017-03-19         NaN         NaN         NaN  1712300.0           0.0\n",
            "2017-03-26         NaN         NaN         NaN  1981000.0           0.0\n",
            "2017-04-02         NaN         NaN         NaN  1401900.0           0.0\n",
            "2017-04-09         NaN         NaN         NaN  1057300.0           0.0\n",
            "2017-04-16         NaN         NaN         NaN  1122400.0           0.0\n",
            "2017-04-23         NaN         NaN         NaN  1323600.0           0.0\n",
            "2017-04-30         NaN         NaN         NaN  3276300.0           0.0\n"
          ]
        }
      ]
    },
    {
      "cell_type": "markdown",
      "metadata": {
        "id": "7yI3tgB4SR4O"
      },
      "source": [
        "By default the DataFrame are joined with all of the data. This default options results in zero information loss. We can also merge them by intersection, this is called 'inner join"
      ]
    },
    {
      "cell_type": "code",
      "metadata": {
        "colab": {
          "base_uri": "https://localhost:8080/"
        },
        "id": "31QGLyijHW-C",
        "outputId": "5da6383a-4f02-4d76-8bdf-a3845a8ee40b"
      },
      "source": [
        "#Se realiza la operación inner join\n",
        "concat = pd.concat([aapl_bar,df_volume],axis = 1, join = 'inner')\n",
        "print(concat)"
      ],
      "execution_count": null,
      "outputs": [
        {
          "output_type": "stream",
          "name": "stdout",
          "text": [
            "                 Open       High  ...     Volume  Stock Splits\n",
            "Date                              ...                         \n",
            "2016-10-31  26.646396  26.782384  ...  105677600             0\n",
            "2016-11-30  26.300094  26.441492  ...  144649200             0\n",
            "2016-12-31  27.490193  27.619807  ...  122345200             0\n",
            "\n",
            "[3 rows x 7 columns]\n"
          ]
        }
      ]
    },
    {
      "cell_type": "code",
      "source": [
        "#Example\n",
        "#Se realiza la operación inner join\n",
        "concat = pd.concat([dat_bar,volume],axis = 1, join = 'inner')\n",
        "print(concat) #No hay intersecciones"
      ],
      "metadata": {
        "colab": {
          "base_uri": "https://localhost:8080/"
        },
        "id": "s81ef0td07rJ",
        "outputId": "833d58e8-f07d-4c32-cafe-40be456e2378"
      },
      "execution_count": 64,
      "outputs": [
        {
          "output_type": "stream",
          "name": "stdout",
          "text": [
            "Empty DataFrame\n",
            "Columns: [Open, High, Difference, Volume, Stock Splits]\n",
            "Index: []\n"
          ]
        }
      ]
    },
    {
      "cell_type": "markdown",
      "metadata": {
        "id": "oudcWMm5Sd0u"
      },
      "source": [
        "Only the intersection part was left if use 'inner join' method. Now let's try to append a DataFrame to another one:"
      ]
    },
    {
      "cell_type": "code",
      "metadata": {
        "colab": {
          "base_uri": "https://localhost:8080/"
        },
        "id": "lgw0qaOsHW-D",
        "outputId": "d6287ecf-8c47-4367-9f14-5b47625de02b"
      },
      "source": [
        "#Se adjunta una serie de datos\n",
        "append = aapl_bar.append(df_2017)\n",
        "print(append)"
      ],
      "execution_count": null,
      "outputs": [
        {
          "output_type": "stream",
          "name": "stdout",
          "text": [
            "                 Open       High        Low      Close  rate_return\n",
            "Date                                                               \n",
            "2016-01-31  21.852388  22.440250  21.750952  22.440250          NaN\n",
            "2016-02-29  22.450761  22.768308  22.402086  22.411358    -0.001288\n",
            "2016-03-31  25.431520  25.473242  25.236819  25.262316     0.127210\n",
            "2016-04-30  21.785529  21.954734  21.442488  21.727583    -0.139921\n",
            "2016-05-31  23.226409  23.412967  23.044516  23.287041     0.071773\n",
            "2016-06-30  22.023112  22.333262  21.990464  22.293619    -0.042660\n",
            "2016-07-31  24.296780  24.380731  24.177849  24.301443     0.090063\n",
            "2016-08-31  24.773054  24.986412  24.768364  24.876215     0.023652\n",
            "2016-09-30  26.367388  26.580747  26.212645  26.505720     0.065505\n",
            "2016-10-31  26.646396  26.782384  26.540888  26.620605     0.004334\n",
            "2016-11-30  26.300094  26.441492  25.986660  26.045576    -0.021601\n",
            "2016-12-31  27.490193  27.619807  27.202683  27.294592     0.047955\n",
            "2016-10-31  26.646396  26.782384  26.540888  26.620605          NaN\n",
            "2016-11-30  26.300094  26.441492  25.986660  26.045576          NaN\n",
            "2016-12-31  27.490193  27.619807  27.202683  27.294592          NaN\n",
            "2017-01-31  28.550684  28.607243  28.425783  28.597816          NaN\n",
            "2017-02-28  32.444862  32.530069  32.354920  32.423561          NaN\n",
            "2017-03-31  34.016455  34.146633  33.848407  34.002254          NaN\n",
            "2017-04-30  34.104032  34.153737  33.909951  33.999889          NaN\n"
          ]
        }
      ]
    },
    {
      "cell_type": "code",
      "source": [
        "#Se adjunta una serie de datos\n",
        "append = dat_bar.append(df_2017)\n",
        "print(append)"
      ],
      "metadata": {
        "colab": {
          "base_uri": "https://localhost:8080/"
        },
        "id": "_ygvS-tW1KZi",
        "outputId": "62c42a36-2906-4f9c-a5a8-8de4e38b93ab"
      },
      "execution_count": 65,
      "outputs": [
        {
          "output_type": "stream",
          "name": "stdout",
          "text": [
            "                  Open        High  Difference         Low       Close\n",
            "Date                                                                  \n",
            "2016-02-07  703.869995  703.989990         NaN         NaN         NaN\n",
            "2016-02-14  690.260010  693.750000  -10.239990         NaN         NaN\n",
            "2016-02-21  695.030029  703.080994    9.330994         NaN         NaN\n",
            "2016-02-28  708.580017  713.429993   10.348999         NaN         NaN\n",
            "2016-03-06  700.320007  710.890015   -2.539978         NaN         NaN\n",
            "2016-10-31  795.469971  796.859985         NaN  784.000000  784.539978\n",
            "2016-11-30  770.070007  772.989990         NaN  754.830017  758.039978\n",
            "2016-12-31  782.750000  782.780029         NaN  770.409973  771.820007\n",
            "2017-01-31  796.859985  801.250000         NaN  790.520020  796.789978\n",
            "2017-02-28  825.609985  828.539978         NaN  820.200012  823.210022\n",
            "2017-03-31  828.969971  831.640015         NaN  827.390015  829.559998\n",
            "2017-04-30  910.659973  916.849976         NaN  905.770020  905.960022\n"
          ]
        }
      ]
    },
    {
      "cell_type": "markdown",
      "metadata": {
        "id": "zXT6cMquSq_P"
      },
      "source": [
        "'Append' is essentially to concat two DataFrames by axis = 0, thus here is an alternative way to append:"
      ]
    },
    {
      "cell_type": "code",
      "metadata": {
        "colab": {
          "base_uri": "https://localhost:8080/"
        },
        "id": "2EuSaFO9HW-D",
        "outputId": "3bd6dad7-022a-4c62-d049-24c219feab39"
      },
      "source": [
        "#Se puede adjuntar de diferentes maneras\n",
        "concat = pd.concat([aapl_bar, df_2017], axis = 0)\n",
        "print(concat)"
      ],
      "execution_count": null,
      "outputs": [
        {
          "output_type": "stream",
          "name": "stdout",
          "text": [
            "                 Open       High        Low      Close  rate_return\n",
            "Date                                                               \n",
            "2016-01-31  21.852388  22.440250  21.750952  22.440250          NaN\n",
            "2016-02-29  22.450761  22.768308  22.402086  22.411358    -0.001288\n",
            "2016-03-31  25.431520  25.473242  25.236819  25.262316     0.127210\n",
            "2016-04-30  21.785529  21.954734  21.442488  21.727583    -0.139921\n",
            "2016-05-31  23.226409  23.412967  23.044516  23.287041     0.071773\n",
            "2016-06-30  22.023112  22.333262  21.990464  22.293619    -0.042660\n",
            "2016-07-31  24.296780  24.380731  24.177849  24.301443     0.090063\n",
            "2016-08-31  24.773054  24.986412  24.768364  24.876215     0.023652\n",
            "2016-09-30  26.367388  26.580747  26.212645  26.505720     0.065505\n",
            "2016-10-31  26.646396  26.782384  26.540888  26.620605     0.004334\n",
            "2016-11-30  26.300094  26.441492  25.986660  26.045576    -0.021601\n",
            "2016-12-31  27.490193  27.619807  27.202683  27.294592     0.047955\n",
            "2016-10-31  26.646396  26.782384  26.540888  26.620605          NaN\n",
            "2016-11-30  26.300094  26.441492  25.986660  26.045576          NaN\n",
            "2016-12-31  27.490193  27.619807  27.202683  27.294592          NaN\n",
            "2017-01-31  28.550684  28.607243  28.425783  28.597816          NaN\n",
            "2017-02-28  32.444862  32.530069  32.354920  32.423561          NaN\n",
            "2017-03-31  34.016455  34.146633  33.848407  34.002254          NaN\n",
            "2017-04-30  34.104032  34.153737  33.909951  33.999889          NaN\n"
          ]
        }
      ]
    },
    {
      "cell_type": "code",
      "source": [
        "#Se puede adjuntar de diferentes maneras\n",
        "concat = pd.concat([dat_bar, df_2017], axis = 0)\n",
        "print(concat)"
      ],
      "metadata": {
        "colab": {
          "base_uri": "https://localhost:8080/"
        },
        "id": "-YLPnqm21SqD",
        "outputId": "ce9f1db5-5252-4838-dee8-563e4bcd47df"
      },
      "execution_count": 67,
      "outputs": [
        {
          "output_type": "stream",
          "name": "stdout",
          "text": [
            "                  Open        High  Difference         Low       Close\n",
            "Date                                                                  \n",
            "2016-02-07  703.869995  703.989990         NaN         NaN         NaN\n",
            "2016-02-14  690.260010  693.750000  -10.239990         NaN         NaN\n",
            "2016-02-21  695.030029  703.080994    9.330994         NaN         NaN\n",
            "2016-02-28  708.580017  713.429993   10.348999         NaN         NaN\n",
            "2016-03-06  700.320007  710.890015   -2.539978         NaN         NaN\n",
            "2016-10-31  795.469971  796.859985         NaN  784.000000  784.539978\n",
            "2016-11-30  770.070007  772.989990         NaN  754.830017  758.039978\n",
            "2016-12-31  782.750000  782.780029         NaN  770.409973  771.820007\n",
            "2017-01-31  796.859985  801.250000         NaN  790.520020  796.789978\n",
            "2017-02-28  825.609985  828.539978         NaN  820.200012  823.210022\n",
            "2017-03-31  828.969971  831.640015         NaN  827.390015  829.559998\n",
            "2017-04-30  910.659973  916.849976         NaN  905.770020  905.960022\n"
          ]
        }
      ]
    },
    {
      "cell_type": "markdown",
      "metadata": {
        "id": "-YXL7V9ASst9"
      },
      "source": [
        "Please note that if the two DataFrame have some columns with the same column names, these columns are considered to be the same and will be merged. It's very important to have the right column names. If we change a column names here:"
      ]
    },
    {
      "cell_type": "code",
      "metadata": {
        "colab": {
          "base_uri": "https://localhost:8080/"
        },
        "id": "aT1eoa8mHW-D",
        "outputId": "66a329f7-4d47-4e21-d1bb-73f24346ef24"
      },
      "source": [
        "#Se pueden mezclar dos columnas si se concatenan dos data frames que tengan el mismo nombre de columnas\n",
        "df_2017.columns = ['Change', 'High','Low','Close']\n",
        "concat = pd.concat([aapl_bar, df_2017], axis = 0)\n",
        "print(concat)"
      ],
      "execution_count": null,
      "outputs": [
        {
          "output_type": "stream",
          "name": "stdout",
          "text": [
            "                 Open       High        Low      Close  rate_return     Change\n",
            "Date                                                                          \n",
            "2016-01-31  21.852388  22.440250  21.750952  22.440250          NaN        NaN\n",
            "2016-02-29  22.450761  22.768308  22.402086  22.411358    -0.001288        NaN\n",
            "2016-03-31  25.431520  25.473242  25.236819  25.262316     0.127210        NaN\n",
            "2016-04-30  21.785529  21.954734  21.442488  21.727583    -0.139921        NaN\n",
            "2016-05-31  23.226409  23.412967  23.044516  23.287041     0.071773        NaN\n",
            "2016-06-30  22.023112  22.333262  21.990464  22.293619    -0.042660        NaN\n",
            "2016-07-31  24.296780  24.380731  24.177849  24.301443     0.090063        NaN\n",
            "2016-08-31  24.773054  24.986412  24.768364  24.876215     0.023652        NaN\n",
            "2016-09-30  26.367388  26.580747  26.212645  26.505720     0.065505        NaN\n",
            "2016-10-31  26.646396  26.782384  26.540888  26.620605     0.004334        NaN\n",
            "2016-11-30  26.300094  26.441492  25.986660  26.045576    -0.021601        NaN\n",
            "2016-12-31  27.490193  27.619807  27.202683  27.294592     0.047955        NaN\n",
            "2016-10-31        NaN  26.782384  26.540888  26.620605          NaN  26.646396\n",
            "2016-11-30        NaN  26.441492  25.986660  26.045576          NaN  26.300094\n",
            "2016-12-31        NaN  27.619807  27.202683  27.294592          NaN  27.490193\n",
            "2017-01-31        NaN  28.607243  28.425783  28.597816          NaN  28.550684\n",
            "2017-02-28        NaN  32.530069  32.354920  32.423561          NaN  32.444862\n",
            "2017-03-31        NaN  34.146633  33.848407  34.002254          NaN  34.016455\n",
            "2017-04-30        NaN  34.153737  33.909951  33.999889          NaN  34.104032\n"
          ]
        }
      ]
    },
    {
      "cell_type": "code",
      "source": [
        "#Se pueden mezclar dos columnas si se concatenan dos data frames que tengan el mismo nombre de columnas\n",
        "df_2017.columns = ['Change', 'High','Low','Close']\n",
        "concat = pd.concat([dat_bar, df_2017], axis = 1) #El axis cambia el 'merge' de las columnas\n",
        "print(concat)"
      ],
      "metadata": {
        "colab": {
          "base_uri": "https://localhost:8080/"
        },
        "id": "iQofST0k1pq2",
        "outputId": "1afaaf22-a872-445e-a4ef-44f126b9a258"
      },
      "execution_count": 68,
      "outputs": [
        {
          "output_type": "stream",
          "name": "stdout",
          "text": [
            "                  Open        High  Difference      Change        High  \\\n",
            "Date                                                                     \n",
            "2016-02-07  703.869995  703.989990         NaN         NaN         NaN   \n",
            "2016-02-14  690.260010  693.750000  -10.239990         NaN         NaN   \n",
            "2016-02-21  695.030029  703.080994    9.330994         NaN         NaN   \n",
            "2016-02-28  708.580017  713.429993   10.348999         NaN         NaN   \n",
            "2016-03-06  700.320007  710.890015   -2.539978         NaN         NaN   \n",
            "2016-10-31         NaN         NaN         NaN  795.469971  796.859985   \n",
            "2016-11-30         NaN         NaN         NaN  770.070007  772.989990   \n",
            "2016-12-31         NaN         NaN         NaN  782.750000  782.780029   \n",
            "2017-01-31         NaN         NaN         NaN  796.859985  801.250000   \n",
            "2017-02-28         NaN         NaN         NaN  825.609985  828.539978   \n",
            "2017-03-31         NaN         NaN         NaN  828.969971  831.640015   \n",
            "2017-04-30         NaN         NaN         NaN  910.659973  916.849976   \n",
            "\n",
            "                   Low       Close  \n",
            "Date                                \n",
            "2016-02-07         NaN         NaN  \n",
            "2016-02-14         NaN         NaN  \n",
            "2016-02-21         NaN         NaN  \n",
            "2016-02-28         NaN         NaN  \n",
            "2016-03-06         NaN         NaN  \n",
            "2016-10-31  784.000000  784.539978  \n",
            "2016-11-30  754.830017  758.039978  \n",
            "2016-12-31  770.409973  771.820007  \n",
            "2017-01-31  790.520020  796.789978  \n",
            "2017-02-28  820.200012  823.210022  \n",
            "2017-03-31  827.390015  829.559998  \n",
            "2017-04-30  905.770020  905.960022  \n"
          ]
        }
      ]
    },
    {
      "cell_type": "markdown",
      "metadata": {
        "id": "shbpOFyyS6uV"
      },
      "source": [
        "Since the column name of 'Open' has been changed, the new DataFrame has an new column named 'Change'.\n",
        "\n",
        "# Summary\n",
        "\n",
        "Hereby we introduced the most import part of python: resampling and DataFrame manipulation. We only introduced the most commonly used method in Financial data analysis. There are also many methods used in data mining, which are also beneficial. You can always check the [Pandas](https://pandas.pydata.org/pandas-docs/stable/index.html) official documentations for help."
      ]
    }
  ]
}